{
  "cells": [
    {
      "cell_type": "markdown",
      "metadata": {
        "id": "d0_tz8jhgqvI"
      },
      "source": [
        "INTRODUCTION 🔬\n",
        "\n",
        "---\n",
        "Crime in Los Angeles, like in many major cities, has been a complex and multifaceted issue. Historically, Los Angeles has struggled with various types of crime, including gang-related violence, drug trafficking, property crime, and white-collar crime. However, in recent years, there have been significant efforts by law enforcement agencies and community organizations to address these challenges.\n"
      ]
    },
    {
      "cell_type": "markdown",
      "metadata": {
        "id": "DONTxibw5eTt"
      },
      "source": [
        "***THE PROBLEM STATEMENT***\n",
        "\n",
        "---\n",
        "\n",
        "The main objective of developing a predictive model for classifying the race of individuals involved in criminal activities using LAPD crime data which can fulfill the following:  \n",
        "\n",
        "\n",
        "1.   Crime Prevention Strategy\n",
        "2.   Monitoring and Evalution\n",
        "3.   Better Public Policies\n",
        "\n",
        "\n",
        "\n",
        "---\n",
        "\n",
        "\n",
        "For Evalution Metric, we'll take the following metrics:\n",
        "\n",
        "\n",
        "1.   Precision and Recall\n",
        "2.   Accuracy\n",
        "3.   AOC/ROC Curve\n",
        "\n",
        "\n"
      ]
    },
    {
      "cell_type": "markdown",
      "metadata": {
        "id": "T6xZlwIx8rkW"
      },
      "source": [
        "**IMPORTING DEPENDENCIES**\n",
        "\n",
        "---\n",
        "\n"
      ]
    },
    {
      "cell_type": "code",
      "execution_count": null,
      "metadata": {
        "id": "6WsScV9a72-B"
      },
      "outputs": [],
      "source": [
        "import pandas as pd\n",
        "import numpy as np\n",
        "import matplotlib.pyplot as plt\n",
        "import plotly.express as px\n",
        "import seaborn as sns\n",
        "from catboost import CatBoostClassifier\n",
        "from sklearn.ensemble import RandomForestClassifier\n",
        "from xgboost import XGBClassifier\n",
        "from sklearn.model_selection import GridSearchCV,RandomizedSearchCV\n",
        "from sklearn.impute import SimpleImputer\n",
        "from sklearn.model_selection import train_test_split\n",
        "from sklearn.preprocessing import OneHotEncoder,OrdinalEncoder,StandardScaler,LabelEncoder\n",
        "from sklearn.metrics import accuracy_score\n",
        "from hyperopt import hp,fmin,tpe,STATUS_OK,Trials,anneal\n",
        "from sklearn.linear_model import LogisticRegression\n",
        "from sklearn.metrics import accuracy_score\n",
        "from sklearn.ensemble import RandomForestClassifier,GradientBoostingClassifier,ExtraTreesClassifier\n",
        "from imblearn.over_sampling import SMOTENC\n",
        "from sklearn.feature_selection import SelectFromModel\n",
        "from sklearn.discriminant_analysis import LinearDiscriminantAnalysis\n",
        "from sklearn.model_selection import train_test_split,StratifiedKFold,cross_val_score\n",
        "from sklearn.svm import SVC\n",
        "from sklearn.preprocessing import label_binarize\n",
        "import warnings\n",
        "from sklearn.metrics import classification_report,roc_curve,RocCurveDisplay,auc,roc_auc_score\n",
        "from sklearn.decomposition import PCA\n",
        "warnings.filterwarnings(\"ignore\")\n",
        "\n",
        "pd.set_option('display.max_columns', 100)"
      ]
    },
    {
      "cell_type": "markdown",
      "metadata": {
        "id": "FCysZMiS8mZq"
      },
      "source": [
        "**GETTING THE DATA**\n",
        "\n",
        "---\n",
        "\n"
      ]
    },
    {
      "cell_type": "code",
      "execution_count": null,
      "metadata": {
        "id": "l4OXcwVyiuES",
        "colab": {
          "base_uri": "https://localhost:8080/"
        },
        "outputId": "9a237cc4-e818-4b13-c91b-f786adeb1dc2"
      },
      "outputs": [
        {
          "output_type": "stream",
          "name": "stdout",
          "text": [
            "Drive already mounted at /content/drive; to attempt to forcibly remount, call drive.mount(\"/content/drive\", force_remount=True).\n"
          ]
        }
      ],
      "source": [
        "from google.colab import drive\n",
        "drive.mount('/content/drive')"
      ]
    },
    {
      "cell_type": "code",
      "execution_count": null,
      "metadata": {
        "id": "fYCAxzDM-GJX"
      },
      "outputs": [],
      "source": [
        "df = pd.read_csv('/content/drive/MyDrive/DATASETS.CSV/Crime_Data_from_2020_to_Present.csv')"
      ]
    },
    {
      "cell_type": "code",
      "execution_count": null,
      "metadata": {
        "id": "W7I2OlmY_hRq",
        "colab": {
          "base_uri": "https://localhost:8080/",
          "height": 938
        },
        "outputId": "836026c9-176b-40a2-c363-abf650524e6f"
      },
      "outputs": [
        {
          "output_type": "execute_result",
          "data": {
            "text/plain": [
              "       DR_NO        Date Rptd         DATE OCC  TIME OCC  AREA  AREA NAME  \\\n",
              "0  190326475    3/1/2020 0:00    3/1/2020 0:00      2130     7   Wilshire   \n",
              "1  200106753    2/9/2020 0:00    2/8/2020 0:00      1800     1    Central   \n",
              "2  200320258  11/11/2020 0:00   11/4/2020 0:00      1700     3  Southwest   \n",
              "3  200907217   5/10/2023 0:00   3/10/2020 0:00      2037     9   Van Nuys   \n",
              "4  220614831   8/18/2022 0:00   8/17/2020 0:00      1200     6  Hollywood   \n",
              "5  231808869    4/4/2023 0:00   12/1/2020 0:00      2300    18  Southeast   \n",
              "6  230110144    4/4/2023 0:00    7/3/2020 0:00       900     1    Central   \n",
              "7  220314085   7/22/2022 0:00   5/12/2020 0:00      1110     3  Southwest   \n",
              "8  231309864   4/28/2023 0:00   12/9/2020 0:00      1400    13     Newton   \n",
              "9  211904005  12/31/2020 0:00  12/31/2020 0:00      1220    19    Mission   \n",
              "\n",
              "   Rpt Dist No  Part 1-2  Crm Cd                               Crm Cd Desc  \\\n",
              "0          784         1     510                          VEHICLE - STOLEN   \n",
              "1          182         1     330                     BURGLARY FROM VEHICLE   \n",
              "2          356         1     480                             BIKE - STOLEN   \n",
              "3          964         1     343  SHOPLIFTING-GRAND THEFT ($950.01 & OVER)   \n",
              "4          666         2     354                         THEFT OF IDENTITY   \n",
              "5         1826         2     354                         THEFT OF IDENTITY   \n",
              "6          182         2     354                         THEFT OF IDENTITY   \n",
              "7          303         2     354                         THEFT OF IDENTITY   \n",
              "8         1375         2     354                         THEFT OF IDENTITY   \n",
              "9         1974         2     624                  BATTERY - SIMPLE ASSAULT   \n",
              "\n",
              "               Mocodes  Vict Age Vict Sex  Premis Cd  \\\n",
              "0                  NaN         0        M      101.0   \n",
              "1       1822 1402 0344        47        M      128.0   \n",
              "2            0344 1251        19        X      502.0   \n",
              "3            0325 1501        19        M      405.0   \n",
              "4  1822 1501 0930 2004        28        M      102.0   \n",
              "5  1822 0100 0930 0929        41        M      501.0   \n",
              "6            0930 0929        25        M      502.0   \n",
              "7                  100        27        F      248.0   \n",
              "8                  100        24        F      750.0   \n",
              "9                  416        26        M      502.0   \n",
              "\n",
              "                                    Premis Desc  Weapon Used Cd  \\\n",
              "0                                        STREET             NaN   \n",
              "1             BUS STOP/LAYOVER (ALSO QUERY 124)             NaN   \n",
              "2  MULTI-UNIT DWELLING (APARTMENT, DUPLEX, ETC)             NaN   \n",
              "3                                CLOTHING STORE             NaN   \n",
              "4                                      SIDEWALK             NaN   \n",
              "5                        SINGLE FAMILY DWELLING             NaN   \n",
              "6  MULTI-UNIT DWELLING (APARTMENT, DUPLEX, ETC)             NaN   \n",
              "7                              CELL PHONE STORE             NaN   \n",
              "8                                    CYBERSPACE             NaN   \n",
              "9  MULTI-UNIT DWELLING (APARTMENT, DUPLEX, ETC)           400.0   \n",
              "\n",
              "                                      Weapon Desc Status   Status Desc  \\\n",
              "0                                             NaN     AA  Adult Arrest   \n",
              "1                                             NaN     IC   Invest Cont   \n",
              "2                                             NaN     IC   Invest Cont   \n",
              "3                                             NaN     IC   Invest Cont   \n",
              "4                                             NaN     IC   Invest Cont   \n",
              "5                                             NaN     IC   Invest Cont   \n",
              "6                                             NaN     IC   Invest Cont   \n",
              "7                                             NaN     IC   Invest Cont   \n",
              "8                                             NaN     IC   Invest Cont   \n",
              "9  STRONG-ARM (HANDS, FIST, FEET OR BODILY FORCE)     IC   Invest Cont   \n",
              "\n",
              "   Crm Cd 1  Crm Cd 2  Crm Cd 3  Crm Cd 4  \\\n",
              "0     510.0     998.0       NaN       NaN   \n",
              "1     330.0     998.0       NaN       NaN   \n",
              "2     480.0       NaN       NaN       NaN   \n",
              "3     343.0       NaN       NaN       NaN   \n",
              "4     354.0       NaN       NaN       NaN   \n",
              "5     354.0       NaN       NaN       NaN   \n",
              "6     354.0       NaN       NaN       NaN   \n",
              "7     354.0       NaN       NaN       NaN   \n",
              "8     354.0       NaN       NaN       NaN   \n",
              "9     624.0       NaN       NaN       NaN   \n",
              "\n",
              "                                   LOCATION Cross Street      LAT       LON  \\\n",
              "0   1900 S  LONGWOOD                     AV          NaN  34.0375 -118.3506   \n",
              "1   1000 S  FLOWER                       ST          NaN  34.0444 -118.2628   \n",
              "2   1400 W  37TH                         ST          NaN  34.0210 -118.3002   \n",
              "3  14000    RIVERSIDE                    DR          NaN  34.1576 -118.4387   \n",
              "4                         1900    TRANSIENT          NaN  34.0944 -118.3277   \n",
              "5   9900    COMPTON                      AV          NaN  33.9467 -118.2463   \n",
              "6   1100 S  GRAND                        AV          NaN  34.0415 -118.2620   \n",
              "7   2500 S  SYCAMORE                     AV          NaN  34.0335 -118.3537   \n",
              "8   1300 E  57TH                         ST          NaN  33.9911 -118.2521   \n",
              "9   9000    CEDROS                       AV          NaN  34.2336 -118.4535   \n",
              "\n",
              "  Vict Descent  \n",
              "0            O  \n",
              "1            O  \n",
              "2            X  \n",
              "3            O  \n",
              "4            H  \n",
              "5            H  \n",
              "6            H  \n",
              "7            B  \n",
              "8            B  \n",
              "9            H  "
            ],
            "text/html": [
              "\n",
              "  <div id=\"df-ae366233-2b4e-47df-9d25-ef414f764825\" class=\"colab-df-container\">\n",
              "    <div>\n",
              "<style scoped>\n",
              "    .dataframe tbody tr th:only-of-type {\n",
              "        vertical-align: middle;\n",
              "    }\n",
              "\n",
              "    .dataframe tbody tr th {\n",
              "        vertical-align: top;\n",
              "    }\n",
              "\n",
              "    .dataframe thead th {\n",
              "        text-align: right;\n",
              "    }\n",
              "</style>\n",
              "<table border=\"1\" class=\"dataframe\">\n",
              "  <thead>\n",
              "    <tr style=\"text-align: right;\">\n",
              "      <th></th>\n",
              "      <th>DR_NO</th>\n",
              "      <th>Date Rptd</th>\n",
              "      <th>DATE OCC</th>\n",
              "      <th>TIME OCC</th>\n",
              "      <th>AREA</th>\n",
              "      <th>AREA NAME</th>\n",
              "      <th>Rpt Dist No</th>\n",
              "      <th>Part 1-2</th>\n",
              "      <th>Crm Cd</th>\n",
              "      <th>Crm Cd Desc</th>\n",
              "      <th>Mocodes</th>\n",
              "      <th>Vict Age</th>\n",
              "      <th>Vict Sex</th>\n",
              "      <th>Premis Cd</th>\n",
              "      <th>Premis Desc</th>\n",
              "      <th>Weapon Used Cd</th>\n",
              "      <th>Weapon Desc</th>\n",
              "      <th>Status</th>\n",
              "      <th>Status Desc</th>\n",
              "      <th>Crm Cd 1</th>\n",
              "      <th>Crm Cd 2</th>\n",
              "      <th>Crm Cd 3</th>\n",
              "      <th>Crm Cd 4</th>\n",
              "      <th>LOCATION</th>\n",
              "      <th>Cross Street</th>\n",
              "      <th>LAT</th>\n",
              "      <th>LON</th>\n",
              "      <th>Vict Descent</th>\n",
              "    </tr>\n",
              "  </thead>\n",
              "  <tbody>\n",
              "    <tr>\n",
              "      <th>0</th>\n",
              "      <td>190326475</td>\n",
              "      <td>3/1/2020 0:00</td>\n",
              "      <td>3/1/2020 0:00</td>\n",
              "      <td>2130</td>\n",
              "      <td>7</td>\n",
              "      <td>Wilshire</td>\n",
              "      <td>784</td>\n",
              "      <td>1</td>\n",
              "      <td>510</td>\n",
              "      <td>VEHICLE - STOLEN</td>\n",
              "      <td>NaN</td>\n",
              "      <td>0</td>\n",
              "      <td>M</td>\n",
              "      <td>101.0</td>\n",
              "      <td>STREET</td>\n",
              "      <td>NaN</td>\n",
              "      <td>NaN</td>\n",
              "      <td>AA</td>\n",
              "      <td>Adult Arrest</td>\n",
              "      <td>510.0</td>\n",
              "      <td>998.0</td>\n",
              "      <td>NaN</td>\n",
              "      <td>NaN</td>\n",
              "      <td>1900 S  LONGWOOD                     AV</td>\n",
              "      <td>NaN</td>\n",
              "      <td>34.0375</td>\n",
              "      <td>-118.3506</td>\n",
              "      <td>O</td>\n",
              "    </tr>\n",
              "    <tr>\n",
              "      <th>1</th>\n",
              "      <td>200106753</td>\n",
              "      <td>2/9/2020 0:00</td>\n",
              "      <td>2/8/2020 0:00</td>\n",
              "      <td>1800</td>\n",
              "      <td>1</td>\n",
              "      <td>Central</td>\n",
              "      <td>182</td>\n",
              "      <td>1</td>\n",
              "      <td>330</td>\n",
              "      <td>BURGLARY FROM VEHICLE</td>\n",
              "      <td>1822 1402 0344</td>\n",
              "      <td>47</td>\n",
              "      <td>M</td>\n",
              "      <td>128.0</td>\n",
              "      <td>BUS STOP/LAYOVER (ALSO QUERY 124)</td>\n",
              "      <td>NaN</td>\n",
              "      <td>NaN</td>\n",
              "      <td>IC</td>\n",
              "      <td>Invest Cont</td>\n",
              "      <td>330.0</td>\n",
              "      <td>998.0</td>\n",
              "      <td>NaN</td>\n",
              "      <td>NaN</td>\n",
              "      <td>1000 S  FLOWER                       ST</td>\n",
              "      <td>NaN</td>\n",
              "      <td>34.0444</td>\n",
              "      <td>-118.2628</td>\n",
              "      <td>O</td>\n",
              "    </tr>\n",
              "    <tr>\n",
              "      <th>2</th>\n",
              "      <td>200320258</td>\n",
              "      <td>11/11/2020 0:00</td>\n",
              "      <td>11/4/2020 0:00</td>\n",
              "      <td>1700</td>\n",
              "      <td>3</td>\n",
              "      <td>Southwest</td>\n",
              "      <td>356</td>\n",
              "      <td>1</td>\n",
              "      <td>480</td>\n",
              "      <td>BIKE - STOLEN</td>\n",
              "      <td>0344 1251</td>\n",
              "      <td>19</td>\n",
              "      <td>X</td>\n",
              "      <td>502.0</td>\n",
              "      <td>MULTI-UNIT DWELLING (APARTMENT, DUPLEX, ETC)</td>\n",
              "      <td>NaN</td>\n",
              "      <td>NaN</td>\n",
              "      <td>IC</td>\n",
              "      <td>Invest Cont</td>\n",
              "      <td>480.0</td>\n",
              "      <td>NaN</td>\n",
              "      <td>NaN</td>\n",
              "      <td>NaN</td>\n",
              "      <td>1400 W  37TH                         ST</td>\n",
              "      <td>NaN</td>\n",
              "      <td>34.0210</td>\n",
              "      <td>-118.3002</td>\n",
              "      <td>X</td>\n",
              "    </tr>\n",
              "    <tr>\n",
              "      <th>3</th>\n",
              "      <td>200907217</td>\n",
              "      <td>5/10/2023 0:00</td>\n",
              "      <td>3/10/2020 0:00</td>\n",
              "      <td>2037</td>\n",
              "      <td>9</td>\n",
              "      <td>Van Nuys</td>\n",
              "      <td>964</td>\n",
              "      <td>1</td>\n",
              "      <td>343</td>\n",
              "      <td>SHOPLIFTING-GRAND THEFT ($950.01 &amp; OVER)</td>\n",
              "      <td>0325 1501</td>\n",
              "      <td>19</td>\n",
              "      <td>M</td>\n",
              "      <td>405.0</td>\n",
              "      <td>CLOTHING STORE</td>\n",
              "      <td>NaN</td>\n",
              "      <td>NaN</td>\n",
              "      <td>IC</td>\n",
              "      <td>Invest Cont</td>\n",
              "      <td>343.0</td>\n",
              "      <td>NaN</td>\n",
              "      <td>NaN</td>\n",
              "      <td>NaN</td>\n",
              "      <td>14000    RIVERSIDE                    DR</td>\n",
              "      <td>NaN</td>\n",
              "      <td>34.1576</td>\n",
              "      <td>-118.4387</td>\n",
              "      <td>O</td>\n",
              "    </tr>\n",
              "    <tr>\n",
              "      <th>4</th>\n",
              "      <td>220614831</td>\n",
              "      <td>8/18/2022 0:00</td>\n",
              "      <td>8/17/2020 0:00</td>\n",
              "      <td>1200</td>\n",
              "      <td>6</td>\n",
              "      <td>Hollywood</td>\n",
              "      <td>666</td>\n",
              "      <td>2</td>\n",
              "      <td>354</td>\n",
              "      <td>THEFT OF IDENTITY</td>\n",
              "      <td>1822 1501 0930 2004</td>\n",
              "      <td>28</td>\n",
              "      <td>M</td>\n",
              "      <td>102.0</td>\n",
              "      <td>SIDEWALK</td>\n",
              "      <td>NaN</td>\n",
              "      <td>NaN</td>\n",
              "      <td>IC</td>\n",
              "      <td>Invest Cont</td>\n",
              "      <td>354.0</td>\n",
              "      <td>NaN</td>\n",
              "      <td>NaN</td>\n",
              "      <td>NaN</td>\n",
              "      <td>1900    TRANSIENT</td>\n",
              "      <td>NaN</td>\n",
              "      <td>34.0944</td>\n",
              "      <td>-118.3277</td>\n",
              "      <td>H</td>\n",
              "    </tr>\n",
              "    <tr>\n",
              "      <th>5</th>\n",
              "      <td>231808869</td>\n",
              "      <td>4/4/2023 0:00</td>\n",
              "      <td>12/1/2020 0:00</td>\n",
              "      <td>2300</td>\n",
              "      <td>18</td>\n",
              "      <td>Southeast</td>\n",
              "      <td>1826</td>\n",
              "      <td>2</td>\n",
              "      <td>354</td>\n",
              "      <td>THEFT OF IDENTITY</td>\n",
              "      <td>1822 0100 0930 0929</td>\n",
              "      <td>41</td>\n",
              "      <td>M</td>\n",
              "      <td>501.0</td>\n",
              "      <td>SINGLE FAMILY DWELLING</td>\n",
              "      <td>NaN</td>\n",
              "      <td>NaN</td>\n",
              "      <td>IC</td>\n",
              "      <td>Invest Cont</td>\n",
              "      <td>354.0</td>\n",
              "      <td>NaN</td>\n",
              "      <td>NaN</td>\n",
              "      <td>NaN</td>\n",
              "      <td>9900    COMPTON                      AV</td>\n",
              "      <td>NaN</td>\n",
              "      <td>33.9467</td>\n",
              "      <td>-118.2463</td>\n",
              "      <td>H</td>\n",
              "    </tr>\n",
              "    <tr>\n",
              "      <th>6</th>\n",
              "      <td>230110144</td>\n",
              "      <td>4/4/2023 0:00</td>\n",
              "      <td>7/3/2020 0:00</td>\n",
              "      <td>900</td>\n",
              "      <td>1</td>\n",
              "      <td>Central</td>\n",
              "      <td>182</td>\n",
              "      <td>2</td>\n",
              "      <td>354</td>\n",
              "      <td>THEFT OF IDENTITY</td>\n",
              "      <td>0930 0929</td>\n",
              "      <td>25</td>\n",
              "      <td>M</td>\n",
              "      <td>502.0</td>\n",
              "      <td>MULTI-UNIT DWELLING (APARTMENT, DUPLEX, ETC)</td>\n",
              "      <td>NaN</td>\n",
              "      <td>NaN</td>\n",
              "      <td>IC</td>\n",
              "      <td>Invest Cont</td>\n",
              "      <td>354.0</td>\n",
              "      <td>NaN</td>\n",
              "      <td>NaN</td>\n",
              "      <td>NaN</td>\n",
              "      <td>1100 S  GRAND                        AV</td>\n",
              "      <td>NaN</td>\n",
              "      <td>34.0415</td>\n",
              "      <td>-118.2620</td>\n",
              "      <td>H</td>\n",
              "    </tr>\n",
              "    <tr>\n",
              "      <th>7</th>\n",
              "      <td>220314085</td>\n",
              "      <td>7/22/2022 0:00</td>\n",
              "      <td>5/12/2020 0:00</td>\n",
              "      <td>1110</td>\n",
              "      <td>3</td>\n",
              "      <td>Southwest</td>\n",
              "      <td>303</td>\n",
              "      <td>2</td>\n",
              "      <td>354</td>\n",
              "      <td>THEFT OF IDENTITY</td>\n",
              "      <td>100</td>\n",
              "      <td>27</td>\n",
              "      <td>F</td>\n",
              "      <td>248.0</td>\n",
              "      <td>CELL PHONE STORE</td>\n",
              "      <td>NaN</td>\n",
              "      <td>NaN</td>\n",
              "      <td>IC</td>\n",
              "      <td>Invest Cont</td>\n",
              "      <td>354.0</td>\n",
              "      <td>NaN</td>\n",
              "      <td>NaN</td>\n",
              "      <td>NaN</td>\n",
              "      <td>2500 S  SYCAMORE                     AV</td>\n",
              "      <td>NaN</td>\n",
              "      <td>34.0335</td>\n",
              "      <td>-118.3537</td>\n",
              "      <td>B</td>\n",
              "    </tr>\n",
              "    <tr>\n",
              "      <th>8</th>\n",
              "      <td>231309864</td>\n",
              "      <td>4/28/2023 0:00</td>\n",
              "      <td>12/9/2020 0:00</td>\n",
              "      <td>1400</td>\n",
              "      <td>13</td>\n",
              "      <td>Newton</td>\n",
              "      <td>1375</td>\n",
              "      <td>2</td>\n",
              "      <td>354</td>\n",
              "      <td>THEFT OF IDENTITY</td>\n",
              "      <td>100</td>\n",
              "      <td>24</td>\n",
              "      <td>F</td>\n",
              "      <td>750.0</td>\n",
              "      <td>CYBERSPACE</td>\n",
              "      <td>NaN</td>\n",
              "      <td>NaN</td>\n",
              "      <td>IC</td>\n",
              "      <td>Invest Cont</td>\n",
              "      <td>354.0</td>\n",
              "      <td>NaN</td>\n",
              "      <td>NaN</td>\n",
              "      <td>NaN</td>\n",
              "      <td>1300 E  57TH                         ST</td>\n",
              "      <td>NaN</td>\n",
              "      <td>33.9911</td>\n",
              "      <td>-118.2521</td>\n",
              "      <td>B</td>\n",
              "    </tr>\n",
              "    <tr>\n",
              "      <th>9</th>\n",
              "      <td>211904005</td>\n",
              "      <td>12/31/2020 0:00</td>\n",
              "      <td>12/31/2020 0:00</td>\n",
              "      <td>1220</td>\n",
              "      <td>19</td>\n",
              "      <td>Mission</td>\n",
              "      <td>1974</td>\n",
              "      <td>2</td>\n",
              "      <td>624</td>\n",
              "      <td>BATTERY - SIMPLE ASSAULT</td>\n",
              "      <td>416</td>\n",
              "      <td>26</td>\n",
              "      <td>M</td>\n",
              "      <td>502.0</td>\n",
              "      <td>MULTI-UNIT DWELLING (APARTMENT, DUPLEX, ETC)</td>\n",
              "      <td>400.0</td>\n",
              "      <td>STRONG-ARM (HANDS, FIST, FEET OR BODILY FORCE)</td>\n",
              "      <td>IC</td>\n",
              "      <td>Invest Cont</td>\n",
              "      <td>624.0</td>\n",
              "      <td>NaN</td>\n",
              "      <td>NaN</td>\n",
              "      <td>NaN</td>\n",
              "      <td>9000    CEDROS                       AV</td>\n",
              "      <td>NaN</td>\n",
              "      <td>34.2336</td>\n",
              "      <td>-118.4535</td>\n",
              "      <td>H</td>\n",
              "    </tr>\n",
              "  </tbody>\n",
              "</table>\n",
              "</div>\n",
              "    <div class=\"colab-df-buttons\">\n",
              "\n",
              "  <div class=\"colab-df-container\">\n",
              "    <button class=\"colab-df-convert\" onclick=\"convertToInteractive('df-ae366233-2b4e-47df-9d25-ef414f764825')\"\n",
              "            title=\"Convert this dataframe to an interactive table.\"\n",
              "            style=\"display:none;\">\n",
              "\n",
              "  <svg xmlns=\"http://www.w3.org/2000/svg\" height=\"24px\" viewBox=\"0 -960 960 960\">\n",
              "    <path d=\"M120-120v-720h720v720H120Zm60-500h600v-160H180v160Zm220 220h160v-160H400v160Zm0 220h160v-160H400v160ZM180-400h160v-160H180v160Zm440 0h160v-160H620v160ZM180-180h160v-160H180v160Zm440 0h160v-160H620v160Z\"/>\n",
              "  </svg>\n",
              "    </button>\n",
              "\n",
              "  <style>\n",
              "    .colab-df-container {\n",
              "      display:flex;\n",
              "      gap: 12px;\n",
              "    }\n",
              "\n",
              "    .colab-df-convert {\n",
              "      background-color: #E8F0FE;\n",
              "      border: none;\n",
              "      border-radius: 50%;\n",
              "      cursor: pointer;\n",
              "      display: none;\n",
              "      fill: #1967D2;\n",
              "      height: 32px;\n",
              "      padding: 0 0 0 0;\n",
              "      width: 32px;\n",
              "    }\n",
              "\n",
              "    .colab-df-convert:hover {\n",
              "      background-color: #E2EBFA;\n",
              "      box-shadow: 0px 1px 2px rgba(60, 64, 67, 0.3), 0px 1px 3px 1px rgba(60, 64, 67, 0.15);\n",
              "      fill: #174EA6;\n",
              "    }\n",
              "\n",
              "    .colab-df-buttons div {\n",
              "      margin-bottom: 4px;\n",
              "    }\n",
              "\n",
              "    [theme=dark] .colab-df-convert {\n",
              "      background-color: #3B4455;\n",
              "      fill: #D2E3FC;\n",
              "    }\n",
              "\n",
              "    [theme=dark] .colab-df-convert:hover {\n",
              "      background-color: #434B5C;\n",
              "      box-shadow: 0px 1px 3px 1px rgba(0, 0, 0, 0.15);\n",
              "      filter: drop-shadow(0px 1px 2px rgba(0, 0, 0, 0.3));\n",
              "      fill: #FFFFFF;\n",
              "    }\n",
              "  </style>\n",
              "\n",
              "    <script>\n",
              "      const buttonEl =\n",
              "        document.querySelector('#df-ae366233-2b4e-47df-9d25-ef414f764825 button.colab-df-convert');\n",
              "      buttonEl.style.display =\n",
              "        google.colab.kernel.accessAllowed ? 'block' : 'none';\n",
              "\n",
              "      async function convertToInteractive(key) {\n",
              "        const element = document.querySelector('#df-ae366233-2b4e-47df-9d25-ef414f764825');\n",
              "        const dataTable =\n",
              "          await google.colab.kernel.invokeFunction('convertToInteractive',\n",
              "                                                    [key], {});\n",
              "        if (!dataTable) return;\n",
              "\n",
              "        const docLinkHtml = 'Like what you see? Visit the ' +\n",
              "          '<a target=\"_blank\" href=https://colab.research.google.com/notebooks/data_table.ipynb>data table notebook</a>'\n",
              "          + ' to learn more about interactive tables.';\n",
              "        element.innerHTML = '';\n",
              "        dataTable['output_type'] = 'display_data';\n",
              "        await google.colab.output.renderOutput(dataTable, element);\n",
              "        const docLink = document.createElement('div');\n",
              "        docLink.innerHTML = docLinkHtml;\n",
              "        element.appendChild(docLink);\n",
              "      }\n",
              "    </script>\n",
              "  </div>\n",
              "\n",
              "\n",
              "<div id=\"df-2272affd-4a47-4dc4-a9ce-7ef5077132a1\">\n",
              "  <button class=\"colab-df-quickchart\" onclick=\"quickchart('df-2272affd-4a47-4dc4-a9ce-7ef5077132a1')\"\n",
              "            title=\"Suggest charts\"\n",
              "            style=\"display:none;\">\n",
              "\n",
              "<svg xmlns=\"http://www.w3.org/2000/svg\" height=\"24px\"viewBox=\"0 0 24 24\"\n",
              "     width=\"24px\">\n",
              "    <g>\n",
              "        <path d=\"M19 3H5c-1.1 0-2 .9-2 2v14c0 1.1.9 2 2 2h14c1.1 0 2-.9 2-2V5c0-1.1-.9-2-2-2zM9 17H7v-7h2v7zm4 0h-2V7h2v10zm4 0h-2v-4h2v4z\"/>\n",
              "    </g>\n",
              "</svg>\n",
              "  </button>\n",
              "\n",
              "<style>\n",
              "  .colab-df-quickchart {\n",
              "      --bg-color: #E8F0FE;\n",
              "      --fill-color: #1967D2;\n",
              "      --hover-bg-color: #E2EBFA;\n",
              "      --hover-fill-color: #174EA6;\n",
              "      --disabled-fill-color: #AAA;\n",
              "      --disabled-bg-color: #DDD;\n",
              "  }\n",
              "\n",
              "  [theme=dark] .colab-df-quickchart {\n",
              "      --bg-color: #3B4455;\n",
              "      --fill-color: #D2E3FC;\n",
              "      --hover-bg-color: #434B5C;\n",
              "      --hover-fill-color: #FFFFFF;\n",
              "      --disabled-bg-color: #3B4455;\n",
              "      --disabled-fill-color: #666;\n",
              "  }\n",
              "\n",
              "  .colab-df-quickchart {\n",
              "    background-color: var(--bg-color);\n",
              "    border: none;\n",
              "    border-radius: 50%;\n",
              "    cursor: pointer;\n",
              "    display: none;\n",
              "    fill: var(--fill-color);\n",
              "    height: 32px;\n",
              "    padding: 0;\n",
              "    width: 32px;\n",
              "  }\n",
              "\n",
              "  .colab-df-quickchart:hover {\n",
              "    background-color: var(--hover-bg-color);\n",
              "    box-shadow: 0 1px 2px rgba(60, 64, 67, 0.3), 0 1px 3px 1px rgba(60, 64, 67, 0.15);\n",
              "    fill: var(--button-hover-fill-color);\n",
              "  }\n",
              "\n",
              "  .colab-df-quickchart-complete:disabled,\n",
              "  .colab-df-quickchart-complete:disabled:hover {\n",
              "    background-color: var(--disabled-bg-color);\n",
              "    fill: var(--disabled-fill-color);\n",
              "    box-shadow: none;\n",
              "  }\n",
              "\n",
              "  .colab-df-spinner {\n",
              "    border: 2px solid var(--fill-color);\n",
              "    border-color: transparent;\n",
              "    border-bottom-color: var(--fill-color);\n",
              "    animation:\n",
              "      spin 1s steps(1) infinite;\n",
              "  }\n",
              "\n",
              "  @keyframes spin {\n",
              "    0% {\n",
              "      border-color: transparent;\n",
              "      border-bottom-color: var(--fill-color);\n",
              "      border-left-color: var(--fill-color);\n",
              "    }\n",
              "    20% {\n",
              "      border-color: transparent;\n",
              "      border-left-color: var(--fill-color);\n",
              "      border-top-color: var(--fill-color);\n",
              "    }\n",
              "    30% {\n",
              "      border-color: transparent;\n",
              "      border-left-color: var(--fill-color);\n",
              "      border-top-color: var(--fill-color);\n",
              "      border-right-color: var(--fill-color);\n",
              "    }\n",
              "    40% {\n",
              "      border-color: transparent;\n",
              "      border-right-color: var(--fill-color);\n",
              "      border-top-color: var(--fill-color);\n",
              "    }\n",
              "    60% {\n",
              "      border-color: transparent;\n",
              "      border-right-color: var(--fill-color);\n",
              "    }\n",
              "    80% {\n",
              "      border-color: transparent;\n",
              "      border-right-color: var(--fill-color);\n",
              "      border-bottom-color: var(--fill-color);\n",
              "    }\n",
              "    90% {\n",
              "      border-color: transparent;\n",
              "      border-bottom-color: var(--fill-color);\n",
              "    }\n",
              "  }\n",
              "</style>\n",
              "\n",
              "  <script>\n",
              "    async function quickchart(key) {\n",
              "      const quickchartButtonEl =\n",
              "        document.querySelector('#' + key + ' button');\n",
              "      quickchartButtonEl.disabled = true;  // To prevent multiple clicks.\n",
              "      quickchartButtonEl.classList.add('colab-df-spinner');\n",
              "      try {\n",
              "        const charts = await google.colab.kernel.invokeFunction(\n",
              "            'suggestCharts', [key], {});\n",
              "      } catch (error) {\n",
              "        console.error('Error during call to suggestCharts:', error);\n",
              "      }\n",
              "      quickchartButtonEl.classList.remove('colab-df-spinner');\n",
              "      quickchartButtonEl.classList.add('colab-df-quickchart-complete');\n",
              "    }\n",
              "    (() => {\n",
              "      let quickchartButtonEl =\n",
              "        document.querySelector('#df-2272affd-4a47-4dc4-a9ce-7ef5077132a1 button');\n",
              "      quickchartButtonEl.style.display =\n",
              "        google.colab.kernel.accessAllowed ? 'block' : 'none';\n",
              "    })();\n",
              "  </script>\n",
              "</div>\n",
              "\n",
              "    </div>\n",
              "  </div>\n"
            ],
            "application/vnd.google.colaboratory.intrinsic+json": {
              "type": "dataframe",
              "variable_name": "df"
            }
          },
          "metadata": {},
          "execution_count": 5
        }
      ],
      "source": [
        "df.head(10)"
      ]
    },
    {
      "cell_type": "markdown",
      "metadata": {
        "id": "UXZ9Eh73EZTR"
      },
      "source": [
        "**PREPROCESSING DATA WITH EDA**\n",
        "\n",
        "---\n",
        "\n"
      ]
    },
    {
      "cell_type": "markdown",
      "metadata": {
        "id": "a-4CpEuhkAtC"
      },
      "source": [
        "**checking data-types**"
      ]
    },
    {
      "cell_type": "code",
      "execution_count": null,
      "metadata": {
        "id": "tATJmzxtjNuv",
        "colab": {
          "base_uri": "https://localhost:8080/"
        },
        "outputId": "641f223e-ce0f-4e4e-b585-c77cc6863fe1"
      },
      "outputs": [
        {
          "output_type": "stream",
          "name": "stdout",
          "text": [
            "<class 'pandas.core.frame.DataFrame'>\n",
            "RangeIndex: 901357 entries, 0 to 901356\n",
            "Data columns (total 28 columns):\n",
            " #   Column          Non-Null Count   Dtype  \n",
            "---  ------          --------------   -----  \n",
            " 0   DR_NO           901357 non-null  int64  \n",
            " 1   Date Rptd       901357 non-null  object \n",
            " 2   DATE OCC        901357 non-null  object \n",
            " 3   TIME OCC        901357 non-null  int64  \n",
            " 4   AREA            901357 non-null  int64  \n",
            " 5   AREA NAME       901357 non-null  object \n",
            " 6   Rpt Dist No     901357 non-null  int64  \n",
            " 7   Part 1-2        901357 non-null  int64  \n",
            " 8   Crm Cd          901357 non-null  int64  \n",
            " 9   Crm Cd Desc     901357 non-null  object \n",
            " 10  Mocodes         775767 non-null  object \n",
            " 11  Vict Age        901357 non-null  int64  \n",
            " 12  Vict Sex        781966 non-null  object \n",
            " 13  Premis Cd       901347 non-null  float64\n",
            " 14  Premis Desc     900807 non-null  object \n",
            " 15  Weapon Used Cd  312268 non-null  float64\n",
            " 16  Weapon Desc     312268 non-null  object \n",
            " 17  Status          901357 non-null  object \n",
            " 18  Status Desc     901357 non-null  object \n",
            " 19  Crm Cd 1        901346 non-null  float64\n",
            " 20  Crm Cd 2        65683 non-null   float64\n",
            " 21  Crm Cd 3        2213 non-null    float64\n",
            " 22  Crm Cd 4        64 non-null      float64\n",
            " 23  LOCATION        901357 non-null  object \n",
            " 24  Cross Street    142055 non-null  object \n",
            " 25  LAT             901357 non-null  float64\n",
            " 26  LON             901357 non-null  float64\n",
            " 27  Vict Descent    781958 non-null  object \n",
            "dtypes: float64(8), int64(7), object(13)\n",
            "memory usage: 192.6+ MB\n"
          ]
        }
      ],
      "source": [
        "df.info()"
      ]
    },
    {
      "cell_type": "markdown",
      "metadata": {
        "id": "JXXAXt6NkJza"
      },
      "source": [
        "**checking the percentage of na values**"
      ]
    },
    {
      "cell_type": "code",
      "execution_count": null,
      "metadata": {
        "id": "uFV62E8NjNsT",
        "colab": {
          "base_uri": "https://localhost:8080/"
        },
        "outputId": "83ce93c3-6f97-4f12-aef8-28d8af0f6c6c"
      },
      "outputs": [
        {
          "output_type": "execute_result",
          "data": {
            "text/plain": [
              "DR_NO             0.000000\n",
              "Date Rptd         0.000000\n",
              "DATE OCC          0.000000\n",
              "TIME OCC          0.000000\n",
              "AREA              0.000000\n",
              "AREA NAME         0.000000\n",
              "Rpt Dist No       0.000000\n",
              "Part 1-2          0.000000\n",
              "Crm Cd            0.000000\n",
              "Crm Cd Desc       0.000000\n",
              "Mocodes           0.139334\n",
              "Vict Age          0.000000\n",
              "Vict Sex          0.132457\n",
              "Premis Cd         0.000011\n",
              "Premis Desc       0.000610\n",
              "Weapon Used Cd    0.653558\n",
              "Weapon Desc       0.653558\n",
              "Status            0.000000\n",
              "Status Desc       0.000000\n",
              "Crm Cd 1          0.000012\n",
              "Crm Cd 2          0.927129\n",
              "Crm Cd 3          0.997545\n",
              "Crm Cd 4          0.999929\n",
              "LOCATION          0.000000\n",
              "Cross Street      0.842399\n",
              "LAT               0.000000\n",
              "LON               0.000000\n",
              "Vict Descent      0.132466\n",
              "dtype: float64"
            ]
          },
          "metadata": {},
          "execution_count": 7
        }
      ],
      "source": [
        "df.isna().sum()/len(df)"
      ]
    },
    {
      "cell_type": "markdown",
      "metadata": {
        "id": "NolaWNOAkPq7"
      },
      "source": [
        "**Using imputation for treating the null values from target varaible**"
      ]
    },
    {
      "cell_type": "code",
      "execution_count": null,
      "metadata": {
        "id": "DpeVd0uXjNpK"
      },
      "outputs": [],
      "source": [
        "df[\"Vict Descent\"] = df[\"Vict Descent\"].fillna(df[\"Vict Descent\"].mode()[0])"
      ]
    },
    {
      "cell_type": "markdown",
      "metadata": {
        "id": "R9PWCkG-2BqS"
      },
      "source": [
        "**Imputation for categorical variable**"
      ]
    },
    {
      "cell_type": "code",
      "execution_count": null,
      "metadata": {
        "id": "w2w4kzLmjNmW"
      },
      "outputs": [],
      "source": [
        "columns_to_impute = [\"Vict Sex\", \"Mocodes\", \"Weapon Desc\", \"Cross Street\"]\n",
        "\n",
        "for column in columns_to_impute:\n",
        "    most_frequent_value = df[column].mode()[0]\n",
        "    df[column].fillna(most_frequent_value, inplace=True)\n"
      ]
    },
    {
      "cell_type": "code",
      "execution_count": null,
      "metadata": {
        "id": "B3oFC_cpKZt2",
        "colab": {
          "base_uri": "https://localhost:8080/",
          "height": 781
        },
        "outputId": "9e554b3f-7bcc-4503-fac5-a71b583be9b8"
      },
      "outputs": [
        {
          "output_type": "execute_result",
          "data": {
            "text/plain": [
              "       DR_NO        Date Rptd        DATE OCC  TIME OCC  AREA  AREA NAME  \\\n",
              "0  190326475    3/1/2020 0:00   3/1/2020 0:00      2130     7   Wilshire   \n",
              "1  200106753    2/9/2020 0:00   2/8/2020 0:00      1800     1    Central   \n",
              "2  200320258  11/11/2020 0:00  11/4/2020 0:00      1700     3  Southwest   \n",
              "3  200907217   5/10/2023 0:00  3/10/2020 0:00      2037     9   Van Nuys   \n",
              "4  220614831   8/18/2022 0:00  8/17/2020 0:00      1200     6  Hollywood   \n",
              "\n",
              "   Rpt Dist No  Part 1-2  Crm Cd                               Crm Cd Desc  \\\n",
              "0          784         1     510                          VEHICLE - STOLEN   \n",
              "1          182         1     330                     BURGLARY FROM VEHICLE   \n",
              "2          356         1     480                             BIKE - STOLEN   \n",
              "3          964         1     343  SHOPLIFTING-GRAND THEFT ($950.01 & OVER)   \n",
              "4          666         2     354                         THEFT OF IDENTITY   \n",
              "\n",
              "               Mocodes  Vict Age Vict Sex  Premis Cd  \\\n",
              "0                  344         0        M      101.0   \n",
              "1       1822 1402 0344        47        M      128.0   \n",
              "2            0344 1251        19        X      502.0   \n",
              "3            0325 1501        19        M      405.0   \n",
              "4  1822 1501 0930 2004        28        M      102.0   \n",
              "\n",
              "                                    Premis Desc  Weapon Used Cd  \\\n",
              "0                                        STREET             NaN   \n",
              "1             BUS STOP/LAYOVER (ALSO QUERY 124)             NaN   \n",
              "2  MULTI-UNIT DWELLING (APARTMENT, DUPLEX, ETC)             NaN   \n",
              "3                                CLOTHING STORE             NaN   \n",
              "4                                      SIDEWALK             NaN   \n",
              "\n",
              "                                      Weapon Desc Status   Status Desc  \\\n",
              "0  STRONG-ARM (HANDS, FIST, FEET OR BODILY FORCE)     AA  Adult Arrest   \n",
              "1  STRONG-ARM (HANDS, FIST, FEET OR BODILY FORCE)     IC   Invest Cont   \n",
              "2  STRONG-ARM (HANDS, FIST, FEET OR BODILY FORCE)     IC   Invest Cont   \n",
              "3  STRONG-ARM (HANDS, FIST, FEET OR BODILY FORCE)     IC   Invest Cont   \n",
              "4  STRONG-ARM (HANDS, FIST, FEET OR BODILY FORCE)     IC   Invest Cont   \n",
              "\n",
              "   Crm Cd 1  Crm Cd 2  Crm Cd 3  Crm Cd 4  \\\n",
              "0     510.0     998.0       NaN       NaN   \n",
              "1     330.0     998.0       NaN       NaN   \n",
              "2     480.0       NaN       NaN       NaN   \n",
              "3     343.0       NaN       NaN       NaN   \n",
              "4     354.0       NaN       NaN       NaN   \n",
              "\n",
              "                                   LOCATION Cross Street      LAT       LON  \\\n",
              "0   1900 S  LONGWOOD                     AV     BROADWAY  34.0375 -118.3506   \n",
              "1   1000 S  FLOWER                       ST     BROADWAY  34.0444 -118.2628   \n",
              "2   1400 W  37TH                         ST     BROADWAY  34.0210 -118.3002   \n",
              "3  14000    RIVERSIDE                    DR     BROADWAY  34.1576 -118.4387   \n",
              "4                         1900    TRANSIENT     BROADWAY  34.0944 -118.3277   \n",
              "\n",
              "  Vict Descent  \n",
              "0            O  \n",
              "1            O  \n",
              "2            X  \n",
              "3            O  \n",
              "4            H  "
            ],
            "text/html": [
              "\n",
              "  <div id=\"df-c19e7a64-27fe-426e-9963-12438c7bb923\" class=\"colab-df-container\">\n",
              "    <div>\n",
              "<style scoped>\n",
              "    .dataframe tbody tr th:only-of-type {\n",
              "        vertical-align: middle;\n",
              "    }\n",
              "\n",
              "    .dataframe tbody tr th {\n",
              "        vertical-align: top;\n",
              "    }\n",
              "\n",
              "    .dataframe thead th {\n",
              "        text-align: right;\n",
              "    }\n",
              "</style>\n",
              "<table border=\"1\" class=\"dataframe\">\n",
              "  <thead>\n",
              "    <tr style=\"text-align: right;\">\n",
              "      <th></th>\n",
              "      <th>DR_NO</th>\n",
              "      <th>Date Rptd</th>\n",
              "      <th>DATE OCC</th>\n",
              "      <th>TIME OCC</th>\n",
              "      <th>AREA</th>\n",
              "      <th>AREA NAME</th>\n",
              "      <th>Rpt Dist No</th>\n",
              "      <th>Part 1-2</th>\n",
              "      <th>Crm Cd</th>\n",
              "      <th>Crm Cd Desc</th>\n",
              "      <th>Mocodes</th>\n",
              "      <th>Vict Age</th>\n",
              "      <th>Vict Sex</th>\n",
              "      <th>Premis Cd</th>\n",
              "      <th>Premis Desc</th>\n",
              "      <th>Weapon Used Cd</th>\n",
              "      <th>Weapon Desc</th>\n",
              "      <th>Status</th>\n",
              "      <th>Status Desc</th>\n",
              "      <th>Crm Cd 1</th>\n",
              "      <th>Crm Cd 2</th>\n",
              "      <th>Crm Cd 3</th>\n",
              "      <th>Crm Cd 4</th>\n",
              "      <th>LOCATION</th>\n",
              "      <th>Cross Street</th>\n",
              "      <th>LAT</th>\n",
              "      <th>LON</th>\n",
              "      <th>Vict Descent</th>\n",
              "    </tr>\n",
              "  </thead>\n",
              "  <tbody>\n",
              "    <tr>\n",
              "      <th>0</th>\n",
              "      <td>190326475</td>\n",
              "      <td>3/1/2020 0:00</td>\n",
              "      <td>3/1/2020 0:00</td>\n",
              "      <td>2130</td>\n",
              "      <td>7</td>\n",
              "      <td>Wilshire</td>\n",
              "      <td>784</td>\n",
              "      <td>1</td>\n",
              "      <td>510</td>\n",
              "      <td>VEHICLE - STOLEN</td>\n",
              "      <td>344</td>\n",
              "      <td>0</td>\n",
              "      <td>M</td>\n",
              "      <td>101.0</td>\n",
              "      <td>STREET</td>\n",
              "      <td>NaN</td>\n",
              "      <td>STRONG-ARM (HANDS, FIST, FEET OR BODILY FORCE)</td>\n",
              "      <td>AA</td>\n",
              "      <td>Adult Arrest</td>\n",
              "      <td>510.0</td>\n",
              "      <td>998.0</td>\n",
              "      <td>NaN</td>\n",
              "      <td>NaN</td>\n",
              "      <td>1900 S  LONGWOOD                     AV</td>\n",
              "      <td>BROADWAY</td>\n",
              "      <td>34.0375</td>\n",
              "      <td>-118.3506</td>\n",
              "      <td>O</td>\n",
              "    </tr>\n",
              "    <tr>\n",
              "      <th>1</th>\n",
              "      <td>200106753</td>\n",
              "      <td>2/9/2020 0:00</td>\n",
              "      <td>2/8/2020 0:00</td>\n",
              "      <td>1800</td>\n",
              "      <td>1</td>\n",
              "      <td>Central</td>\n",
              "      <td>182</td>\n",
              "      <td>1</td>\n",
              "      <td>330</td>\n",
              "      <td>BURGLARY FROM VEHICLE</td>\n",
              "      <td>1822 1402 0344</td>\n",
              "      <td>47</td>\n",
              "      <td>M</td>\n",
              "      <td>128.0</td>\n",
              "      <td>BUS STOP/LAYOVER (ALSO QUERY 124)</td>\n",
              "      <td>NaN</td>\n",
              "      <td>STRONG-ARM (HANDS, FIST, FEET OR BODILY FORCE)</td>\n",
              "      <td>IC</td>\n",
              "      <td>Invest Cont</td>\n",
              "      <td>330.0</td>\n",
              "      <td>998.0</td>\n",
              "      <td>NaN</td>\n",
              "      <td>NaN</td>\n",
              "      <td>1000 S  FLOWER                       ST</td>\n",
              "      <td>BROADWAY</td>\n",
              "      <td>34.0444</td>\n",
              "      <td>-118.2628</td>\n",
              "      <td>O</td>\n",
              "    </tr>\n",
              "    <tr>\n",
              "      <th>2</th>\n",
              "      <td>200320258</td>\n",
              "      <td>11/11/2020 0:00</td>\n",
              "      <td>11/4/2020 0:00</td>\n",
              "      <td>1700</td>\n",
              "      <td>3</td>\n",
              "      <td>Southwest</td>\n",
              "      <td>356</td>\n",
              "      <td>1</td>\n",
              "      <td>480</td>\n",
              "      <td>BIKE - STOLEN</td>\n",
              "      <td>0344 1251</td>\n",
              "      <td>19</td>\n",
              "      <td>X</td>\n",
              "      <td>502.0</td>\n",
              "      <td>MULTI-UNIT DWELLING (APARTMENT, DUPLEX, ETC)</td>\n",
              "      <td>NaN</td>\n",
              "      <td>STRONG-ARM (HANDS, FIST, FEET OR BODILY FORCE)</td>\n",
              "      <td>IC</td>\n",
              "      <td>Invest Cont</td>\n",
              "      <td>480.0</td>\n",
              "      <td>NaN</td>\n",
              "      <td>NaN</td>\n",
              "      <td>NaN</td>\n",
              "      <td>1400 W  37TH                         ST</td>\n",
              "      <td>BROADWAY</td>\n",
              "      <td>34.0210</td>\n",
              "      <td>-118.3002</td>\n",
              "      <td>X</td>\n",
              "    </tr>\n",
              "    <tr>\n",
              "      <th>3</th>\n",
              "      <td>200907217</td>\n",
              "      <td>5/10/2023 0:00</td>\n",
              "      <td>3/10/2020 0:00</td>\n",
              "      <td>2037</td>\n",
              "      <td>9</td>\n",
              "      <td>Van Nuys</td>\n",
              "      <td>964</td>\n",
              "      <td>1</td>\n",
              "      <td>343</td>\n",
              "      <td>SHOPLIFTING-GRAND THEFT ($950.01 &amp; OVER)</td>\n",
              "      <td>0325 1501</td>\n",
              "      <td>19</td>\n",
              "      <td>M</td>\n",
              "      <td>405.0</td>\n",
              "      <td>CLOTHING STORE</td>\n",
              "      <td>NaN</td>\n",
              "      <td>STRONG-ARM (HANDS, FIST, FEET OR BODILY FORCE)</td>\n",
              "      <td>IC</td>\n",
              "      <td>Invest Cont</td>\n",
              "      <td>343.0</td>\n",
              "      <td>NaN</td>\n",
              "      <td>NaN</td>\n",
              "      <td>NaN</td>\n",
              "      <td>14000    RIVERSIDE                    DR</td>\n",
              "      <td>BROADWAY</td>\n",
              "      <td>34.1576</td>\n",
              "      <td>-118.4387</td>\n",
              "      <td>O</td>\n",
              "    </tr>\n",
              "    <tr>\n",
              "      <th>4</th>\n",
              "      <td>220614831</td>\n",
              "      <td>8/18/2022 0:00</td>\n",
              "      <td>8/17/2020 0:00</td>\n",
              "      <td>1200</td>\n",
              "      <td>6</td>\n",
              "      <td>Hollywood</td>\n",
              "      <td>666</td>\n",
              "      <td>2</td>\n",
              "      <td>354</td>\n",
              "      <td>THEFT OF IDENTITY</td>\n",
              "      <td>1822 1501 0930 2004</td>\n",
              "      <td>28</td>\n",
              "      <td>M</td>\n",
              "      <td>102.0</td>\n",
              "      <td>SIDEWALK</td>\n",
              "      <td>NaN</td>\n",
              "      <td>STRONG-ARM (HANDS, FIST, FEET OR BODILY FORCE)</td>\n",
              "      <td>IC</td>\n",
              "      <td>Invest Cont</td>\n",
              "      <td>354.0</td>\n",
              "      <td>NaN</td>\n",
              "      <td>NaN</td>\n",
              "      <td>NaN</td>\n",
              "      <td>1900    TRANSIENT</td>\n",
              "      <td>BROADWAY</td>\n",
              "      <td>34.0944</td>\n",
              "      <td>-118.3277</td>\n",
              "      <td>H</td>\n",
              "    </tr>\n",
              "  </tbody>\n",
              "</table>\n",
              "</div>\n",
              "    <div class=\"colab-df-buttons\">\n",
              "\n",
              "  <div class=\"colab-df-container\">\n",
              "    <button class=\"colab-df-convert\" onclick=\"convertToInteractive('df-c19e7a64-27fe-426e-9963-12438c7bb923')\"\n",
              "            title=\"Convert this dataframe to an interactive table.\"\n",
              "            style=\"display:none;\">\n",
              "\n",
              "  <svg xmlns=\"http://www.w3.org/2000/svg\" height=\"24px\" viewBox=\"0 -960 960 960\">\n",
              "    <path d=\"M120-120v-720h720v720H120Zm60-500h600v-160H180v160Zm220 220h160v-160H400v160Zm0 220h160v-160H400v160ZM180-400h160v-160H180v160Zm440 0h160v-160H620v160ZM180-180h160v-160H180v160Zm440 0h160v-160H620v160Z\"/>\n",
              "  </svg>\n",
              "    </button>\n",
              "\n",
              "  <style>\n",
              "    .colab-df-container {\n",
              "      display:flex;\n",
              "      gap: 12px;\n",
              "    }\n",
              "\n",
              "    .colab-df-convert {\n",
              "      background-color: #E8F0FE;\n",
              "      border: none;\n",
              "      border-radius: 50%;\n",
              "      cursor: pointer;\n",
              "      display: none;\n",
              "      fill: #1967D2;\n",
              "      height: 32px;\n",
              "      padding: 0 0 0 0;\n",
              "      width: 32px;\n",
              "    }\n",
              "\n",
              "    .colab-df-convert:hover {\n",
              "      background-color: #E2EBFA;\n",
              "      box-shadow: 0px 1px 2px rgba(60, 64, 67, 0.3), 0px 1px 3px 1px rgba(60, 64, 67, 0.15);\n",
              "      fill: #174EA6;\n",
              "    }\n",
              "\n",
              "    .colab-df-buttons div {\n",
              "      margin-bottom: 4px;\n",
              "    }\n",
              "\n",
              "    [theme=dark] .colab-df-convert {\n",
              "      background-color: #3B4455;\n",
              "      fill: #D2E3FC;\n",
              "    }\n",
              "\n",
              "    [theme=dark] .colab-df-convert:hover {\n",
              "      background-color: #434B5C;\n",
              "      box-shadow: 0px 1px 3px 1px rgba(0, 0, 0, 0.15);\n",
              "      filter: drop-shadow(0px 1px 2px rgba(0, 0, 0, 0.3));\n",
              "      fill: #FFFFFF;\n",
              "    }\n",
              "  </style>\n",
              "\n",
              "    <script>\n",
              "      const buttonEl =\n",
              "        document.querySelector('#df-c19e7a64-27fe-426e-9963-12438c7bb923 button.colab-df-convert');\n",
              "      buttonEl.style.display =\n",
              "        google.colab.kernel.accessAllowed ? 'block' : 'none';\n",
              "\n",
              "      async function convertToInteractive(key) {\n",
              "        const element = document.querySelector('#df-c19e7a64-27fe-426e-9963-12438c7bb923');\n",
              "        const dataTable =\n",
              "          await google.colab.kernel.invokeFunction('convertToInteractive',\n",
              "                                                    [key], {});\n",
              "        if (!dataTable) return;\n",
              "\n",
              "        const docLinkHtml = 'Like what you see? Visit the ' +\n",
              "          '<a target=\"_blank\" href=https://colab.research.google.com/notebooks/data_table.ipynb>data table notebook</a>'\n",
              "          + ' to learn more about interactive tables.';\n",
              "        element.innerHTML = '';\n",
              "        dataTable['output_type'] = 'display_data';\n",
              "        await google.colab.output.renderOutput(dataTable, element);\n",
              "        const docLink = document.createElement('div');\n",
              "        docLink.innerHTML = docLinkHtml;\n",
              "        element.appendChild(docLink);\n",
              "      }\n",
              "    </script>\n",
              "  </div>\n",
              "\n",
              "\n",
              "<div id=\"df-ab198fd4-0451-46c0-808e-8672adbadbef\">\n",
              "  <button class=\"colab-df-quickchart\" onclick=\"quickchart('df-ab198fd4-0451-46c0-808e-8672adbadbef')\"\n",
              "            title=\"Suggest charts\"\n",
              "            style=\"display:none;\">\n",
              "\n",
              "<svg xmlns=\"http://www.w3.org/2000/svg\" height=\"24px\"viewBox=\"0 0 24 24\"\n",
              "     width=\"24px\">\n",
              "    <g>\n",
              "        <path d=\"M19 3H5c-1.1 0-2 .9-2 2v14c0 1.1.9 2 2 2h14c1.1 0 2-.9 2-2V5c0-1.1-.9-2-2-2zM9 17H7v-7h2v7zm4 0h-2V7h2v10zm4 0h-2v-4h2v4z\"/>\n",
              "    </g>\n",
              "</svg>\n",
              "  </button>\n",
              "\n",
              "<style>\n",
              "  .colab-df-quickchart {\n",
              "      --bg-color: #E8F0FE;\n",
              "      --fill-color: #1967D2;\n",
              "      --hover-bg-color: #E2EBFA;\n",
              "      --hover-fill-color: #174EA6;\n",
              "      --disabled-fill-color: #AAA;\n",
              "      --disabled-bg-color: #DDD;\n",
              "  }\n",
              "\n",
              "  [theme=dark] .colab-df-quickchart {\n",
              "      --bg-color: #3B4455;\n",
              "      --fill-color: #D2E3FC;\n",
              "      --hover-bg-color: #434B5C;\n",
              "      --hover-fill-color: #FFFFFF;\n",
              "      --disabled-bg-color: #3B4455;\n",
              "      --disabled-fill-color: #666;\n",
              "  }\n",
              "\n",
              "  .colab-df-quickchart {\n",
              "    background-color: var(--bg-color);\n",
              "    border: none;\n",
              "    border-radius: 50%;\n",
              "    cursor: pointer;\n",
              "    display: none;\n",
              "    fill: var(--fill-color);\n",
              "    height: 32px;\n",
              "    padding: 0;\n",
              "    width: 32px;\n",
              "  }\n",
              "\n",
              "  .colab-df-quickchart:hover {\n",
              "    background-color: var(--hover-bg-color);\n",
              "    box-shadow: 0 1px 2px rgba(60, 64, 67, 0.3), 0 1px 3px 1px rgba(60, 64, 67, 0.15);\n",
              "    fill: var(--button-hover-fill-color);\n",
              "  }\n",
              "\n",
              "  .colab-df-quickchart-complete:disabled,\n",
              "  .colab-df-quickchart-complete:disabled:hover {\n",
              "    background-color: var(--disabled-bg-color);\n",
              "    fill: var(--disabled-fill-color);\n",
              "    box-shadow: none;\n",
              "  }\n",
              "\n",
              "  .colab-df-spinner {\n",
              "    border: 2px solid var(--fill-color);\n",
              "    border-color: transparent;\n",
              "    border-bottom-color: var(--fill-color);\n",
              "    animation:\n",
              "      spin 1s steps(1) infinite;\n",
              "  }\n",
              "\n",
              "  @keyframes spin {\n",
              "    0% {\n",
              "      border-color: transparent;\n",
              "      border-bottom-color: var(--fill-color);\n",
              "      border-left-color: var(--fill-color);\n",
              "    }\n",
              "    20% {\n",
              "      border-color: transparent;\n",
              "      border-left-color: var(--fill-color);\n",
              "      border-top-color: var(--fill-color);\n",
              "    }\n",
              "    30% {\n",
              "      border-color: transparent;\n",
              "      border-left-color: var(--fill-color);\n",
              "      border-top-color: var(--fill-color);\n",
              "      border-right-color: var(--fill-color);\n",
              "    }\n",
              "    40% {\n",
              "      border-color: transparent;\n",
              "      border-right-color: var(--fill-color);\n",
              "      border-top-color: var(--fill-color);\n",
              "    }\n",
              "    60% {\n",
              "      border-color: transparent;\n",
              "      border-right-color: var(--fill-color);\n",
              "    }\n",
              "    80% {\n",
              "      border-color: transparent;\n",
              "      border-right-color: var(--fill-color);\n",
              "      border-bottom-color: var(--fill-color);\n",
              "    }\n",
              "    90% {\n",
              "      border-color: transparent;\n",
              "      border-bottom-color: var(--fill-color);\n",
              "    }\n",
              "  }\n",
              "</style>\n",
              "\n",
              "  <script>\n",
              "    async function quickchart(key) {\n",
              "      const quickchartButtonEl =\n",
              "        document.querySelector('#' + key + ' button');\n",
              "      quickchartButtonEl.disabled = true;  // To prevent multiple clicks.\n",
              "      quickchartButtonEl.classList.add('colab-df-spinner');\n",
              "      try {\n",
              "        const charts = await google.colab.kernel.invokeFunction(\n",
              "            'suggestCharts', [key], {});\n",
              "      } catch (error) {\n",
              "        console.error('Error during call to suggestCharts:', error);\n",
              "      }\n",
              "      quickchartButtonEl.classList.remove('colab-df-spinner');\n",
              "      quickchartButtonEl.classList.add('colab-df-quickchart-complete');\n",
              "    }\n",
              "    (() => {\n",
              "      let quickchartButtonEl =\n",
              "        document.querySelector('#df-ab198fd4-0451-46c0-808e-8672adbadbef button');\n",
              "      quickchartButtonEl.style.display =\n",
              "        google.colab.kernel.accessAllowed ? 'block' : 'none';\n",
              "    })();\n",
              "  </script>\n",
              "</div>\n",
              "\n",
              "    </div>\n",
              "  </div>\n"
            ],
            "application/vnd.google.colaboratory.intrinsic+json": {
              "type": "dataframe",
              "variable_name": "df"
            }
          },
          "metadata": {},
          "execution_count": 10
        }
      ],
      "source": [
        "df.head()"
      ]
    },
    {
      "cell_type": "markdown",
      "metadata": {
        "id": "btYbY5bESHj_"
      },
      "source": [
        "**Exploring Numerical Variables along with a correlation heatmap**"
      ]
    },
    {
      "cell_type": "code",
      "execution_count": null,
      "metadata": {
        "id": "yCRaQttuMBvd"
      },
      "outputs": [],
      "source": [
        "numerical_col = df.select_dtypes(include = [int,float]).columns\n",
        "numerical_col = list(numerical_col)"
      ]
    },
    {
      "cell_type": "code",
      "execution_count": null,
      "metadata": {
        "id": "g8Gy1PymH7yy",
        "colab": {
          "base_uri": "https://localhost:8080/",
          "height": 632
        },
        "outputId": "680238d9-edad-44ca-bc67-854108b32a29"
      },
      "outputs": [
        {
          "output_type": "display_data",
          "data": {
            "text/plain": [
              "<Figure size 1200x600 with 2 Axes>"
            ],
            "image/png": "[encoded data removed]"
          },
          "metadata": {}
        }
      ],
      "source": [
        "numerical_col.remove('DR_NO')\n",
        "numerical_col.remove('TIME OCC')\n",
        "\n",
        "\n",
        "\n",
        "\n",
        "plt.figure(figsize = (12,6))\n",
        "corr_mat = df[numerical_col].corr()\n",
        "sns.heatmap(corr_mat, annot = True, cmap = \"magma\", linewidths = 3, fmt = \"0.2f\")\n",
        "plt.show()"
      ]
    },
    {
      "cell_type": "markdown",
      "metadata": {
        "id": "628TRqHSOjOr"
      },
      "source": [
        "*  **Most Variables are not highly Correlated**\n",
        "\n",
        "*   **\"AREA\" and \"Rpt Dist No\" have a Perfect Positive correlation**\n",
        "\n",
        "*   **\"Crm Cd\" and \"Crm Cd 1\" have a Perfect Positive correlation**\n",
        "\n",
        "*   **\"Part 1-2\" and \"Crm Cd\" are highly Correlated**\n",
        "\n",
        "*   **\"Part 1-2\" and \"Crm Cd\" are highly Correlated**\n",
        "\n",
        "\n",
        "\n",
        "\n",
        "\n"
      ]
    },
    {
      "cell_type": "markdown",
      "metadata": {
        "id": "C5fhqalZ2ZqL"
      },
      "source": [
        "**Dropping the following variables:**\n",
        "\n",
        "\n",
        "*   DR_NO: ID's of the crimes\n",
        "*   AREA: Perfect Postive correlation with \"Rpt Dist No\" variable\n",
        "*   Crm Cd 1: Perfect Postive correlation with \"Crm Cd\" variable\n",
        "*   Crm Cd 2: More than 90% of NA values\n",
        "*   Crm Cd 3: More than 90% of NA values\n",
        "*   Crm Cd 4: More than 90% of NA values\n",
        "\n",
        "\n"
      ]
    },
    {
      "cell_type": "code",
      "execution_count": null,
      "metadata": {
        "id": "fpMyo04NjNeY"
      },
      "outputs": [],
      "source": [
        "df = df.drop([\"AREA\",\"DR_NO\",\"Crm Cd 1\",\"Crm Cd 2\",\"Crm Cd 3\",\"Crm Cd 4\"], axis = 1 )\n"
      ]
    },
    {
      "cell_type": "code",
      "execution_count": null,
      "metadata": {
        "id": "1NFWhrF7jNbx"
      },
      "outputs": [],
      "source": [
        "numerical_col = df.select_dtypes(include = [int,float]).columns\n",
        "numerical_col = list(numerical_col)"
      ]
    },
    {
      "cell_type": "markdown",
      "metadata": {
        "id": "5ChRYMDabeA1"
      },
      "source": [
        "**Imputation of numerical values**"
      ]
    },
    {
      "cell_type": "code",
      "execution_count": null,
      "metadata": {
        "id": "v47wsTbScX6B"
      },
      "outputs": [],
      "source": [
        "df = df.dropna(subset = [\"Premis Cd\"])\n",
        "df.loc[:, \"Weapon Used Cd\"] = df[\"Weapon Used Cd\"].fillna(df[\"Weapon Used Cd\"].mean())"
      ]
    },
    {
      "cell_type": "code",
      "execution_count": null,
      "metadata": {
        "id": "h_7jtkDjF_u_"
      },
      "outputs": [],
      "source": [
        "df= df.dropna(subset = [\"Premis Desc\"])"
      ]
    },
    {
      "cell_type": "code",
      "execution_count": null,
      "metadata": {
        "id": "drfL0ugFa1Vd",
        "colab": {
          "base_uri": "https://localhost:8080/"
        },
        "outputId": "80ef3c50-7278-43de-9043-b0a766e571fb"
      },
      "outputs": [
        {
          "output_type": "execute_result",
          "data": {
            "text/plain": [
              "Date Rptd         0.0\n",
              "DATE OCC          0.0\n",
              "TIME OCC          0.0\n",
              "AREA NAME         0.0\n",
              "Rpt Dist No       0.0\n",
              "Part 1-2          0.0\n",
              "Crm Cd            0.0\n",
              "Crm Cd Desc       0.0\n",
              "Mocodes           0.0\n",
              "Vict Age          0.0\n",
              "Vict Sex          0.0\n",
              "Premis Cd         0.0\n",
              "Premis Desc       0.0\n",
              "Weapon Used Cd    0.0\n",
              "Weapon Desc       0.0\n",
              "Status            0.0\n",
              "Status Desc       0.0\n",
              "LOCATION          0.0\n",
              "Cross Street      0.0\n",
              "LAT               0.0\n",
              "LON               0.0\n",
              "Vict Descent      0.0\n",
              "dtype: float64"
            ]
          },
          "metadata": {},
          "execution_count": 17
        }
      ],
      "source": [
        "df.isna().sum()/len(df)\n"
      ]
    },
    {
      "cell_type": "markdown",
      "metadata": {
        "id": "NfKVtlgmU0Gu"
      },
      "source": [
        "**CHECKING FOR OUTLIERS USING BOXPLOT**\n"
      ]
    },
    {
      "cell_type": "code",
      "execution_count": null,
      "metadata": {
        "id": "r1w3q2B5am1v",
        "colab": {
          "base_uri": "https://localhost:8080/"
        },
        "outputId": "2a86f556-f1eb-4a72-cc2e-75614d1dc372"
      },
      "outputs": [
        {
          "output_type": "execute_result",
          "data": {
            "text/plain": [
              "['TIME OCC',\n",
              " 'Rpt Dist No',\n",
              " 'Part 1-2',\n",
              " 'Crm Cd',\n",
              " 'Vict Age',\n",
              " 'Premis Cd',\n",
              " 'Weapon Used Cd',\n",
              " 'LAT',\n",
              " 'LON']"
            ]
          },
          "metadata": {},
          "execution_count": 18
        }
      ],
      "source": [
        "numerical_col"
      ]
    },
    {
      "cell_type": "code",
      "execution_count": null,
      "metadata": {
        "id": "9DIBYbdAjNZF",
        "colab": {
          "base_uri": "https://localhost:8080/",
          "height": 1000
        },
        "outputId": "44c2461c-7f24-42a6-af25-e4112b2019a1"
      },
      "outputs": [
        {
          "output_type": "stream",
          "name": "stdout",
          "text": [
            "Q1: 0.0, Q2:31.0, Q3:45.0\n"
          ]
        },
        {
          "output_type": "display_data",
          "data": {
            "text/plain": [
              "<Figure size 300x300 with 1 Axes>"
            ],
            "image/png": "[encoded data removed]"
          },
          "metadata": {}
        },
        {
          "output_type": "stream",
          "name": "stdout",
          "text": [
            "Q1: 101.0, Q2:203.0, Q3:501.0\n"
          ]
        },
        {
          "output_type": "display_data",
          "data": {
            "text/plain": [
              "<Figure size 300x300 with 1 Axes>"
            ],
            "image/png": "[encoded data removed]"
          },
          "metadata": {}
        },
        {
          "output_type": "stream",
          "name": "stdout",
          "text": [
            "Q1: 363.44355489515414, Q2:363.44355489515414, Q3:400.0\n"
          ]
        },
        {
          "output_type": "display_data",
          "data": {
            "text/plain": [
              "<Figure size 300x300 with 1 Axes>"
            ],
            "image/png": "[encoded data removed]"
          },
          "metadata": {}
        },
        {
          "output_type": "stream",
          "name": "stdout",
          "text": [
            "Q1: 34.0145, Q2:34.0586, Q3:34.1634\n"
          ]
        },
        {
          "output_type": "display_data",
          "data": {
            "text/plain": [
              "<Figure size 300x300 with 1 Axes>"
            ],
            "image/png": "[encoded data removed]"
          },
          "metadata": {}
        },
        {
          "output_type": "stream",
          "name": "stdout",
          "text": [
            "Q1: -118.4296, Q2:-118.3215, Q3:-118.2739\n"
          ]
        },
        {
          "output_type": "display_data",
          "data": {
            "text/plain": [
              "<Figure size 300x300 with 1 Axes>"
            ],
            "image/png": "[encoded data removed]"
          },
          "metadata": {}
        }
      ],
      "source": [
        "for col in numerical_col:\n",
        "  if col in ['Vict Age','LAT','LON','Premis Cd','Weapon Used Cd']:\n",
        "    plt.subplots(figsize = (3,3))\n",
        "    q1 = np.percentile(df[col],25)\n",
        "    q2 = np.percentile(df[col],50)\n",
        "    q3 = np.percentile(df[col],75)\n",
        "\n",
        "    print(f\"Q1: {q1}, Q2:{q2}, Q3:{q3}\")\n",
        "\n",
        "\n",
        "\n",
        "\n",
        "    sns.boxplot(x = df[col], orient = \"h\")\n",
        "    plt.show()\n"
      ]
    },
    {
      "cell_type": "markdown",
      "metadata": {
        "id": "IthVTfCCaaGP"
      },
      "source": [
        "\n",
        "\n",
        "*   **\"Vict Age\",\"LON\" and \"LAT\" columns have few outliers**\n",
        "*   **The median age of Victim is around 30 and above**\n",
        "*   **\"Premis Cd\" has no outliers with median values falling at 200**\n",
        "*   **\"Weapon Used Cd\" has a lot of outliers**\n",
        "*   **Both \"LAT\" and \"LON\" have a small interquartile range**\n",
        "\n"
      ]
    },
    {
      "cell_type": "markdown",
      "metadata": {
        "id": "KplzXtkHfqFg"
      },
      "source": [
        "**Imputation of the outlier values**"
      ]
    },
    {
      "cell_type": "code",
      "execution_count": null,
      "metadata": {
        "id": "9AvCrKCjjNWL"
      },
      "outputs": [],
      "source": [
        "outlier_num_col = ['Vict Age', 'LON']\n",
        "\n",
        "for col in outlier_num_col:\n",
        "    q1 = df[col].quantile(0.25)\n",
        "    q3 = df[col].quantile(0.75)\n",
        "\n",
        "    iqr = q3 - q1\n",
        "\n",
        "    lower_tail = q1 - 1.5 * iqr\n",
        "    upper_tail = q3 + 1.5 * iqr\n",
        "\n",
        "\n",
        "    outliers_mask = (df[col] > upper_tail) | (df[col] < lower_tail)\n",
        "    df.loc[outliers_mask, col] = np.median(df[col])\n"
      ]
    },
    {
      "cell_type": "code",
      "execution_count": null,
      "metadata": {
        "id": "QKEAFIABkwXB"
      },
      "outputs": [],
      "source": [
        "outlier_num_col.append('Weapon Used Cd')\n",
        "outlier_num_col.append('LAT')\n",
        "\n",
        "for col in outlier_num_col:\n",
        "  if col in ['Weapon Used Cd','LAT']:\n",
        "    q1 = df[col].quantile(0.25)\n",
        "    q3 = df[col].quantile(0.75)\n",
        "\n",
        "    iqr = q3 - q1\n",
        "\n",
        "    lower_tail = q1 - 1.5 * iqr\n",
        "    upper_tail = q3 + 1.5 * iqr\n",
        "\n",
        "    outliers_mask = (df[col] > upper_tail) | (df[col] < lower_tail)\n",
        "    df = df[~outliers_mask]\n",
        "\n",
        "\n"
      ]
    },
    {
      "cell_type": "code",
      "execution_count": null,
      "metadata": {
        "id": "mR2nsqyojNTq",
        "colab": {
          "base_uri": "https://localhost:8080/",
          "height": 1000
        },
        "outputId": "e9e39197-b696-48c6-b0de-f7c8de42469f"
      },
      "outputs": [
        {
          "output_type": "display_data",
          "data": {
            "text/plain": [
              "<Figure size 300x300 with 1 Axes>"
            ],
            "image/png": "[encoded data removed]"
          },
          "metadata": {}
        },
        {
          "output_type": "display_data",
          "data": {
            "text/plain": [
              "<Figure size 300x300 with 1 Axes>"
            ],
            "image/png": "[encoded data removed]"
          },
          "metadata": {}
        },
        {
          "output_type": "display_data",
          "data": {
            "text/plain": [
              "<Figure size 300x300 with 1 Axes>"
            ],
            "image/png": "[encoded data removed]"
          },
          "metadata": {}
        },
        {
          "output_type": "display_data",
          "data": {
            "text/plain": [
              "<Figure size 300x300 with 1 Axes>"
            ],
            "image/png": "[encoded data removed]"
          },
          "metadata": {}
        }
      ],
      "source": [
        "for col in outlier_num_col:\n",
        "  plt.subplots(figsize = (3,3))\n",
        "\n",
        "  sns.boxplot(df[col], orient = 'h')\n",
        "  plt.show()"
      ]
    },
    {
      "cell_type": "markdown",
      "metadata": {
        "id": "IuXSaHylxmo_"
      },
      "source": [
        "\n",
        "\n",
        "*   **Outliers are somewhat prevented**\n",
        "\n"
      ]
    },
    {
      "cell_type": "code",
      "execution_count": null,
      "metadata": {
        "id": "NuSFz4kxkwGG",
        "colab": {
          "base_uri": "https://localhost:8080/"
        },
        "outputId": "45a3bde8-37a9-407b-bef3-63ab8d1f0f74"
      },
      "outputs": [
        {
          "output_type": "execute_result",
          "data": {
            "text/plain": [
              "20"
            ]
          },
          "metadata": {},
          "execution_count": 23
        }
      ],
      "source": [
        "df['Vict Descent'].nunique()"
      ]
    },
    {
      "cell_type": "markdown",
      "metadata": {
        "id": "i54Q3GbaVHv3"
      },
      "source": [
        "**CHECKING CLASS DISTRIBUTION**"
      ]
    },
    {
      "cell_type": "code",
      "execution_count": null,
      "metadata": {
        "id": "22dKg_nC3080",
        "colab": {
          "base_uri": "https://localhost:8080/",
          "height": 471
        },
        "outputId": "dc69d61e-98e0-4d69-dc58-d95012311245"
      },
      "outputs": [
        {
          "output_type": "display_data",
          "data": {
            "text/plain": [
              "<Figure size 640x480 with 1 Axes>"
            ],
            "image/png": "[encoded data removed]"
          },
          "metadata": {}
        }
      ],
      "source": [
        "colors = [\n",
        "    'blue', 'salmon', 'lightgreen', 'orchid', 'gold',\n",
        "    'lightcoral', 'lightseagreen', 'plum', 'lightpink', 'lightsteelblue',\n",
        "    'lime', 'lightcyan', 'peru', 'lightyellow', 'khaki',\n",
        "    'lightblue', 'mediumvioletred', 'mediumaquamarine', 'palevioletred', 'lightslategray'\n",
        "]\n",
        "df['Vict Descent'].value_counts().plot(kind='bar', color=colors)\n",
        "plt.title(\"Class Distribution\")\n",
        "plt.show()"
      ]
    },
    {
      "cell_type": "markdown",
      "metadata": {
        "id": "oHIOGvw6V4QF"
      },
      "source": [
        "\n",
        "\n",
        "*   **Since there is an imbalance of class and a lot of ethnicities are clubbed under descent, therefore we'll group them by race as there are a lot of ethnicities of asian region with very few count**\n",
        "\n",
        "\n"
      ]
    },
    {
      "cell_type": "code",
      "execution_count": null,
      "metadata": {
        "id": "bcEgeWwg79NJ"
      },
      "outputs": [],
      "source": [
        "def mapper(val):\n",
        "    if val in ['B', 'W', 'H', 'X']:\n",
        "        return val\n",
        "    else:\n",
        "        return 'O'"
      ]
    },
    {
      "cell_type": "code",
      "execution_count": null,
      "metadata": {
        "id": "YnZARgeykwD1"
      },
      "outputs": [],
      "source": [
        "df['Vict Descent'] = df['Vict Descent'].map(mapper)"
      ]
    },
    {
      "cell_type": "code",
      "execution_count": null,
      "metadata": {
        "id": "OTUIJ6LkjNOL",
        "colab": {
          "base_uri": "https://localhost:8080/",
          "height": 542
        },
        "outputId": "768f6375-a823-4603-9958-3d69d23776fe"
      },
      "outputs": [
        {
          "output_type": "display_data",
          "data": {
            "text/html": [
              "<html>\n",
              "<head><meta charset=\"utf-8\" /></head>\n",
              "<body>\n",
              "    <div>            <script src=\"https://cdnjs.cloudflare.com/ajax/libs/mathjax/2.7.5/MathJax.js?config=TeX-AMS-MML_SVG\"></script><script type=\"text/javascript\">if (window.MathJax && window.MathJax.Hub && window.MathJax.Hub.Config) {window.MathJax.Hub.Config({SVG: {font: \"STIX-Web\"}});}</script>                <script type=\"text/javascript\">window.PlotlyConfig = {MathJaxConfig: 'local'};</script>\n",
              "        <script charset=\"utf-8\" src=\"https://cdn.plot.ly/plotly-2.24.1.min.js\"></script>                <div id=\"f197171b-a7dd-4441-8653-fc03fa2011b4\" class=\"plotly-graph-div\" style=\"height:525px; width:100%;\"></div>            <script type=\"text/javascript\">                                    window.PLOTLYENV=window.PLOTLYENV || {};                                    if (document.getElementById(\"f197171b-a7dd-4441-8653-fc03fa2011b4\")) {                    Plotly.newPlot(                        \"f197171b-a7dd-4441-8653-fc03fa2011b4\",                        [{\"alignmentgroup\":\"True\",\"hovertemplate\":\"Vict Descent=%{x}\\u003cbr\\u003evalue=%{y}\\u003cextra\\u003e\\u003c\\u002fextra\\u003e\",\"legendgroup\":\"H\",\"marker\":{\"color\":\"blue\",\"pattern\":{\"shape\":\"\"}},\"name\":\"H\",\"offsetgroup\":\"H\",\"orientation\":\"v\",\"showlegend\":true,\"textposition\":\"auto\",\"x\":[\"H\"],\"xaxis\":\"x\",\"y\":[43.558897311483996],\"yaxis\":\"y\",\"type\":\"bar\"},{\"alignmentgroup\":\"True\",\"hovertemplate\":\"Vict Descent=%{x}\\u003cbr\\u003evalue=%{y}\\u003cextra\\u003e\\u003c\\u002fextra\\u003e\",\"legendgroup\":\"W\",\"marker\":{\"color\":\"green\",\"pattern\":{\"shape\":\"\"}},\"name\":\"W\",\"offsetgroup\":\"W\",\"orientation\":\"v\",\"showlegend\":true,\"textposition\":\"auto\",\"x\":[\"W\"],\"xaxis\":\"x\",\"y\":[21.234897644325798],\"yaxis\":\"y\",\"type\":\"bar\"},{\"alignmentgroup\":\"True\",\"hovertemplate\":\"Vict Descent=%{x}\\u003cbr\\u003evalue=%{y}\\u003cextra\\u003e\\u003c\\u002fextra\\u003e\",\"legendgroup\":\"B\",\"marker\":{\"color\":\"red\",\"pattern\":{\"shape\":\"\"}},\"name\":\"B\",\"offsetgroup\":\"B\",\"orientation\":\"v\",\"showlegend\":true,\"textposition\":\"auto\",\"x\":[\"B\"],\"xaxis\":\"x\",\"y\":[12.630391457424214],\"yaxis\":\"y\",\"type\":\"bar\"},{\"alignmentgroup\":\"True\",\"hovertemplate\":\"Vict Descent=%{x}\\u003cbr\\u003evalue=%{y}\\u003cextra\\u003e\\u003c\\u002fextra\\u003e\",\"legendgroup\":\"O\",\"marker\":{\"color\":\"orange\",\"pattern\":{\"shape\":\"\"}},\"name\":\"O\",\"offsetgroup\":\"O\",\"orientation\":\"v\",\"showlegend\":true,\"textposition\":\"auto\",\"x\":[\"O\"],\"xaxis\":\"x\",\"y\":[12.584557504559523],\"yaxis\":\"y\",\"type\":\"bar\"},{\"alignmentgroup\":\"True\",\"hovertemplate\":\"Vict Descent=%{x}\\u003cbr\\u003evalue=%{y}\\u003cextra\\u003e\\u003c\\u002fextra\\u003e\",\"legendgroup\":\"X\",\"marker\":{\"color\":\"purple\",\"pattern\":{\"shape\":\"\"}},\"name\":\"X\",\"offsetgroup\":\"X\",\"orientation\":\"v\",\"showlegend\":true,\"textposition\":\"auto\",\"x\":[\"X\"],\"xaxis\":\"x\",\"y\":[9.991256082206467],\"yaxis\":\"y\",\"type\":\"bar\"}],                        {\"template\":{\"data\":{\"histogram2dcontour\":[{\"type\":\"histogram2dcontour\",\"colorbar\":{\"outlinewidth\":0,\"ticks\":\"\"},\"colorscale\":[[0.0,\"#0d0887\"],[0.1111111111111111,\"#46039f\"],[0.2222222222222222,\"#7201a8\"],[0.3333333333333333,\"#9c179e\"],[0.4444444444444444,\"#bd3786\"],[0.5555555555555556,\"#d8576b\"],[0.6666666666666666,\"#ed7953\"],[0.7777777777777778,\"#fb9f3a\"],[0.8888888888888888,\"#fdca26\"],[1.0,\"#f0f921\"]]}],\"choropleth\":[{\"type\":\"choropleth\",\"colorbar\":{\"outlinewidth\":0,\"ticks\":\"\"}}],\"histogram2d\":[{\"type\":\"histogram2d\",\"colorbar\":{\"outlinewidth\":0,\"ticks\":\"\"},\"colorscale\":[[0.0,\"#0d0887\"],[0.1111111111111111,\"#46039f\"],[0.2222222222222222,\"#7201a8\"],[0.3333333333333333,\"#9c179e\"],[0.4444444444444444,\"#bd3786\"],[0.5555555555555556,\"#d8576b\"],[0.6666666666666666,\"#ed7953\"],[0.7777777777777778,\"#fb9f3a\"],[0.8888888888888888,\"#fdca26\"],[1.0,\"#f0f921\"]]}],\"heatmap\":[{\"type\":\"heatmap\",\"colorbar\":{\"outlinewidth\":0,\"ticks\":\"\"},\"colorscale\":[[0.0,\"#0d0887\"],[0.1111111111111111,\"#46039f\"],[0.2222222222222222,\"#7201a8\"],[0.3333333333333333,\"#9c179e\"],[0.4444444444444444,\"#bd3786\"],[0.5555555555555556,\"#d8576b\"],[0.6666666666666666,\"#ed7953\"],[0.7777777777777778,\"#fb9f3a\"],[0.8888888888888888,\"#fdca26\"],[1.0,\"#f0f921\"]]}],\"heatmapgl\":[{\"type\":\"heatmapgl\",\"colorbar\":{\"outlinewidth\":0,\"ticks\":\"\"},\"colorscale\":[[0.0,\"#0d0887\"],[0.1111111111111111,\"#46039f\"],[0.2222222222222222,\"#7201a8\"],[0.3333333333333333,\"#9c179e\"],[0.4444444444444444,\"#bd3786\"],[0.5555555555555556,\"#d8576b\"],[0.6666666666666666,\"#ed7953\"],[0.7777777777777778,\"#fb9f3a\"],[0.8888888888888888,\"#fdca26\"],[1.0,\"#f0f921\"]]}],\"contourcarpet\":[{\"type\":\"contourcarpet\",\"colorbar\":{\"outlinewidth\":0,\"ticks\":\"\"}}],\"contour\":[{\"type\":\"contour\",\"colorbar\":{\"outlinewidth\":0,\"ticks\":\"\"},\"colorscale\":[[0.0,\"#0d0887\"],[0.1111111111111111,\"#46039f\"],[0.2222222222222222,\"#7201a8\"],[0.3333333333333333,\"#9c179e\"],[0.4444444444444444,\"#bd3786\"],[0.5555555555555556,\"#d8576b\"],[0.6666666666666666,\"#ed7953\"],[0.7777777777777778,\"#fb9f3a\"],[0.8888888888888888,\"#fdca26\"],[1.0,\"#f0f921\"]]}],\"surface\":[{\"type\":\"surface\",\"colorbar\":{\"outlinewidth\":0,\"ticks\":\"\"},\"colorscale\":[[0.0,\"#0d0887\"],[0.1111111111111111,\"#46039f\"],[0.2222222222222222,\"#7201a8\"],[0.3333333333333333,\"#9c179e\"],[0.4444444444444444,\"#bd3786\"],[0.5555555555555556,\"#d8576b\"],[0.6666666666666666,\"#ed7953\"],[0.7777777777777778,\"#fb9f3a\"],[0.8888888888888888,\"#fdca26\"],[1.0,\"#f0f921\"]]}],\"mesh3d\":[{\"type\":\"mesh3d\",\"colorbar\":{\"outlinewidth\":0,\"ticks\":\"\"}}],\"scatter\":[{\"fillpattern\":{\"fillmode\":\"overlay\",\"size\":10,\"solidity\":0.2},\"type\":\"scatter\"}],\"parcoords\":[{\"type\":\"parcoords\",\"line\":{\"colorbar\":{\"outlinewidth\":0,\"ticks\":\"\"}}}],\"scatterpolargl\":[{\"type\":\"scatterpolargl\",\"marker\":{\"colorbar\":{\"outlinewidth\":0,\"ticks\":\"\"}}}],\"bar\":[{\"error_x\":{\"color\":\"#2a3f5f\"},\"error_y\":{\"color\":\"#2a3f5f\"},\"marker\":{\"line\":{\"color\":\"#E5ECF6\",\"width\":0.5},\"pattern\":{\"fillmode\":\"overlay\",\"size\":10,\"solidity\":0.2}},\"type\":\"bar\"}],\"scattergeo\":[{\"type\":\"scattergeo\",\"marker\":{\"colorbar\":{\"outlinewidth\":0,\"ticks\":\"\"}}}],\"scatterpolar\":[{\"type\":\"scatterpolar\",\"marker\":{\"colorbar\":{\"outlinewidth\":0,\"ticks\":\"\"}}}],\"histogram\":[{\"marker\":{\"pattern\":{\"fillmode\":\"overlay\",\"size\":10,\"solidity\":0.2}},\"type\":\"histogram\"}],\"scattergl\":[{\"type\":\"scattergl\",\"marker\":{\"colorbar\":{\"outlinewidth\":0,\"ticks\":\"\"}}}],\"scatter3d\":[{\"type\":\"scatter3d\",\"line\":{\"colorbar\":{\"outlinewidth\":0,\"ticks\":\"\"}},\"marker\":{\"colorbar\":{\"outlinewidth\":0,\"ticks\":\"\"}}}],\"scattermapbox\":[{\"type\":\"scattermapbox\",\"marker\":{\"colorbar\":{\"outlinewidth\":0,\"ticks\":\"\"}}}],\"scatterternary\":[{\"type\":\"scatterternary\",\"marker\":{\"colorbar\":{\"outlinewidth\":0,\"ticks\":\"\"}}}],\"scattercarpet\":[{\"type\":\"scattercarpet\",\"marker\":{\"colorbar\":{\"outlinewidth\":0,\"ticks\":\"\"}}}],\"carpet\":[{\"aaxis\":{\"endlinecolor\":\"#2a3f5f\",\"gridcolor\":\"white\",\"linecolor\":\"white\",\"minorgridcolor\":\"white\",\"startlinecolor\":\"#2a3f5f\"},\"baxis\":{\"endlinecolor\":\"#2a3f5f\",\"gridcolor\":\"white\",\"linecolor\":\"white\",\"minorgridcolor\":\"white\",\"startlinecolor\":\"#2a3f5f\"},\"type\":\"carpet\"}],\"table\":[{\"cells\":{\"fill\":{\"color\":\"#EBF0F8\"},\"line\":{\"color\":\"white\"}},\"header\":{\"fill\":{\"color\":\"#C8D4E3\"},\"line\":{\"color\":\"white\"}},\"type\":\"table\"}],\"barpolar\":[{\"marker\":{\"line\":{\"color\":\"#E5ECF6\",\"width\":0.5},\"pattern\":{\"fillmode\":\"overlay\",\"size\":10,\"solidity\":0.2}},\"type\":\"barpolar\"}],\"pie\":[{\"automargin\":true,\"type\":\"pie\"}]},\"layout\":{\"autotypenumbers\":\"strict\",\"colorway\":[\"#636efa\",\"#EF553B\",\"#00cc96\",\"#ab63fa\",\"#FFA15A\",\"#19d3f3\",\"#FF6692\",\"#B6E880\",\"#FF97FF\",\"#FECB52\"],\"font\":{\"color\":\"#2a3f5f\"},\"hovermode\":\"closest\",\"hoverlabel\":{\"align\":\"left\"},\"paper_bgcolor\":\"white\",\"plot_bgcolor\":\"#E5ECF6\",\"polar\":{\"bgcolor\":\"#E5ECF6\",\"angularaxis\":{\"gridcolor\":\"white\",\"linecolor\":\"white\",\"ticks\":\"\"},\"radialaxis\":{\"gridcolor\":\"white\",\"linecolor\":\"white\",\"ticks\":\"\"}},\"ternary\":{\"bgcolor\":\"#E5ECF6\",\"aaxis\":{\"gridcolor\":\"white\",\"linecolor\":\"white\",\"ticks\":\"\"},\"baxis\":{\"gridcolor\":\"white\",\"linecolor\":\"white\",\"ticks\":\"\"},\"caxis\":{\"gridcolor\":\"white\",\"linecolor\":\"white\",\"ticks\":\"\"}},\"coloraxis\":{\"colorbar\":{\"outlinewidth\":0,\"ticks\":\"\"}},\"colorscale\":{\"sequential\":[[0.0,\"#0d0887\"],[0.1111111111111111,\"#46039f\"],[0.2222222222222222,\"#7201a8\"],[0.3333333333333333,\"#9c179e\"],[0.4444444444444444,\"#bd3786\"],[0.5555555555555556,\"#d8576b\"],[0.6666666666666666,\"#ed7953\"],[0.7777777777777778,\"#fb9f3a\"],[0.8888888888888888,\"#fdca26\"],[1.0,\"#f0f921\"]],\"sequentialminus\":[[0.0,\"#0d0887\"],[0.1111111111111111,\"#46039f\"],[0.2222222222222222,\"#7201a8\"],[0.3333333333333333,\"#9c179e\"],[0.4444444444444444,\"#bd3786\"],[0.5555555555555556,\"#d8576b\"],[0.6666666666666666,\"#ed7953\"],[0.7777777777777778,\"#fb9f3a\"],[0.8888888888888888,\"#fdca26\"],[1.0,\"#f0f921\"]],\"diverging\":[[0,\"#8e0152\"],[0.1,\"#c51b7d\"],[0.2,\"#de77ae\"],[0.3,\"#f1b6da\"],[0.4,\"#fde0ef\"],[0.5,\"#f7f7f7\"],[0.6,\"#e6f5d0\"],[0.7,\"#b8e186\"],[0.8,\"#7fbc41\"],[0.9,\"#4d9221\"],[1,\"#276419\"]]},\"xaxis\":{\"gridcolor\":\"white\",\"linecolor\":\"white\",\"ticks\":\"\",\"title\":{\"standoff\":15},\"zerolinecolor\":\"white\",\"automargin\":true,\"zerolinewidth\":2},\"yaxis\":{\"gridcolor\":\"white\",\"linecolor\":\"white\",\"ticks\":\"\",\"title\":{\"standoff\":15},\"zerolinecolor\":\"white\",\"automargin\":true,\"zerolinewidth\":2},\"scene\":{\"xaxis\":{\"backgroundcolor\":\"#E5ECF6\",\"gridcolor\":\"white\",\"linecolor\":\"white\",\"showbackground\":true,\"ticks\":\"\",\"zerolinecolor\":\"white\",\"gridwidth\":2},\"yaxis\":{\"backgroundcolor\":\"#E5ECF6\",\"gridcolor\":\"white\",\"linecolor\":\"white\",\"showbackground\":true,\"ticks\":\"\",\"zerolinecolor\":\"white\",\"gridwidth\":2},\"zaxis\":{\"backgroundcolor\":\"#E5ECF6\",\"gridcolor\":\"white\",\"linecolor\":\"white\",\"showbackground\":true,\"ticks\":\"\",\"zerolinecolor\":\"white\",\"gridwidth\":2}},\"shapedefaults\":{\"line\":{\"color\":\"#2a3f5f\"}},\"annotationdefaults\":{\"arrowcolor\":\"#2a3f5f\",\"arrowhead\":0,\"arrowwidth\":1},\"geo\":{\"bgcolor\":\"white\",\"landcolor\":\"#E5ECF6\",\"subunitcolor\":\"white\",\"showland\":true,\"showlakes\":true,\"lakecolor\":\"white\"},\"title\":{\"x\":0.05},\"mapbox\":{\"style\":\"light\"}}},\"xaxis\":{\"anchor\":\"y\",\"domain\":[0.0,1.0],\"title\":{\"text\":\"Vict Descent\"},\"categoryorder\":\"array\",\"categoryarray\":[\"H\",\"W\",\"B\",\"O\",\"X\"]},\"yaxis\":{\"anchor\":\"x\",\"domain\":[0.0,1.0],\"title\":{\"text\":\"value\"}},\"legend\":{\"title\":{\"text\":\"Vict Descent\"},\"tracegroupgap\":0},\"margin\":{\"t\":60},\"barmode\":\"relative\",\"title\":{\"text\":\"Distribution of Victim Descent\"}},                        {\"responsive\": true}                    ).then(function(){\n",
              "                            \n",
              "var gd = document.getElementById('f197171b-a7dd-4441-8653-fc03fa2011b4');\n",
              "var x = new MutationObserver(function (mutations, observer) {{\n",
              "        var display = window.getComputedStyle(gd).display;\n",
              "        if (!display || display === 'none') {{\n",
              "            console.log([gd, 'removed!']);\n",
              "            Plotly.purge(gd);\n",
              "            observer.disconnect();\n",
              "        }}\n",
              "}});\n",
              "\n",
              "// Listen for the removal of the full notebook cells\n",
              "var notebookContainer = gd.closest('#notebook-container');\n",
              "if (notebookContainer) {{\n",
              "    x.observe(notebookContainer, {childList: true});\n",
              "}}\n",
              "\n",
              "// Listen for the clearing of the current output cell\n",
              "var outputEl = gd.closest('.output');\n",
              "if (outputEl) {{\n",
              "    x.observe(outputEl, {childList: true});\n",
              "}}\n",
              "\n",
              "                        })                };                            </script>        </div>\n",
              "</body>\n",
              "</html>"
            ]
          },
          "metadata": {}
        }
      ],
      "source": [
        "class_colors = {\n",
        "    'H': 'blue',\n",
        "    'W': 'green',\n",
        "    'B': 'red',\n",
        "    'O': 'orange',\n",
        "    'X': 'purple'\n",
        "}\n",
        "class_count = df['Vict Descent'].value_counts()/len(df) * 100\n",
        "fig = px.bar(class_count,color=class_count.index, color_discrete_map=class_colors)\n",
        "fig.update_layout(title=\"Distribution of Victim Descent\")\n",
        "fig.show()"
      ]
    },
    {
      "cell_type": "markdown",
      "metadata": {
        "id": "aqOiBwLOeEKV"
      },
      "source": [
        "**CHECKING THE UNIQUE CATEGORICAL VALUES**"
      ]
    },
    {
      "cell_type": "code",
      "execution_count": null,
      "metadata": {
        "id": "8E_HvdmxEtvg"
      },
      "outputs": [],
      "source": [
        "cat_columns = df.select_dtypes('object').columns"
      ]
    },
    {
      "cell_type": "code",
      "execution_count": null,
      "metadata": {
        "id": "3PkmSSOyE0Fh"
      },
      "outputs": [],
      "source": [
        "cat_df=df[cat_columns]"
      ]
    },
    {
      "cell_type": "code",
      "execution_count": null,
      "metadata": {
        "id": "rgFNfE_oFChk",
        "colab": {
          "base_uri": "https://localhost:8080/"
        },
        "outputId": "e822150a-8c5b-44eb-a8e4-740a16e8a4aa"
      },
      "outputs": [
        {
          "output_type": "stream",
          "name": "stdout",
          "text": [
            "This col: Date Rptd 1511\n",
            "This col: DATE OCC 1511\n",
            "This col: AREA NAME 21\n",
            "This col: Crm Cd Desc 137\n",
            "This col: Mocodes 194150\n",
            "This col: Vict Sex 5\n",
            "This col: Premis Desc 305\n",
            "This col: Weapon Desc 5\n",
            "This col: Status 6\n",
            "This col: Status Desc 6\n",
            "This col: LOCATION 60433\n",
            "This col: Cross Street 8672\n",
            "This col: Vict Descent 5\n"
          ]
        }
      ],
      "source": [
        "for col in cat_df:\n",
        "  print(\"This col:\",col ,len(cat_df[col].unique()))"
      ]
    },
    {
      "cell_type": "code",
      "execution_count": null,
      "metadata": {
        "id": "Zr2ML17rJ30A"
      },
      "outputs": [],
      "source": [
        "num_columns = df.select_dtypes('int64','float64').columns"
      ]
    },
    {
      "cell_type": "markdown",
      "metadata": {
        "id": "lJAjP_7cRhJ-"
      },
      "source": [
        "**TIME FORMAT IS IN 24 HOUR, WE MAY MAKE A CATEGORICAL COLUMN AS AN INTERPRETATION OF THE NUMERIC COLUMN FOR CONVENIENCE.**\n",
        "\n",
        "\n"
      ]
    },
    {
      "cell_type": "code",
      "execution_count": null,
      "metadata": {
        "id": "-zpxAjOlRp9P"
      },
      "outputs": [],
      "source": [
        "cat_time=[]\n",
        "for item in df['TIME OCC']:\n",
        "  if item>=400 and item<1200:\n",
        "    cat_time.append('Morning')\n",
        "  elif item>=1200 and item<1700:\n",
        "    cat_time.append('Afternoon')\n",
        "  elif item>=1700 and item<2100:\n",
        "    cat_time.append('Evening')\n",
        "  elif item>=2100 and item<=2359:\n",
        "    cat_time.append('Night')\n",
        "  elif item>=0000 and item<400:\n",
        "    cat_time.append('Midnight')"
      ]
    },
    {
      "cell_type": "code",
      "execution_count": null,
      "metadata": {
        "id": "4cEU-srVT1DH",
        "colab": {
          "base_uri": "https://localhost:8080/"
        },
        "outputId": "c6e73bcf-322a-4fb2-ec72-001ac6f96b22"
      },
      "outputs": [
        {
          "output_type": "stream",
          "name": "stdout",
          "text": [
            "(733081, 13)\n"
          ]
        }
      ],
      "source": [
        "df['TIME'] = cat_time\n",
        "print(df[cat_columns].shape)"
      ]
    },
    {
      "cell_type": "code",
      "execution_count": null,
      "metadata": {
        "id": "b4zM0THIEWK0",
        "colab": {
          "base_uri": "https://localhost:8080/"
        },
        "outputId": "3090deb7-8cf3-44f6-8f18-e18c89aefbff"
      },
      "outputs": [
        {
          "output_type": "execute_result",
          "data": {
            "text/plain": [
              "Date Rptd         0.0\n",
              "DATE OCC          0.0\n",
              "TIME OCC          0.0\n",
              "AREA NAME         0.0\n",
              "Rpt Dist No       0.0\n",
              "Part 1-2          0.0\n",
              "Crm Cd            0.0\n",
              "Crm Cd Desc       0.0\n",
              "Mocodes           0.0\n",
              "Vict Age          0.0\n",
              "Vict Sex          0.0\n",
              "Premis Cd         0.0\n",
              "Premis Desc       0.0\n",
              "Weapon Used Cd    0.0\n",
              "Weapon Desc       0.0\n",
              "Status            0.0\n",
              "Status Desc       0.0\n",
              "LOCATION          0.0\n",
              "Cross Street      0.0\n",
              "LAT               0.0\n",
              "LON               0.0\n",
              "Vict Descent      0.0\n",
              "TIME              0.0\n",
              "dtype: float64"
            ]
          },
          "metadata": {},
          "execution_count": 34
        }
      ],
      "source": [
        "df.isna().sum()/len(df)"
      ]
    },
    {
      "cell_type": "code",
      "execution_count": null,
      "metadata": {
        "id": "6w9DVgzmf_vY",
        "colab": {
          "base_uri": "https://localhost:8080/",
          "height": 202
        },
        "outputId": "b4d9be10-f844-4de7-a257-508f8162661b"
      },
      "outputs": [
        {
          "output_type": "execute_result",
          "data": {
            "text/plain": [
              "       Date Rptd       DATE OCC  TIME OCC AREA NAME  Rpt Dist No  Part 1-2  \\\n",
              "0  3/1/2020 0:00  3/1/2020 0:00      2130  Wilshire          784         1   \n",
              "\n",
              "   Crm Cd       Crm Cd Desc Mocodes  Vict Age Vict Sex  Premis Cd Premis Desc  \\\n",
              "0     510  VEHICLE - STOLEN     344         0        M      101.0      STREET   \n",
              "\n",
              "   Weapon Used Cd                                     Weapon Desc Status  \\\n",
              "0      363.443555  STRONG-ARM (HANDS, FIST, FEET OR BODILY FORCE)     AA   \n",
              "\n",
              "    Status Desc                                 LOCATION Cross Street  \\\n",
              "0  Adult Arrest  1900 S  LONGWOOD                     AV     BROADWAY   \n",
              "\n",
              "       LAT       LON Vict Descent   TIME  \n",
              "0  34.0375 -118.3506            O  Night  "
            ],
            "text/html": [
              "\n",
              "  <div id=\"df-28f6617e-0e5d-46dd-8087-75b0c63b84ca\" class=\"colab-df-container\">\n",
              "    <div>\n",
              "<style scoped>\n",
              "    .dataframe tbody tr th:only-of-type {\n",
              "        vertical-align: middle;\n",
              "    }\n",
              "\n",
              "    .dataframe tbody tr th {\n",
              "        vertical-align: top;\n",
              "    }\n",
              "\n",
              "    .dataframe thead th {\n",
              "        text-align: right;\n",
              "    }\n",
              "</style>\n",
              "<table border=\"1\" class=\"dataframe\">\n",
              "  <thead>\n",
              "    <tr style=\"text-align: right;\">\n",
              "      <th></th>\n",
              "      <th>Date Rptd</th>\n",
              "      <th>DATE OCC</th>\n",
              "      <th>TIME OCC</th>\n",
              "      <th>AREA NAME</th>\n",
              "      <th>Rpt Dist No</th>\n",
              "      <th>Part 1-2</th>\n",
              "      <th>Crm Cd</th>\n",
              "      <th>Crm Cd Desc</th>\n",
              "      <th>Mocodes</th>\n",
              "      <th>Vict Age</th>\n",
              "      <th>Vict Sex</th>\n",
              "      <th>Premis Cd</th>\n",
              "      <th>Premis Desc</th>\n",
              "      <th>Weapon Used Cd</th>\n",
              "      <th>Weapon Desc</th>\n",
              "      <th>Status</th>\n",
              "      <th>Status Desc</th>\n",
              "      <th>LOCATION</th>\n",
              "      <th>Cross Street</th>\n",
              "      <th>LAT</th>\n",
              "      <th>LON</th>\n",
              "      <th>Vict Descent</th>\n",
              "      <th>TIME</th>\n",
              "    </tr>\n",
              "  </thead>\n",
              "  <tbody>\n",
              "    <tr>\n",
              "      <th>0</th>\n",
              "      <td>3/1/2020 0:00</td>\n",
              "      <td>3/1/2020 0:00</td>\n",
              "      <td>2130</td>\n",
              "      <td>Wilshire</td>\n",
              "      <td>784</td>\n",
              "      <td>1</td>\n",
              "      <td>510</td>\n",
              "      <td>VEHICLE - STOLEN</td>\n",
              "      <td>344</td>\n",
              "      <td>0</td>\n",
              "      <td>M</td>\n",
              "      <td>101.0</td>\n",
              "      <td>STREET</td>\n",
              "      <td>363.443555</td>\n",
              "      <td>STRONG-ARM (HANDS, FIST, FEET OR BODILY FORCE)</td>\n",
              "      <td>AA</td>\n",
              "      <td>Adult Arrest</td>\n",
              "      <td>1900 S  LONGWOOD                     AV</td>\n",
              "      <td>BROADWAY</td>\n",
              "      <td>34.0375</td>\n",
              "      <td>-118.3506</td>\n",
              "      <td>O</td>\n",
              "      <td>Night</td>\n",
              "    </tr>\n",
              "  </tbody>\n",
              "</table>\n",
              "</div>\n",
              "    <div class=\"colab-df-buttons\">\n",
              "\n",
              "  <div class=\"colab-df-container\">\n",
              "    <button class=\"colab-df-convert\" onclick=\"convertToInteractive('df-28f6617e-0e5d-46dd-8087-75b0c63b84ca')\"\n",
              "            title=\"Convert this dataframe to an interactive table.\"\n",
              "            style=\"display:none;\">\n",
              "\n",
              "  <svg xmlns=\"http://www.w3.org/2000/svg\" height=\"24px\" viewBox=\"0 -960 960 960\">\n",
              "    <path d=\"M120-120v-720h720v720H120Zm60-500h600v-160H180v160Zm220 220h160v-160H400v160Zm0 220h160v-160H400v160ZM180-400h160v-160H180v160Zm440 0h160v-160H620v160ZM180-180h160v-160H180v160Zm440 0h160v-160H620v160Z\"/>\n",
              "  </svg>\n",
              "    </button>\n",
              "\n",
              "  <style>\n",
              "    .colab-df-container {\n",
              "      display:flex;\n",
              "      gap: 12px;\n",
              "    }\n",
              "\n",
              "    .colab-df-convert {\n",
              "      background-color: #E8F0FE;\n",
              "      border: none;\n",
              "      border-radius: 50%;\n",
              "      cursor: pointer;\n",
              "      display: none;\n",
              "      fill: #1967D2;\n",
              "      height: 32px;\n",
              "      padding: 0 0 0 0;\n",
              "      width: 32px;\n",
              "    }\n",
              "\n",
              "    .colab-df-convert:hover {\n",
              "      background-color: #E2EBFA;\n",
              "      box-shadow: 0px 1px 2px rgba(60, 64, 67, 0.3), 0px 1px 3px 1px rgba(60, 64, 67, 0.15);\n",
              "      fill: #174EA6;\n",
              "    }\n",
              "\n",
              "    .colab-df-buttons div {\n",
              "      margin-bottom: 4px;\n",
              "    }\n",
              "\n",
              "    [theme=dark] .colab-df-convert {\n",
              "      background-color: #3B4455;\n",
              "      fill: #D2E3FC;\n",
              "    }\n",
              "\n",
              "    [theme=dark] .colab-df-convert:hover {\n",
              "      background-color: #434B5C;\n",
              "      box-shadow: 0px 1px 3px 1px rgba(0, 0, 0, 0.15);\n",
              "      filter: drop-shadow(0px 1px 2px rgba(0, 0, 0, 0.3));\n",
              "      fill: #FFFFFF;\n",
              "    }\n",
              "  </style>\n",
              "\n",
              "    <script>\n",
              "      const buttonEl =\n",
              "        document.querySelector('#df-28f6617e-0e5d-46dd-8087-75b0c63b84ca button.colab-df-convert');\n",
              "      buttonEl.style.display =\n",
              "        google.colab.kernel.accessAllowed ? 'block' : 'none';\n",
              "\n",
              "      async function convertToInteractive(key) {\n",
              "        const element = document.querySelector('#df-28f6617e-0e5d-46dd-8087-75b0c63b84ca');\n",
              "        const dataTable =\n",
              "          await google.colab.kernel.invokeFunction('convertToInteractive',\n",
              "                                                    [key], {});\n",
              "        if (!dataTable) return;\n",
              "\n",
              "        const docLinkHtml = 'Like what you see? Visit the ' +\n",
              "          '<a target=\"_blank\" href=https://colab.research.google.com/notebooks/data_table.ipynb>data table notebook</a>'\n",
              "          + ' to learn more about interactive tables.';\n",
              "        element.innerHTML = '';\n",
              "        dataTable['output_type'] = 'display_data';\n",
              "        await google.colab.output.renderOutput(dataTable, element);\n",
              "        const docLink = document.createElement('div');\n",
              "        docLink.innerHTML = docLinkHtml;\n",
              "        element.appendChild(docLink);\n",
              "      }\n",
              "    </script>\n",
              "  </div>\n",
              "\n",
              "\n",
              "    </div>\n",
              "  </div>\n"
            ],
            "application/vnd.google.colaboratory.intrinsic+json": {
              "type": "dataframe",
              "variable_name": "df"
            }
          },
          "metadata": {},
          "execution_count": 35
        }
      ],
      "source": [
        "df.head(1)"
      ]
    },
    {
      "cell_type": "markdown",
      "metadata": {
        "id": "sp9HYtlIBn7Y"
      },
      "source": [
        "**Dropping the \"DATE OCC\",\"Date Rptd\",\"Status Desc\" and \" TIME OCC\"**\n",
        "\n",
        "\n",
        "\n"
      ]
    },
    {
      "cell_type": "code",
      "execution_count": null,
      "metadata": {
        "id": "5EHM9U5WByHg"
      },
      "outputs": [],
      "source": [
        "df = df.drop(['DATE OCC','Date Rptd',\"Status Desc\",\"TIME OCC\"],axis = 1)\n"
      ]
    },
    {
      "cell_type": "markdown",
      "metadata": {
        "id": "baKaHJg7Bh9D"
      },
      "source": [
        "\n",
        "\n",
        "```\n",
        "# This is formatted as code\n",
        "```\n",
        "\n",
        "**MODELING AND FEATURE ENGINEERING**\n",
        "\n",
        "---\n",
        "\n"
      ]
    },
    {
      "cell_type": "markdown",
      "metadata": {
        "id": "w6mhpNU5_cIs"
      },
      "source": [
        "**Frequency encoding**\n",
        "\n",
        "*   Cross Street\n",
        "*   LOCATION\n",
        "*   Mocodes\n",
        "*   Premis Desc\n",
        "\n"
      ]
    },
    {
      "cell_type": "code",
      "execution_count": null,
      "metadata": {
        "id": "nMncvvWFNDhf"
      },
      "outputs": [],
      "source": [
        "df_copy = df"
      ]
    },
    {
      "cell_type": "code",
      "execution_count": null,
      "metadata": {
        "id": "39yEQzboiLYP"
      },
      "outputs": [],
      "source": [
        "enco_dict = {}\n",
        "freq_col = ['Cross Street','LOCATION','Mocodes','Premis Desc','Crm Cd Desc']\n",
        "\n",
        "\n",
        "for col in freq_col:\n",
        "   enco_dict[col] = (df[col].value_counts()).to_dict()"
      ]
    },
    {
      "cell_type": "code",
      "execution_count": null,
      "metadata": {
        "id": "OjXOiG7MiLPC"
      },
      "outputs": [],
      "source": [
        "\n",
        "for col in freq_col:\n",
        "   df[col]= df[col].map(enco_dict[col])"
      ]
    },
    {
      "cell_type": "markdown",
      "metadata": {
        "id": "8U0IoQ3LOaLp"
      },
      "source": [
        "**OneHotEncoding the following Variables**\n",
        "\n",
        "\n",
        "*   Vict Sex\n",
        "*   Status\n",
        "*   TIME\n",
        "*   Area Name\n",
        "\n",
        "\n"
      ]
    },
    {
      "cell_type": "code",
      "execution_count": null,
      "metadata": {
        "id": "k6R_fvJsNn3b",
        "colab": {
          "base_uri": "https://localhost:8080/"
        },
        "outputId": "fe74f3d9-ce11-4b1c-91ac-a44092c42aca"
      },
      "outputs": [
        {
          "output_type": "execute_result",
          "data": {
            "text/plain": [
              "Index(['AREA NAME', 'Rpt Dist No', 'Part 1-2', 'Crm Cd', 'Crm Cd Desc',\n",
              "       'Mocodes', 'Vict Age', 'Vict Sex', 'Premis Cd', 'Premis Desc',\n",
              "       'Weapon Used Cd', 'Weapon Desc', 'Status', 'LOCATION', 'Cross Street',\n",
              "       'LAT', 'LON', 'Vict Descent', 'TIME'],\n",
              "      dtype='object')"
            ]
          },
          "metadata": {},
          "execution_count": 40
        }
      ],
      "source": [
        "df.columns"
      ]
    },
    {
      "cell_type": "code",
      "execution_count": null,
      "metadata": {
        "id": "V8ADFjJrNnzZ"
      },
      "outputs": [],
      "source": [
        "df = pd.get_dummies(df, columns=['Vict Sex','Status','TIME','AREA NAME','Part 1-2'])\n"
      ]
    },
    {
      "cell_type": "markdown",
      "metadata": {
        "id": "1yz_fpbYQZHb"
      },
      "source": [
        "**Ordinal Encoding the following Variables**\n",
        "\n",
        "*   Weapon Desc\n",
        "\n"
      ]
    },
    {
      "cell_type": "code",
      "execution_count": null,
      "metadata": {
        "id": "kX1kOhS6NnxH"
      },
      "outputs": [],
      "source": [
        "ord = OrdinalEncoder()\n",
        "df[['Weapon Desc']] = ord.fit_transform(df[['Weapon Desc']])"
      ]
    },
    {
      "cell_type": "markdown",
      "metadata": {
        "id": "noasxthu_2Xv"
      },
      "source": [
        "**Taking Supervised and Unsupervised Column**"
      ]
    },
    {
      "cell_type": "code",
      "execution_count": null,
      "metadata": {
        "id": "j9ZrHZ1DiLEU"
      },
      "outputs": [],
      "source": [
        "\n",
        "y = df['Vict Descent']\n",
        "df = df.drop(['Vict Descent'], axis = 1)\n",
        "X = df.iloc[:,0:len(df.columns)-1]"
      ]
    },
    {
      "cell_type": "markdown",
      "metadata": {
        "id": "Niy8ABLCwDjS"
      },
      "source": [
        "**Scaling to maintain uniformity amongst Continous Variables using the standard Scaler**\n",
        "\n",
        "Standardize features by removing the mean and scaling to unit variance.\n",
        "\n",
        "The standard score of a sample x is calculated as:\n",
        "\n",
        "z = (x - u) / s\n",
        "where u is the mean of the training samples or zero if with_mean=False, and s is the standard deviation of the training samples or one if with_std=False.   "
      ]
    },
    {
      "cell_type": "code",
      "execution_count": null,
      "metadata": {
        "id": "sifN-vkwWZyA"
      },
      "outputs": [],
      "source": [
        "scaler = StandardScaler()\n",
        "num_cols = X.select_dtypes(include = ['int64','float64'])\n",
        "num_cols = list(num_cols)\n",
        "\n",
        "\n",
        "X[['Rpt Dist No', 'Crm Cd', 'Crm Cd Desc', 'Mocodes', 'Vict Age', 'Premis Cd', 'Premis Desc', 'Weapon Used Cd', 'Weapon Desc', 'LOCATION', 'Cross Street', 'LAT', 'LON']] = scaler.fit_transform(X[['Rpt Dist No', 'Crm Cd', 'Crm Cd Desc', 'Mocodes', 'Vict Age', 'Premis Cd', 'Premis Desc', 'Weapon Used Cd', 'Weapon Desc', 'LOCATION', 'Cross Street', 'LAT', 'LON']])"
      ]
    },
    {
      "cell_type": "markdown",
      "metadata": {
        "id": "9g7l-ugUnvpj"
      },
      "source": [
        "**LABEL ENCODING TARGET VARIABLES**"
      ]
    },
    {
      "cell_type": "code",
      "execution_count": null,
      "metadata": {
        "id": "EvFO_UDwnuzc"
      },
      "outputs": [],
      "source": [
        "le = LabelEncoder()\n",
        "y = le.fit_transform(y)\n"
      ]
    },
    {
      "cell_type": "code",
      "source": [
        "X = pd.DataFrame(X)"
      ],
      "metadata": {
        "id": "GFTgoxvKCCJx"
      },
      "execution_count": null,
      "outputs": []
    },
    {
      "cell_type": "markdown",
      "source": [
        "**FEATURE SELECTION**\n",
        "\n",
        "---\n",
        "\n"
      ],
      "metadata": {
        "id": "B3parM7F-xwh"
      }
    },
    {
      "cell_type": "code",
      "source": [
        "clf = ExtraTreesClassifier(n_estimators = 200)\n",
        "clf = clf.fit(X,y)\n",
        "clf.feature_importances_\n",
        "s2 = SelectFromModel(clf, prefit=True)\n",
        "X = s2.fit_transform(X)"
      ],
      "metadata": {
        "id": "IPAydrd4-xEK"
      },
      "execution_count": null,
      "outputs": []
    },
    {
      "cell_type": "code",
      "execution_count": null,
      "metadata": {
        "id": "IcHOYv1n4xvA"
      },
      "outputs": [],
      "source": [
        "X_train,X_val,y_train,y_val = train_test_split(X,y,random_state = 42, stratify = y,shuffle = True,test_size = 0.3)"
      ]
    },
    {
      "cell_type": "markdown",
      "metadata": {
        "id": "jX_ktmW219h9"
      },
      "source": [
        "**BASELINE MODEL**\n",
        "\n",
        "---\n",
        "\n"
      ]
    },
    {
      "cell_type": "markdown",
      "source": [
        "#Log Regression"
      ],
      "metadata": {
        "id": "ueTCY3PloTD_"
      }
    },
    {
      "cell_type": "code",
      "execution_count": null,
      "metadata": {
        "id": "57oJRFsMxByJ",
        "colab": {
          "base_uri": "https://localhost:8080/"
        },
        "outputId": "cbce0ec0-97b9-404b-ca99-00c719d85c7b"
      },
      "outputs": [
        {
          "output_type": "stream",
          "name": "stdout",
          "text": [
            "Accuracy: 0.5642969194043423\n"
          ]
        }
      ],
      "source": [
        "\n",
        "classifier = LogisticRegression(C=0.01, solver='sag', max_iter=1000, penalty='l2', random_state=42,multi_class = 'ovr')\n",
        "classifier.fit(X_train, y_train)\n",
        "y_pred_logic = classifier.predict(X_val)\n",
        "accuracy = accuracy_score(y_val,y_pred_logic)\n",
        "print(\"Accuracy:\", accuracy)"
      ]
    },
    {
      "cell_type": "markdown",
      "source": [
        "#RUNNING LDA"
      ],
      "metadata": {
        "id": "p0wadWhnoRT_"
      }
    },
    {
      "cell_type": "code",
      "source": [
        "lda = LinearDiscriminantAnalysis(solver='svd',tol = 0.002)\n",
        "lda.fit(X_train, y_train)\n",
        "X_train_transformed = lda.transform(X_train)\n",
        "y_pred_lda = lda.predict(X_val)\n",
        "print(f\"Accuracy: {accuracy_score(y_val,y_pred_lda)}\")"
      ],
      "metadata": {
        "id": "xWyps0aFx1WU",
        "colab": {
          "base_uri": "https://localhost:8080/"
        },
        "outputId": "6339a582-a523-4058-8204-3079f2158f26"
      },
      "execution_count": null,
      "outputs": [
        {
          "output_type": "stream",
          "name": "stdout",
          "text": [
            "Accuracy: 0.5643378424462885\n"
          ]
        }
      ]
    },
    {
      "cell_type": "markdown",
      "source": [
        "**SINCE OUR LINEAR BASELINE MODELS ARE NOT PROVIDING DECENT SCORES, WE'LL GO WITH ENSEMBLE METHODS**"
      ],
      "metadata": {
        "id": "l4ozYW2Jq3n6"
      }
    },
    {
      "cell_type": "markdown",
      "source": [
        "**HYPERPARAMETER TUNING USING HYPER OPT**"
      ],
      "metadata": {
        "id": "ib3Kwz84dHPq"
      }
    },
    {
      "cell_type": "code",
      "source": [
        "# xgb_params = {\n",
        "\n",
        "#             'objective': 'classification',\n",
        "#             'metric': 'accuracy',\n",
        "#             'max_depth': hp.choice('max_depth', list(range(7,14))),\n",
        "#             'num_leaves': hp.choice('num_leaves', list(range(20, 120, 15))),\n",
        "#             'boosting_type': hp.choice('boosting_type', ['gbdt', 'dart']),\n",
        "#             \"random_state\" : 42,\n",
        "#             'learning_rate': hp.uniform('learning_rate', 0.01, 1),\n",
        "#             'min_child_samples': hp.choice('min_child_samples', [20, 45, 70, 100]),\n",
        "#             'reg_lambda': hp.uniform('reg_lambda', 0.0, 1.0),\n",
        "\n",
        "\n",
        "\n",
        "\n",
        "\n",
        "# }"
      ],
      "metadata": {
        "id": "Fcy-aiRhAbwQ"
      },
      "execution_count": null,
      "outputs": []
    },
    {
      "cell_type": "code",
      "source": [
        "cat_params = {\n",
        "    'loss_function': 'MultiClass',\n",
        "    'eval_metric': 'Accuracy',\n",
        "    'depth': hp.choice('depth', list(range(7, 14))),\n",
        "    'learning_rate': hp.uniform('learning_rate', 0.01, 1),\n",
        "    'l2_leaf_reg': hp.uniform('l2_leaf_reg', 1, 10),\n",
        "    'random_seed': 42,\n",
        "    'bootstrap_type': hp.choice('bootstrap_type', ['Bayesian', 'Bernoulli', 'MVS']),\n",
        "    'subsample': hp.uniform('subsample', 0.5, 1),\n",
        "    'grow_policy': hp.choice('grow_policy', ['SymmetricTree', 'Depthwise', 'Lossguide']),\n",
        "    'leaf_estimation_method': hp.choice('leaf_estimation_method', ['Newton', 'Gradient']),\n",
        "    'task_type': 'GPU' }"
      ],
      "metadata": {
        "id": "2_0_xPVd3or1"
      },
      "execution_count": null,
      "outputs": []
    },
    {
      "cell_type": "code",
      "source": [
        "def optimize_xgb(params):\n",
        "  base_model = XGBClassifier(**params,enable_categorical=True)\n",
        "\n",
        "  score = cross_val_score(base_model,X_train,y_train, cv=5,scoring=\"accuracy\").mean()\n",
        "  print('\\nValidation score:', score)\n",
        "\n",
        "  return {'accuracy':score,\"status\": STATUS_OK}"
      ],
      "metadata": {
        "id": "mDRKFKC5Bydn"
      },
      "execution_count": null,
      "outputs": []
    },
    {
      "cell_type": "code",
      "source": [
        "def optimize_cat(params):\n",
        "  base_model = CatBoostClassifier(**params)\n",
        "\n",
        "  score = cross_val_score(base_model,X_train,y_train, cv=5,scoring=\"accuracy\").mean()\n",
        "  print('\\nValidation score:', score)\n",
        "\n",
        "  return {'accuracy':score,\"status\": STATUS_OK}"
      ],
      "metadata": {
        "id": "CY4xRWT_4AWG"
      },
      "execution_count": null,
      "outputs": []
    },
    {
      "cell_type": "code",
      "source": [
        "# trials = Trials()\n",
        "\n",
        "# best_xgb = fmin(fn = optimize_xgb, space = xgb_params, algo = tpe.suggest ,trials=trials, max_evals = 50)"
      ],
      "metadata": {
        "id": "D-hoo5opCQZR"
      },
      "execution_count": null,
      "outputs": []
    },
    {
      "cell_type": "code",
      "source": [
        "# print(best_xgb)"
      ],
      "metadata": {
        "id": "My8XxEc0c6mz"
      },
      "execution_count": null,
      "outputs": []
    },
    {
      "cell_type": "code",
      "source": [
        "# {'boosting_type': 0, 'learning_rate': 0.9774191403319948, 'max_depth': 5, 'min_child_samples': 1, 'num_leaves': 2, 'reg_lambda': 0.34569983472833454}"
      ],
      "metadata": {
        "id": "-AvL6ptdc_QC"
      },
      "execution_count": null,
      "outputs": []
    },
    {
      "cell_type": "code",
      "source": [
        "model1 = XGBClassifier( enable_categorical=True,learning_rate = 0.9774191403319948, max_depth =  5, min_child_samples =  1, num_leaves = 2, reg_lambda = 0.34569983472833454)\n",
        "model2 = CatBoostClassifier(loss_function = 'MultiClassOneVsAll',random_state = 42, learning_rate =0.9774191403319948,l2_leaf_reg =  0.34569983472833454, max_depth =  5, min_child_samples =  2)\n"
      ],
      "metadata": {
        "id": "oSwZbcYQdYNU"
      },
      "execution_count": null,
      "outputs": []
    },
    {
      "cell_type": "markdown",
      "source": [
        "Xtreme Gradient Boosting"
      ],
      "metadata": {
        "id": "rjxDNk9LzWDe"
      }
    },
    {
      "cell_type": "code",
      "source": [
        "model1.fit(X_train,y_train)\n",
        "y_pred_xgb = model1.predict(X_val)\n",
        "print(accuracy_score(y_val,y_pred_xgb))\n"
      ],
      "metadata": {
        "colab": {
          "base_uri": "https://localhost:8080/"
        },
        "id": "Z6aD-AdUgXQW",
        "outputId": "5c817ad3-bb77-4799-fd41-e980376fc6ec"
      },
      "execution_count": null,
      "outputs": [
        {
          "output_type": "stream",
          "name": "stdout",
          "text": [
            "0.6664863021484597\n"
          ]
        }
      ]
    },
    {
      "cell_type": "markdown",
      "source": [
        "Categorical Boosting"
      ],
      "metadata": {
        "id": "kViwnzbM1CGi"
      }
    },
    {
      "cell_type": "code",
      "source": [
        "model2.fit(X_train,y_train)\n",
        "y_pred_cat = model2.predict(X_val)\n",
        "print(accuracy_score(y_val,y_pred_cat))\n"
      ],
      "metadata": {
        "colab": {
          "base_uri": "https://localhost:8080/"
        },
        "id": "l0iBuN5PzyF9",
        "outputId": "ce1c2f29-12c5-4504-aab1-ec83912a7604"
      },
      "execution_count": null,
      "outputs": [
        {
          "output_type": "stream",
          "name": "stdout",
          "text": [
            "0:\tlearn: 0.3797770\ttotal: 139ms\tremaining: 2m 19s\n",
            "1:\tlearn: 0.3312442\ttotal: 224ms\tremaining: 1m 51s\n",
            "2:\tlearn: 0.3179492\ttotal: 294ms\tremaining: 1m 37s\n",
            "3:\tlearn: 0.3082240\ttotal: 373ms\tremaining: 1m 32s\n",
            "4:\tlearn: 0.3047990\ttotal: 456ms\tremaining: 1m 30s\n",
            "5:\tlearn: 0.3019996\ttotal: 537ms\tremaining: 1m 28s\n",
            "6:\tlearn: 0.2991311\ttotal: 619ms\tremaining: 1m 27s\n",
            "7:\tlearn: 0.2960293\ttotal: 703ms\tremaining: 1m 27s\n",
            "8:\tlearn: 0.2948383\ttotal: 797ms\tremaining: 1m 27s\n",
            "9:\tlearn: 0.2937027\ttotal: 874ms\tremaining: 1m 26s\n",
            "10:\tlearn: 0.2929281\ttotal: 952ms\tremaining: 1m 25s\n",
            "11:\tlearn: 0.2920067\ttotal: 1.04s\tremaining: 1m 25s\n",
            "12:\tlearn: 0.2911432\ttotal: 1.12s\tremaining: 1m 24s\n",
            "13:\tlearn: 0.2896048\ttotal: 1.2s\tremaining: 1m 24s\n",
            "14:\tlearn: 0.2888202\ttotal: 1.27s\tremaining: 1m 23s\n",
            "15:\tlearn: 0.2882299\ttotal: 1.36s\tremaining: 1m 23s\n",
            "16:\tlearn: 0.2878163\ttotal: 1.43s\tremaining: 1m 22s\n",
            "17:\tlearn: 0.2872256\ttotal: 1.51s\tremaining: 1m 22s\n",
            "18:\tlearn: 0.2869558\ttotal: 1.58s\tremaining: 1m 21s\n",
            "19:\tlearn: 0.2864795\ttotal: 1.67s\tremaining: 1m 21s\n",
            "20:\tlearn: 0.2861583\ttotal: 1.75s\tremaining: 1m 21s\n",
            "21:\tlearn: 0.2855823\ttotal: 1.84s\tremaining: 1m 21s\n",
            "22:\tlearn: 0.2851419\ttotal: 1.92s\tremaining: 1m 21s\n",
            "23:\tlearn: 0.2846410\ttotal: 2s\tremaining: 1m 21s\n",
            "24:\tlearn: 0.2842296\ttotal: 2.08s\tremaining: 1m 21s\n",
            "25:\tlearn: 0.2836948\ttotal: 2.16s\tremaining: 1m 21s\n",
            "26:\tlearn: 0.2834559\ttotal: 2.24s\tremaining: 1m 20s\n",
            "27:\tlearn: 0.2831676\ttotal: 2.32s\tremaining: 1m 20s\n",
            "28:\tlearn: 0.2827864\ttotal: 2.4s\tremaining: 1m 20s\n",
            "29:\tlearn: 0.2824629\ttotal: 2.49s\tremaining: 1m 20s\n",
            "30:\tlearn: 0.2821808\ttotal: 2.57s\tremaining: 1m 20s\n",
            "31:\tlearn: 0.2819603\ttotal: 2.65s\tremaining: 1m 20s\n",
            "32:\tlearn: 0.2816834\ttotal: 2.74s\tremaining: 1m 20s\n",
            "33:\tlearn: 0.2814588\ttotal: 2.82s\tremaining: 1m 20s\n",
            "34:\tlearn: 0.2806601\ttotal: 2.91s\tremaining: 1m 20s\n",
            "35:\tlearn: 0.2805476\ttotal: 2.98s\tremaining: 1m 19s\n",
            "36:\tlearn: 0.2800642\ttotal: 3.07s\tremaining: 1m 19s\n",
            "37:\tlearn: 0.2798768\ttotal: 3.16s\tremaining: 1m 19s\n",
            "38:\tlearn: 0.2796919\ttotal: 3.24s\tremaining: 1m 19s\n",
            "39:\tlearn: 0.2794604\ttotal: 3.32s\tremaining: 1m 19s\n",
            "40:\tlearn: 0.2793429\ttotal: 3.39s\tremaining: 1m 19s\n",
            "41:\tlearn: 0.2791782\ttotal: 3.47s\tremaining: 1m 19s\n",
            "42:\tlearn: 0.2794610\ttotal: 3.55s\tremaining: 1m 19s\n",
            "43:\tlearn: 0.2793721\ttotal: 3.62s\tremaining: 1m 18s\n",
            "44:\tlearn: 0.2792125\ttotal: 3.7s\tremaining: 1m 18s\n",
            "45:\tlearn: 0.2790114\ttotal: 3.79s\tremaining: 1m 18s\n",
            "46:\tlearn: 0.2788402\ttotal: 3.87s\tremaining: 1m 18s\n",
            "47:\tlearn: 0.2787523\ttotal: 3.96s\tremaining: 1m 18s\n",
            "48:\tlearn: 0.2786461\ttotal: 4.04s\tremaining: 1m 18s\n",
            "49:\tlearn: 0.2784549\ttotal: 4.15s\tremaining: 1m 18s\n",
            "50:\tlearn: 0.2783193\ttotal: 4.24s\tremaining: 1m 18s\n",
            "51:\tlearn: 0.2781953\ttotal: 4.34s\tremaining: 1m 19s\n",
            "52:\tlearn: 0.2780454\ttotal: 4.42s\tremaining: 1m 19s\n",
            "53:\tlearn: 0.2776316\ttotal: 4.52s\tremaining: 1m 19s\n",
            "54:\tlearn: 0.2775027\ttotal: 4.62s\tremaining: 1m 19s\n",
            "55:\tlearn: 0.2774246\ttotal: 4.71s\tremaining: 1m 19s\n",
            "56:\tlearn: 0.2773467\ttotal: 4.8s\tremaining: 1m 19s\n",
            "57:\tlearn: 0.2772799\ttotal: 4.89s\tremaining: 1m 19s\n",
            "58:\tlearn: 0.2771349\ttotal: 4.99s\tremaining: 1m 19s\n",
            "59:\tlearn: 0.2770588\ttotal: 5.08s\tremaining: 1m 19s\n",
            "60:\tlearn: 0.2769915\ttotal: 5.17s\tremaining: 1m 19s\n",
            "61:\tlearn: 0.2768984\ttotal: 5.27s\tremaining: 1m 19s\n",
            "62:\tlearn: 0.2768046\ttotal: 5.36s\tremaining: 1m 19s\n",
            "63:\tlearn: 0.2766479\ttotal: 5.46s\tremaining: 1m 19s\n",
            "64:\tlearn: 0.2765714\ttotal: 5.56s\tremaining: 1m 19s\n",
            "65:\tlearn: 0.2764898\ttotal: 5.65s\tremaining: 1m 19s\n",
            "66:\tlearn: 0.2764007\ttotal: 5.75s\tremaining: 1m 20s\n",
            "67:\tlearn: 0.2763075\ttotal: 5.84s\tremaining: 1m 20s\n",
            "68:\tlearn: 0.2762395\ttotal: 5.93s\tremaining: 1m 20s\n",
            "69:\tlearn: 0.2761391\ttotal: 6.03s\tremaining: 1m 20s\n",
            "70:\tlearn: 0.2760261\ttotal: 6.13s\tremaining: 1m 20s\n",
            "71:\tlearn: 0.2759122\ttotal: 6.23s\tremaining: 1m 20s\n",
            "72:\tlearn: 0.2758282\ttotal: 6.34s\tremaining: 1m 20s\n",
            "73:\tlearn: 0.2757786\ttotal: 6.43s\tremaining: 1m 20s\n",
            "74:\tlearn: 0.2757256\ttotal: 6.52s\tremaining: 1m 20s\n",
            "75:\tlearn: 0.2756686\ttotal: 6.61s\tremaining: 1m 20s\n",
            "76:\tlearn: 0.2755303\ttotal: 6.7s\tremaining: 1m 20s\n",
            "77:\tlearn: 0.2754678\ttotal: 6.79s\tremaining: 1m 20s\n",
            "78:\tlearn: 0.2753443\ttotal: 6.88s\tremaining: 1m 20s\n",
            "79:\tlearn: 0.2752897\ttotal: 6.97s\tremaining: 1m 20s\n",
            "80:\tlearn: 0.2752329\ttotal: 7.06s\tremaining: 1m 20s\n",
            "81:\tlearn: 0.2751081\ttotal: 7.15s\tremaining: 1m 20s\n",
            "82:\tlearn: 0.2750623\ttotal: 7.22s\tremaining: 1m 19s\n",
            "83:\tlearn: 0.2749404\ttotal: 7.31s\tremaining: 1m 19s\n",
            "84:\tlearn: 0.2748020\ttotal: 7.39s\tremaining: 1m 19s\n",
            "85:\tlearn: 0.2747424\ttotal: 7.48s\tremaining: 1m 19s\n",
            "86:\tlearn: 0.2746649\ttotal: 7.56s\tremaining: 1m 19s\n",
            "87:\tlearn: 0.2745774\ttotal: 7.63s\tremaining: 1m 19s\n",
            "88:\tlearn: 0.2745199\ttotal: 7.71s\tremaining: 1m 18s\n",
            "89:\tlearn: 0.2744271\ttotal: 7.79s\tremaining: 1m 18s\n",
            "90:\tlearn: 0.2743751\ttotal: 7.86s\tremaining: 1m 18s\n",
            "91:\tlearn: 0.2742940\ttotal: 7.94s\tremaining: 1m 18s\n",
            "92:\tlearn: 0.2742212\ttotal: 8.03s\tremaining: 1m 18s\n",
            "93:\tlearn: 0.2741438\ttotal: 8.11s\tremaining: 1m 18s\n",
            "94:\tlearn: 0.2740835\ttotal: 8.19s\tremaining: 1m 18s\n",
            "95:\tlearn: 0.2740233\ttotal: 8.27s\tremaining: 1m 17s\n",
            "96:\tlearn: 0.2739921\ttotal: 8.36s\tremaining: 1m 17s\n",
            "97:\tlearn: 0.2739428\ttotal: 8.43s\tremaining: 1m 17s\n",
            "98:\tlearn: 0.2739020\ttotal: 8.51s\tremaining: 1m 17s\n",
            "99:\tlearn: 0.2738230\ttotal: 8.59s\tremaining: 1m 17s\n",
            "100:\tlearn: 0.2737800\ttotal: 8.67s\tremaining: 1m 17s\n",
            "101:\tlearn: 0.2737202\ttotal: 8.75s\tremaining: 1m 17s\n",
            "102:\tlearn: 0.2736821\ttotal: 8.82s\tremaining: 1m 16s\n",
            "103:\tlearn: 0.2736247\ttotal: 8.9s\tremaining: 1m 16s\n",
            "104:\tlearn: 0.2735481\ttotal: 8.98s\tremaining: 1m 16s\n",
            "105:\tlearn: 0.2733798\ttotal: 9.06s\tremaining: 1m 16s\n",
            "106:\tlearn: 0.2733292\ttotal: 9.15s\tremaining: 1m 16s\n",
            "107:\tlearn: 0.2732041\ttotal: 9.23s\tremaining: 1m 16s\n",
            "108:\tlearn: 0.2731497\ttotal: 9.3s\tremaining: 1m 16s\n",
            "109:\tlearn: 0.2730915\ttotal: 9.39s\tremaining: 1m 15s\n",
            "110:\tlearn: 0.2730657\ttotal: 9.45s\tremaining: 1m 15s\n",
            "111:\tlearn: 0.2730281\ttotal: 9.53s\tremaining: 1m 15s\n",
            "112:\tlearn: 0.2729842\ttotal: 9.61s\tremaining: 1m 15s\n",
            "113:\tlearn: 0.2729134\ttotal: 9.7s\tremaining: 1m 15s\n",
            "114:\tlearn: 0.2728594\ttotal: 9.78s\tremaining: 1m 15s\n",
            "115:\tlearn: 0.2727994\ttotal: 9.86s\tremaining: 1m 15s\n",
            "116:\tlearn: 0.2727562\ttotal: 9.93s\tremaining: 1m 14s\n",
            "117:\tlearn: 0.2727177\ttotal: 10s\tremaining: 1m 14s\n",
            "118:\tlearn: 0.2726904\ttotal: 10.1s\tremaining: 1m 14s\n",
            "119:\tlearn: 0.2726300\ttotal: 10.2s\tremaining: 1m 14s\n",
            "120:\tlearn: 0.2725031\ttotal: 10.3s\tremaining: 1m 14s\n",
            "121:\tlearn: 0.2724681\ttotal: 10.3s\tremaining: 1m 14s\n",
            "122:\tlearn: 0.2724101\ttotal: 10.4s\tremaining: 1m 14s\n",
            "123:\tlearn: 0.2723346\ttotal: 10.5s\tremaining: 1m 14s\n",
            "124:\tlearn: 0.2722610\ttotal: 10.6s\tremaining: 1m 14s\n",
            "125:\tlearn: 0.2721971\ttotal: 10.7s\tremaining: 1m 13s\n",
            "126:\tlearn: 0.2721345\ttotal: 10.7s\tremaining: 1m 13s\n",
            "127:\tlearn: 0.2721050\ttotal: 10.8s\tremaining: 1m 13s\n",
            "128:\tlearn: 0.2720770\ttotal: 10.9s\tremaining: 1m 13s\n",
            "129:\tlearn: 0.2720436\ttotal: 11s\tremaining: 1m 13s\n",
            "130:\tlearn: 0.2719665\ttotal: 11s\tremaining: 1m 13s\n",
            "131:\tlearn: 0.2719183\ttotal: 11.1s\tremaining: 1m 13s\n",
            "132:\tlearn: 0.2718460\ttotal: 11.2s\tremaining: 1m 13s\n",
            "133:\tlearn: 0.2717973\ttotal: 11.3s\tremaining: 1m 12s\n",
            "134:\tlearn: 0.2717593\ttotal: 11.4s\tremaining: 1m 12s\n",
            "135:\tlearn: 0.2717077\ttotal: 11.4s\tremaining: 1m 12s\n",
            "136:\tlearn: 0.2716558\ttotal: 11.5s\tremaining: 1m 12s\n",
            "137:\tlearn: 0.2716076\ttotal: 11.6s\tremaining: 1m 12s\n",
            "138:\tlearn: 0.2715243\ttotal: 11.7s\tremaining: 1m 12s\n",
            "139:\tlearn: 0.2714964\ttotal: 11.8s\tremaining: 1m 12s\n",
            "140:\tlearn: 0.2714353\ttotal: 11.8s\tremaining: 1m 12s\n",
            "141:\tlearn: 0.2713752\ttotal: 11.9s\tremaining: 1m 12s\n",
            "142:\tlearn: 0.2713414\ttotal: 12s\tremaining: 1m 11s\n",
            "143:\tlearn: 0.2713135\ttotal: 12.1s\tremaining: 1m 11s\n",
            "144:\tlearn: 0.2712673\ttotal: 12.2s\tremaining: 1m 11s\n",
            "145:\tlearn: 0.2712030\ttotal: 12.3s\tremaining: 1m 11s\n",
            "146:\tlearn: 0.2711439\ttotal: 12.3s\tremaining: 1m 11s\n",
            "147:\tlearn: 0.2711066\ttotal: 12.4s\tremaining: 1m 11s\n",
            "148:\tlearn: 0.2710703\ttotal: 12.5s\tremaining: 1m 11s\n",
            "149:\tlearn: 0.2709884\ttotal: 12.6s\tremaining: 1m 11s\n",
            "150:\tlearn: 0.2709616\ttotal: 12.7s\tremaining: 1m 11s\n",
            "151:\tlearn: 0.2709137\ttotal: 12.8s\tremaining: 1m 11s\n",
            "152:\tlearn: 0.2708874\ttotal: 12.8s\tremaining: 1m 11s\n",
            "153:\tlearn: 0.2708522\ttotal: 12.9s\tremaining: 1m 10s\n",
            "154:\tlearn: 0.2708268\ttotal: 13s\tremaining: 1m 10s\n",
            "155:\tlearn: 0.2707771\ttotal: 13.1s\tremaining: 1m 10s\n",
            "156:\tlearn: 0.2707390\ttotal: 13.2s\tremaining: 1m 10s\n",
            "157:\tlearn: 0.2707032\ttotal: 13.2s\tremaining: 1m 10s\n",
            "158:\tlearn: 0.2706713\ttotal: 13.3s\tremaining: 1m 10s\n",
            "159:\tlearn: 0.2706314\ttotal: 13.4s\tremaining: 1m 10s\n",
            "160:\tlearn: 0.2705912\ttotal: 13.5s\tremaining: 1m 10s\n",
            "161:\tlearn: 0.2705265\ttotal: 13.6s\tremaining: 1m 10s\n",
            "162:\tlearn: 0.2705032\ttotal: 13.6s\tremaining: 1m 10s\n",
            "163:\tlearn: 0.2704714\ttotal: 13.7s\tremaining: 1m 9s\n",
            "164:\tlearn: 0.2704289\ttotal: 13.8s\tremaining: 1m 9s\n",
            "165:\tlearn: 0.2703988\ttotal: 13.9s\tremaining: 1m 9s\n",
            "166:\tlearn: 0.2703460\ttotal: 14s\tremaining: 1m 9s\n",
            "167:\tlearn: 0.2703093\ttotal: 14.1s\tremaining: 1m 9s\n",
            "168:\tlearn: 0.2702753\ttotal: 14.1s\tremaining: 1m 9s\n",
            "169:\tlearn: 0.2702278\ttotal: 14.2s\tremaining: 1m 9s\n",
            "170:\tlearn: 0.2701908\ttotal: 14.3s\tremaining: 1m 9s\n",
            "171:\tlearn: 0.2701638\ttotal: 14.4s\tremaining: 1m 9s\n",
            "172:\tlearn: 0.2701257\ttotal: 14.5s\tremaining: 1m 9s\n",
            "173:\tlearn: 0.2700999\ttotal: 14.5s\tremaining: 1m 8s\n",
            "174:\tlearn: 0.2700649\ttotal: 14.6s\tremaining: 1m 8s\n",
            "175:\tlearn: 0.2700350\ttotal: 14.7s\tremaining: 1m 8s\n",
            "176:\tlearn: 0.2699942\ttotal: 14.8s\tremaining: 1m 8s\n",
            "177:\tlearn: 0.2699553\ttotal: 14.9s\tremaining: 1m 8s\n",
            "178:\tlearn: 0.2699306\ttotal: 14.9s\tremaining: 1m 8s\n",
            "179:\tlearn: 0.2698994\ttotal: 15s\tremaining: 1m 8s\n",
            "180:\tlearn: 0.2698798\ttotal: 15.1s\tremaining: 1m 8s\n",
            "181:\tlearn: 0.2698562\ttotal: 15.2s\tremaining: 1m 8s\n",
            "182:\tlearn: 0.2697661\ttotal: 15.3s\tremaining: 1m 8s\n",
            "183:\tlearn: 0.2696872\ttotal: 15.3s\tremaining: 1m 8s\n",
            "184:\tlearn: 0.2696505\ttotal: 15.4s\tremaining: 1m 7s\n",
            "185:\tlearn: 0.2696133\ttotal: 15.5s\tremaining: 1m 7s\n",
            "186:\tlearn: 0.2695882\ttotal: 15.6s\tremaining: 1m 7s\n",
            "187:\tlearn: 0.2695669\ttotal: 15.6s\tremaining: 1m 7s\n",
            "188:\tlearn: 0.2695183\ttotal: 15.7s\tremaining: 1m 7s\n",
            "189:\tlearn: 0.2694411\ttotal: 15.8s\tremaining: 1m 7s\n",
            "190:\tlearn: 0.2694150\ttotal: 15.9s\tremaining: 1m 7s\n",
            "191:\tlearn: 0.2693795\ttotal: 16s\tremaining: 1m 7s\n",
            "192:\tlearn: 0.2693430\ttotal: 16.1s\tremaining: 1m 7s\n",
            "193:\tlearn: 0.2693098\ttotal: 16.1s\tremaining: 1m 7s\n",
            "194:\tlearn: 0.2692952\ttotal: 16.2s\tremaining: 1m 6s\n",
            "195:\tlearn: 0.2692703\ttotal: 16.3s\tremaining: 1m 6s\n",
            "196:\tlearn: 0.2692321\ttotal: 16.4s\tremaining: 1m 6s\n",
            "197:\tlearn: 0.2692094\ttotal: 16.5s\tremaining: 1m 6s\n",
            "198:\tlearn: 0.2691518\ttotal: 16.5s\tremaining: 1m 6s\n",
            "199:\tlearn: 0.2691200\ttotal: 16.6s\tremaining: 1m 6s\n",
            "200:\tlearn: 0.2690946\ttotal: 16.7s\tremaining: 1m 6s\n",
            "201:\tlearn: 0.2690616\ttotal: 16.8s\tremaining: 1m 6s\n",
            "202:\tlearn: 0.2690342\ttotal: 16.9s\tremaining: 1m 6s\n",
            "203:\tlearn: 0.2689949\ttotal: 16.9s\tremaining: 1m 6s\n",
            "204:\tlearn: 0.2689709\ttotal: 17s\tremaining: 1m 5s\n",
            "205:\tlearn: 0.2689336\ttotal: 17.1s\tremaining: 1m 5s\n",
            "206:\tlearn: 0.2689091\ttotal: 17.2s\tremaining: 1m 5s\n",
            "207:\tlearn: 0.2688659\ttotal: 17.3s\tremaining: 1m 5s\n",
            "208:\tlearn: 0.2688223\ttotal: 17.4s\tremaining: 1m 5s\n",
            "209:\tlearn: 0.2687723\ttotal: 17.5s\tremaining: 1m 5s\n",
            "210:\tlearn: 0.2687411\ttotal: 17.6s\tremaining: 1m 5s\n",
            "211:\tlearn: 0.2687075\ttotal: 17.7s\tremaining: 1m 5s\n",
            "212:\tlearn: 0.2686695\ttotal: 17.8s\tremaining: 1m 5s\n",
            "213:\tlearn: 0.2686407\ttotal: 17.9s\tremaining: 1m 5s\n",
            "214:\tlearn: 0.2686081\ttotal: 18s\tremaining: 1m 5s\n",
            "215:\tlearn: 0.2685866\ttotal: 18.1s\tremaining: 1m 5s\n",
            "216:\tlearn: 0.2685540\ttotal: 18.1s\tremaining: 1m 5s\n",
            "217:\tlearn: 0.2685239\ttotal: 18.2s\tremaining: 1m 5s\n",
            "218:\tlearn: 0.2685102\ttotal: 18.3s\tremaining: 1m 5s\n",
            "219:\tlearn: 0.2684857\ttotal: 18.4s\tremaining: 1m 5s\n",
            "220:\tlearn: 0.2684562\ttotal: 18.5s\tremaining: 1m 5s\n",
            "221:\tlearn: 0.2684293\ttotal: 18.6s\tremaining: 1m 5s\n",
            "222:\tlearn: 0.2683926\ttotal: 18.7s\tremaining: 1m 5s\n",
            "223:\tlearn: 0.2683534\ttotal: 18.8s\tremaining: 1m 5s\n",
            "224:\tlearn: 0.2683122\ttotal: 18.9s\tremaining: 1m 5s\n",
            "225:\tlearn: 0.2682851\ttotal: 19s\tremaining: 1m 5s\n",
            "226:\tlearn: 0.2682477\ttotal: 19.1s\tremaining: 1m 5s\n",
            "227:\tlearn: 0.2682031\ttotal: 19.2s\tremaining: 1m 5s\n",
            "228:\tlearn: 0.2681825\ttotal: 19.3s\tremaining: 1m 4s\n",
            "229:\tlearn: 0.2681551\ttotal: 19.4s\tremaining: 1m 4s\n",
            "230:\tlearn: 0.2681290\ttotal: 19.5s\tremaining: 1m 4s\n",
            "231:\tlearn: 0.2680574\ttotal: 19.6s\tremaining: 1m 4s\n",
            "232:\tlearn: 0.2680013\ttotal: 19.7s\tremaining: 1m 4s\n",
            "233:\tlearn: 0.2679646\ttotal: 19.8s\tremaining: 1m 4s\n",
            "234:\tlearn: 0.2679299\ttotal: 19.9s\tremaining: 1m 4s\n",
            "235:\tlearn: 0.2679121\ttotal: 20s\tremaining: 1m 4s\n",
            "236:\tlearn: 0.2678777\ttotal: 20s\tremaining: 1m 4s\n",
            "237:\tlearn: 0.2678582\ttotal: 20.1s\tremaining: 1m 4s\n",
            "238:\tlearn: 0.2678214\ttotal: 20.2s\tremaining: 1m 4s\n",
            "239:\tlearn: 0.2677797\ttotal: 20.3s\tremaining: 1m 4s\n",
            "240:\tlearn: 0.2677455\ttotal: 20.4s\tremaining: 1m 4s\n",
            "241:\tlearn: 0.2677066\ttotal: 20.5s\tremaining: 1m 4s\n",
            "242:\tlearn: 0.2676871\ttotal: 20.6s\tremaining: 1m 4s\n",
            "243:\tlearn: 0.2676614\ttotal: 20.7s\tremaining: 1m 4s\n",
            "244:\tlearn: 0.2675735\ttotal: 20.8s\tremaining: 1m 4s\n",
            "245:\tlearn: 0.2675371\ttotal: 20.9s\tremaining: 1m 4s\n",
            "246:\tlearn: 0.2675122\ttotal: 21s\tremaining: 1m 4s\n",
            "247:\tlearn: 0.2674621\ttotal: 21.1s\tremaining: 1m 3s\n",
            "248:\tlearn: 0.2674381\ttotal: 21.2s\tremaining: 1m 3s\n",
            "249:\tlearn: 0.2674110\ttotal: 21.3s\tremaining: 1m 3s\n",
            "250:\tlearn: 0.2673743\ttotal: 21.4s\tremaining: 1m 3s\n",
            "251:\tlearn: 0.2673499\ttotal: 21.4s\tremaining: 1m 3s\n",
            "252:\tlearn: 0.2673295\ttotal: 21.5s\tremaining: 1m 3s\n",
            "253:\tlearn: 0.2673000\ttotal: 21.6s\tremaining: 1m 3s\n",
            "254:\tlearn: 0.2672627\ttotal: 21.7s\tremaining: 1m 3s\n",
            "255:\tlearn: 0.2672421\ttotal: 21.8s\tremaining: 1m 3s\n",
            "256:\tlearn: 0.2672201\ttotal: 21.8s\tremaining: 1m 3s\n",
            "257:\tlearn: 0.2671881\ttotal: 21.9s\tremaining: 1m 3s\n",
            "258:\tlearn: 0.2671544\ttotal: 22s\tremaining: 1m 2s\n",
            "259:\tlearn: 0.2671062\ttotal: 22.1s\tremaining: 1m 2s\n",
            "260:\tlearn: 0.2670790\ttotal: 22.2s\tremaining: 1m 2s\n",
            "261:\tlearn: 0.2670601\ttotal: 22.3s\tremaining: 1m 2s\n",
            "262:\tlearn: 0.2670203\ttotal: 22.3s\tremaining: 1m 2s\n",
            "263:\tlearn: 0.2669897\ttotal: 22.4s\tremaining: 1m 2s\n",
            "264:\tlearn: 0.2669620\ttotal: 22.5s\tremaining: 1m 2s\n",
            "265:\tlearn: 0.2669300\ttotal: 22.6s\tremaining: 1m 2s\n",
            "266:\tlearn: 0.2669123\ttotal: 22.7s\tremaining: 1m 2s\n",
            "267:\tlearn: 0.2668852\ttotal: 22.8s\tremaining: 1m 2s\n",
            "268:\tlearn: 0.2668547\ttotal: 22.8s\tremaining: 1m 2s\n",
            "269:\tlearn: 0.2668183\ttotal: 22.9s\tremaining: 1m 1s\n",
            "270:\tlearn: 0.2667781\ttotal: 23s\tremaining: 1m 1s\n",
            "271:\tlearn: 0.2667453\ttotal: 23.1s\tremaining: 1m 1s\n",
            "272:\tlearn: 0.2667255\ttotal: 23.2s\tremaining: 1m 1s\n",
            "273:\tlearn: 0.2666953\ttotal: 23.2s\tremaining: 1m 1s\n",
            "274:\tlearn: 0.2666665\ttotal: 23.3s\tremaining: 1m 1s\n",
            "275:\tlearn: 0.2666420\ttotal: 23.4s\tremaining: 1m 1s\n",
            "276:\tlearn: 0.2666231\ttotal: 23.5s\tremaining: 1m 1s\n",
            "277:\tlearn: 0.2665979\ttotal: 23.6s\tremaining: 1m 1s\n",
            "278:\tlearn: 0.2665687\ttotal: 23.7s\tremaining: 1m 1s\n",
            "279:\tlearn: 0.2665411\ttotal: 23.7s\tremaining: 1m 1s\n",
            "280:\tlearn: 0.2665121\ttotal: 23.8s\tremaining: 1m\n",
            "281:\tlearn: 0.2664762\ttotal: 23.9s\tremaining: 1m\n",
            "282:\tlearn: 0.2664390\ttotal: 24s\tremaining: 1m\n",
            "283:\tlearn: 0.2664146\ttotal: 24s\tremaining: 1m\n",
            "284:\tlearn: 0.2663707\ttotal: 24.1s\tremaining: 1m\n",
            "285:\tlearn: 0.2663481\ttotal: 24.2s\tremaining: 1m\n",
            "286:\tlearn: 0.2663030\ttotal: 24.3s\tremaining: 1m\n",
            "287:\tlearn: 0.2662742\ttotal: 24.4s\tremaining: 1m\n",
            "288:\tlearn: 0.2662517\ttotal: 24.4s\tremaining: 1m\n",
            "289:\tlearn: 0.2662144\ttotal: 24.5s\tremaining: 1m\n",
            "290:\tlearn: 0.2661848\ttotal: 24.6s\tremaining: 59.9s\n",
            "291:\tlearn: 0.2661430\ttotal: 24.7s\tremaining: 59.8s\n",
            "292:\tlearn: 0.2661082\ttotal: 24.7s\tremaining: 59.7s\n",
            "293:\tlearn: 0.2660885\ttotal: 24.8s\tremaining: 59.6s\n",
            "294:\tlearn: 0.2660558\ttotal: 24.9s\tremaining: 59.5s\n",
            "295:\tlearn: 0.2660208\ttotal: 25s\tremaining: 59.4s\n",
            "296:\tlearn: 0.2659927\ttotal: 25s\tremaining: 59.3s\n",
            "297:\tlearn: 0.2659499\ttotal: 25.1s\tremaining: 59.2s\n",
            "298:\tlearn: 0.2659087\ttotal: 25.2s\tremaining: 59.1s\n",
            "299:\tlearn: 0.2658818\ttotal: 25.3s\tremaining: 59s\n",
            "300:\tlearn: 0.2658496\ttotal: 25.4s\tremaining: 58.9s\n",
            "301:\tlearn: 0.2658275\ttotal: 25.4s\tremaining: 58.8s\n",
            "302:\tlearn: 0.2657958\ttotal: 25.5s\tremaining: 58.7s\n",
            "303:\tlearn: 0.2657756\ttotal: 25.6s\tremaining: 58.6s\n",
            "304:\tlearn: 0.2657392\ttotal: 25.7s\tremaining: 58.5s\n",
            "305:\tlearn: 0.2657058\ttotal: 25.8s\tremaining: 58.5s\n",
            "306:\tlearn: 0.2656730\ttotal: 25.8s\tremaining: 58.4s\n",
            "307:\tlearn: 0.2656511\ttotal: 25.9s\tremaining: 58.2s\n",
            "308:\tlearn: 0.2656201\ttotal: 26s\tremaining: 58.2s\n",
            "309:\tlearn: 0.2655964\ttotal: 26.1s\tremaining: 58s\n",
            "310:\tlearn: 0.2655720\ttotal: 26.2s\tremaining: 57.9s\n",
            "311:\tlearn: 0.2655527\ttotal: 26.2s\tremaining: 57.8s\n",
            "312:\tlearn: 0.2655036\ttotal: 26.3s\tremaining: 57.7s\n",
            "313:\tlearn: 0.2654825\ttotal: 26.4s\tremaining: 57.7s\n",
            "314:\tlearn: 0.2654532\ttotal: 26.5s\tremaining: 57.6s\n",
            "315:\tlearn: 0.2654176\ttotal: 26.6s\tremaining: 57.5s\n",
            "316:\tlearn: 0.2653909\ttotal: 26.6s\tremaining: 57.4s\n",
            "317:\tlearn: 0.2653599\ttotal: 26.7s\tremaining: 57.3s\n",
            "318:\tlearn: 0.2653367\ttotal: 26.8s\tremaining: 57.2s\n",
            "319:\tlearn: 0.2653103\ttotal: 26.9s\tremaining: 57.1s\n",
            "320:\tlearn: 0.2652899\ttotal: 26.9s\tremaining: 57s\n",
            "321:\tlearn: 0.2652641\ttotal: 27s\tremaining: 56.9s\n",
            "322:\tlearn: 0.2652406\ttotal: 27.1s\tremaining: 56.8s\n",
            "323:\tlearn: 0.2652219\ttotal: 27.2s\tremaining: 56.7s\n",
            "324:\tlearn: 0.2652002\ttotal: 27.2s\tremaining: 56.6s\n",
            "325:\tlearn: 0.2651771\ttotal: 27.3s\tremaining: 56.5s\n",
            "326:\tlearn: 0.2651325\ttotal: 27.4s\tremaining: 56.4s\n",
            "327:\tlearn: 0.2651193\ttotal: 27.5s\tremaining: 56.3s\n",
            "328:\tlearn: 0.2650968\ttotal: 27.5s\tremaining: 56.2s\n",
            "329:\tlearn: 0.2650700\ttotal: 27.6s\tremaining: 56.1s\n",
            "330:\tlearn: 0.2650306\ttotal: 27.7s\tremaining: 56s\n",
            "331:\tlearn: 0.2650007\ttotal: 27.8s\tremaining: 55.9s\n",
            "332:\tlearn: 0.2649717\ttotal: 27.9s\tremaining: 55.8s\n",
            "333:\tlearn: 0.2649521\ttotal: 28s\tremaining: 55.7s\n",
            "334:\tlearn: 0.2649317\ttotal: 28s\tremaining: 55.6s\n",
            "335:\tlearn: 0.2649058\ttotal: 28.1s\tremaining: 55.6s\n",
            "336:\tlearn: 0.2648876\ttotal: 28.2s\tremaining: 55.5s\n",
            "337:\tlearn: 0.2648543\ttotal: 28.3s\tremaining: 55.4s\n",
            "338:\tlearn: 0.2648328\ttotal: 28.3s\tremaining: 55.3s\n",
            "339:\tlearn: 0.2648147\ttotal: 28.4s\tremaining: 55.2s\n",
            "340:\tlearn: 0.2647764\ttotal: 28.5s\tremaining: 55.1s\n",
            "341:\tlearn: 0.2647540\ttotal: 28.6s\tremaining: 55s\n",
            "342:\tlearn: 0.2647379\ttotal: 28.7s\tremaining: 54.9s\n",
            "343:\tlearn: 0.2647088\ttotal: 28.7s\tremaining: 54.8s\n",
            "344:\tlearn: 0.2646854\ttotal: 28.8s\tremaining: 54.7s\n",
            "345:\tlearn: 0.2646629\ttotal: 28.9s\tremaining: 54.6s\n",
            "346:\tlearn: 0.2646403\ttotal: 29s\tremaining: 54.5s\n",
            "347:\tlearn: 0.2646117\ttotal: 29s\tremaining: 54.4s\n",
            "348:\tlearn: 0.2645859\ttotal: 29.1s\tremaining: 54.3s\n",
            "349:\tlearn: 0.2645661\ttotal: 29.2s\tremaining: 54.2s\n",
            "350:\tlearn: 0.2645295\ttotal: 29.3s\tremaining: 54.1s\n",
            "351:\tlearn: 0.2645046\ttotal: 29.4s\tremaining: 54s\n",
            "352:\tlearn: 0.2644811\ttotal: 29.4s\tremaining: 53.9s\n",
            "353:\tlearn: 0.2644505\ttotal: 29.5s\tremaining: 53.8s\n",
            "354:\tlearn: 0.2644201\ttotal: 29.6s\tremaining: 53.8s\n",
            "355:\tlearn: 0.2643807\ttotal: 29.7s\tremaining: 53.7s\n",
            "356:\tlearn: 0.2643544\ttotal: 29.8s\tremaining: 53.6s\n",
            "357:\tlearn: 0.2643273\ttotal: 29.8s\tremaining: 53.5s\n",
            "358:\tlearn: 0.2643042\ttotal: 29.9s\tremaining: 53.4s\n",
            "359:\tlearn: 0.2642818\ttotal: 30s\tremaining: 53.3s\n",
            "360:\tlearn: 0.2642369\ttotal: 30.1s\tremaining: 53.2s\n",
            "361:\tlearn: 0.2642075\ttotal: 30.2s\tremaining: 53.2s\n",
            "362:\tlearn: 0.2641625\ttotal: 30.3s\tremaining: 53.1s\n",
            "363:\tlearn: 0.2641195\ttotal: 30.3s\tremaining: 53s\n",
            "364:\tlearn: 0.2640938\ttotal: 30.4s\tremaining: 53s\n",
            "365:\tlearn: 0.2640710\ttotal: 30.5s\tremaining: 52.9s\n",
            "366:\tlearn: 0.2640451\ttotal: 30.6s\tremaining: 52.8s\n",
            "367:\tlearn: 0.2640239\ttotal: 30.7s\tremaining: 52.7s\n",
            "368:\tlearn: 0.2639934\ttotal: 30.8s\tremaining: 52.7s\n",
            "369:\tlearn: 0.2639717\ttotal: 30.9s\tremaining: 52.6s\n",
            "370:\tlearn: 0.2639425\ttotal: 31s\tremaining: 52.6s\n",
            "371:\tlearn: 0.2639174\ttotal: 31.1s\tremaining: 52.5s\n",
            "372:\tlearn: 0.2638945\ttotal: 31.2s\tremaining: 52.4s\n",
            "373:\tlearn: 0.2638603\ttotal: 31.3s\tremaining: 52.4s\n",
            "374:\tlearn: 0.2638290\ttotal: 31.4s\tremaining: 52.3s\n",
            "375:\tlearn: 0.2638130\ttotal: 31.5s\tremaining: 52.2s\n",
            "376:\tlearn: 0.2637877\ttotal: 31.6s\tremaining: 52.1s\n",
            "377:\tlearn: 0.2637690\ttotal: 31.6s\tremaining: 52.1s\n",
            "378:\tlearn: 0.2637441\ttotal: 31.7s\tremaining: 52s\n",
            "379:\tlearn: 0.2637270\ttotal: 31.8s\tremaining: 51.9s\n",
            "380:\tlearn: 0.2636986\ttotal: 31.9s\tremaining: 51.9s\n",
            "381:\tlearn: 0.2636788\ttotal: 32s\tremaining: 51.8s\n",
            "382:\tlearn: 0.2636651\ttotal: 32.1s\tremaining: 51.7s\n",
            "383:\tlearn: 0.2636464\ttotal: 32.2s\tremaining: 51.6s\n",
            "384:\tlearn: 0.2636245\ttotal: 32.3s\tremaining: 51.6s\n",
            "385:\tlearn: 0.2636062\ttotal: 32.4s\tremaining: 51.5s\n",
            "386:\tlearn: 0.2635857\ttotal: 32.5s\tremaining: 51.4s\n",
            "387:\tlearn: 0.2635535\ttotal: 32.6s\tremaining: 51.4s\n",
            "388:\tlearn: 0.2635199\ttotal: 32.6s\tremaining: 51.3s\n",
            "389:\tlearn: 0.2634921\ttotal: 32.8s\tremaining: 51.2s\n",
            "390:\tlearn: 0.2634784\ttotal: 32.8s\tremaining: 51.1s\n",
            "391:\tlearn: 0.2634471\ttotal: 32.9s\tremaining: 51.1s\n",
            "392:\tlearn: 0.2634226\ttotal: 33s\tremaining: 51s\n",
            "393:\tlearn: 0.2633967\ttotal: 33.1s\tremaining: 50.9s\n",
            "394:\tlearn: 0.2633714\ttotal: 33.2s\tremaining: 50.9s\n",
            "395:\tlearn: 0.2633465\ttotal: 33.3s\tremaining: 50.8s\n",
            "396:\tlearn: 0.2633130\ttotal: 33.4s\tremaining: 50.7s\n",
            "397:\tlearn: 0.2632582\ttotal: 33.5s\tremaining: 50.6s\n",
            "398:\tlearn: 0.2632346\ttotal: 33.6s\tremaining: 50.6s\n",
            "399:\tlearn: 0.2632065\ttotal: 33.6s\tremaining: 50.5s\n",
            "400:\tlearn: 0.2631809\ttotal: 33.7s\tremaining: 50.4s\n",
            "401:\tlearn: 0.2631532\ttotal: 33.8s\tremaining: 50.3s\n",
            "402:\tlearn: 0.2631295\ttotal: 33.9s\tremaining: 50.2s\n",
            "403:\tlearn: 0.2630765\ttotal: 34s\tremaining: 50.1s\n",
            "404:\tlearn: 0.2630573\ttotal: 34s\tremaining: 50s\n",
            "405:\tlearn: 0.2630333\ttotal: 34.1s\tremaining: 49.9s\n",
            "406:\tlearn: 0.2630140\ttotal: 34.2s\tremaining: 49.8s\n",
            "407:\tlearn: 0.2629905\ttotal: 34.3s\tremaining: 49.7s\n",
            "408:\tlearn: 0.2629638\ttotal: 34.4s\tremaining: 49.7s\n",
            "409:\tlearn: 0.2629456\ttotal: 34.4s\tremaining: 49.6s\n",
            "410:\tlearn: 0.2629146\ttotal: 34.5s\tremaining: 49.5s\n",
            "411:\tlearn: 0.2628955\ttotal: 34.6s\tremaining: 49.4s\n",
            "412:\tlearn: 0.2628727\ttotal: 34.7s\tremaining: 49.3s\n",
            "413:\tlearn: 0.2628451\ttotal: 34.8s\tremaining: 49.2s\n",
            "414:\tlearn: 0.2628221\ttotal: 34.8s\tremaining: 49.1s\n",
            "415:\tlearn: 0.2627964\ttotal: 34.9s\tremaining: 49s\n",
            "416:\tlearn: 0.2627647\ttotal: 35s\tremaining: 48.9s\n",
            "417:\tlearn: 0.2627496\ttotal: 35.1s\tremaining: 48.8s\n",
            "418:\tlearn: 0.2627249\ttotal: 35.2s\tremaining: 48.8s\n",
            "419:\tlearn: 0.2626997\ttotal: 35.2s\tremaining: 48.7s\n",
            "420:\tlearn: 0.2626843\ttotal: 35.3s\tremaining: 48.6s\n",
            "421:\tlearn: 0.2626618\ttotal: 35.4s\tremaining: 48.5s\n",
            "422:\tlearn: 0.2626387\ttotal: 35.5s\tremaining: 48.4s\n",
            "423:\tlearn: 0.2626139\ttotal: 35.5s\tremaining: 48.3s\n",
            "424:\tlearn: 0.2625968\ttotal: 35.6s\tremaining: 48.2s\n",
            "425:\tlearn: 0.2625758\ttotal: 35.7s\tremaining: 48.1s\n",
            "426:\tlearn: 0.2625473\ttotal: 35.8s\tremaining: 48s\n",
            "427:\tlearn: 0.2625092\ttotal: 35.9s\tremaining: 47.9s\n",
            "428:\tlearn: 0.2624832\ttotal: 36s\tremaining: 47.9s\n",
            "429:\tlearn: 0.2624586\ttotal: 36s\tremaining: 47.8s\n",
            "430:\tlearn: 0.2624252\ttotal: 36.1s\tremaining: 47.7s\n",
            "431:\tlearn: 0.2624004\ttotal: 36.2s\tremaining: 47.6s\n",
            "432:\tlearn: 0.2623840\ttotal: 36.3s\tremaining: 47.5s\n",
            "433:\tlearn: 0.2623600\ttotal: 36.4s\tremaining: 47.4s\n",
            "434:\tlearn: 0.2623332\ttotal: 36.4s\tremaining: 47.3s\n",
            "435:\tlearn: 0.2623118\ttotal: 36.5s\tremaining: 47.2s\n",
            "436:\tlearn: 0.2622917\ttotal: 36.6s\tremaining: 47.1s\n",
            "437:\tlearn: 0.2622736\ttotal: 36.7s\tremaining: 47s\n",
            "438:\tlearn: 0.2622463\ttotal: 36.7s\tremaining: 46.9s\n",
            "439:\tlearn: 0.2622176\ttotal: 36.8s\tremaining: 46.9s\n",
            "440:\tlearn: 0.2621842\ttotal: 36.9s\tremaining: 46.8s\n",
            "441:\tlearn: 0.2621684\ttotal: 37s\tremaining: 46.7s\n",
            "442:\tlearn: 0.2621420\ttotal: 37.1s\tremaining: 46.6s\n",
            "443:\tlearn: 0.2621212\ttotal: 37.1s\tremaining: 46.5s\n",
            "444:\tlearn: 0.2621032\ttotal: 37.2s\tremaining: 46.4s\n",
            "445:\tlearn: 0.2620718\ttotal: 37.3s\tremaining: 46.3s\n",
            "446:\tlearn: 0.2620603\ttotal: 37.4s\tremaining: 46.2s\n",
            "447:\tlearn: 0.2620347\ttotal: 37.5s\tremaining: 46.2s\n",
            "448:\tlearn: 0.2620172\ttotal: 37.5s\tremaining: 46.1s\n",
            "449:\tlearn: 0.2619975\ttotal: 37.6s\tremaining: 46s\n",
            "450:\tlearn: 0.2619775\ttotal: 37.7s\tremaining: 45.9s\n",
            "451:\tlearn: 0.2619557\ttotal: 37.8s\tremaining: 45.8s\n",
            "452:\tlearn: 0.2619450\ttotal: 37.9s\tremaining: 45.7s\n",
            "453:\tlearn: 0.2619007\ttotal: 37.9s\tremaining: 45.6s\n",
            "454:\tlearn: 0.2618773\ttotal: 38s\tremaining: 45.5s\n",
            "455:\tlearn: 0.2618605\ttotal: 38.1s\tremaining: 45.5s\n",
            "456:\tlearn: 0.2618307\ttotal: 38.2s\tremaining: 45.4s\n",
            "457:\tlearn: 0.2617700\ttotal: 38.3s\tremaining: 45.3s\n",
            "458:\tlearn: 0.2617356\ttotal: 38.3s\tremaining: 45.2s\n",
            "459:\tlearn: 0.2617092\ttotal: 38.4s\tremaining: 45.1s\n",
            "460:\tlearn: 0.2616829\ttotal: 38.5s\tremaining: 45s\n",
            "461:\tlearn: 0.2616607\ttotal: 38.6s\tremaining: 44.9s\n",
            "462:\tlearn: 0.2616349\ttotal: 38.6s\tremaining: 44.8s\n",
            "463:\tlearn: 0.2616147\ttotal: 38.7s\tremaining: 44.7s\n",
            "464:\tlearn: 0.2616000\ttotal: 38.8s\tremaining: 44.6s\n",
            "465:\tlearn: 0.2615833\ttotal: 38.9s\tremaining: 44.6s\n",
            "466:\tlearn: 0.2615587\ttotal: 39s\tremaining: 44.5s\n",
            "467:\tlearn: 0.2615315\ttotal: 39.1s\tremaining: 44.4s\n",
            "468:\tlearn: 0.2615155\ttotal: 39.1s\tremaining: 44.3s\n",
            "469:\tlearn: 0.2614985\ttotal: 39.2s\tremaining: 44.2s\n",
            "470:\tlearn: 0.2614670\ttotal: 39.3s\tremaining: 44.1s\n",
            "471:\tlearn: 0.2614504\ttotal: 39.4s\tremaining: 44s\n",
            "472:\tlearn: 0.2614308\ttotal: 39.4s\tremaining: 43.9s\n",
            "473:\tlearn: 0.2613941\ttotal: 39.5s\tremaining: 43.9s\n",
            "474:\tlearn: 0.2613685\ttotal: 39.6s\tremaining: 43.8s\n",
            "475:\tlearn: 0.2613492\ttotal: 39.7s\tremaining: 43.7s\n",
            "476:\tlearn: 0.2613348\ttotal: 39.8s\tremaining: 43.6s\n",
            "477:\tlearn: 0.2613212\ttotal: 39.8s\tremaining: 43.5s\n",
            "478:\tlearn: 0.2613008\ttotal: 39.9s\tremaining: 43.4s\n",
            "479:\tlearn: 0.2612839\ttotal: 40s\tremaining: 43.3s\n",
            "480:\tlearn: 0.2612677\ttotal: 40.1s\tremaining: 43.2s\n",
            "481:\tlearn: 0.2612502\ttotal: 40.2s\tremaining: 43.2s\n",
            "482:\tlearn: 0.2612400\ttotal: 40.2s\tremaining: 43.1s\n",
            "483:\tlearn: 0.2612236\ttotal: 40.3s\tremaining: 43s\n",
            "484:\tlearn: 0.2611877\ttotal: 40.4s\tremaining: 42.9s\n",
            "485:\tlearn: 0.2611665\ttotal: 40.5s\tremaining: 42.8s\n",
            "486:\tlearn: 0.2611434\ttotal: 40.6s\tremaining: 42.7s\n",
            "487:\tlearn: 0.2611245\ttotal: 40.6s\tremaining: 42.6s\n",
            "488:\tlearn: 0.2611060\ttotal: 40.7s\tremaining: 42.6s\n",
            "489:\tlearn: 0.2610773\ttotal: 40.8s\tremaining: 42.5s\n",
            "490:\tlearn: 0.2610664\ttotal: 40.9s\tremaining: 42.4s\n",
            "491:\tlearn: 0.2610408\ttotal: 41s\tremaining: 42.3s\n",
            "492:\tlearn: 0.2610159\ttotal: 41.1s\tremaining: 42.2s\n",
            "493:\tlearn: 0.2609933\ttotal: 41.1s\tremaining: 42.1s\n",
            "494:\tlearn: 0.2609696\ttotal: 41.2s\tremaining: 42s\n",
            "495:\tlearn: 0.2609396\ttotal: 41.3s\tremaining: 42s\n",
            "496:\tlearn: 0.2609130\ttotal: 41.4s\tremaining: 41.9s\n",
            "497:\tlearn: 0.2608919\ttotal: 41.5s\tremaining: 41.8s\n",
            "498:\tlearn: 0.2608667\ttotal: 41.5s\tremaining: 41.7s\n",
            "499:\tlearn: 0.2608427\ttotal: 41.6s\tremaining: 41.6s\n",
            "500:\tlearn: 0.2608239\ttotal: 41.7s\tremaining: 41.5s\n",
            "501:\tlearn: 0.2608046\ttotal: 41.8s\tremaining: 41.4s\n",
            "502:\tlearn: 0.2607719\ttotal: 41.9s\tremaining: 41.4s\n",
            "503:\tlearn: 0.2607522\ttotal: 42s\tremaining: 41.3s\n",
            "504:\tlearn: 0.2607297\ttotal: 42s\tremaining: 41.2s\n",
            "505:\tlearn: 0.2607141\ttotal: 42.1s\tremaining: 41.1s\n",
            "506:\tlearn: 0.2606907\ttotal: 42.2s\tremaining: 41s\n",
            "507:\tlearn: 0.2606688\ttotal: 42.3s\tremaining: 40.9s\n",
            "508:\tlearn: 0.2606399\ttotal: 42.4s\tremaining: 40.9s\n",
            "509:\tlearn: 0.2606181\ttotal: 42.5s\tremaining: 40.8s\n",
            "510:\tlearn: 0.2605961\ttotal: 42.5s\tremaining: 40.7s\n",
            "511:\tlearn: 0.2605664\ttotal: 42.6s\tremaining: 40.6s\n",
            "512:\tlearn: 0.2605451\ttotal: 42.7s\tremaining: 40.5s\n",
            "513:\tlearn: 0.2605101\ttotal: 42.8s\tremaining: 40.4s\n",
            "514:\tlearn: 0.2604815\ttotal: 42.8s\tremaining: 40.4s\n",
            "515:\tlearn: 0.2604636\ttotal: 42.9s\tremaining: 40.3s\n",
            "516:\tlearn: 0.2604300\ttotal: 43s\tremaining: 40.2s\n",
            "517:\tlearn: 0.2604078\ttotal: 43.1s\tremaining: 40.1s\n",
            "518:\tlearn: 0.2603896\ttotal: 43.2s\tremaining: 40s\n",
            "519:\tlearn: 0.2603689\ttotal: 43.2s\tremaining: 39.9s\n",
            "520:\tlearn: 0.2603404\ttotal: 43.3s\tremaining: 39.8s\n",
            "521:\tlearn: 0.2603232\ttotal: 43.4s\tremaining: 39.8s\n",
            "522:\tlearn: 0.2602992\ttotal: 43.5s\tremaining: 39.7s\n",
            "523:\tlearn: 0.2602785\ttotal: 43.6s\tremaining: 39.6s\n",
            "524:\tlearn: 0.2602588\ttotal: 43.7s\tremaining: 39.5s\n",
            "525:\tlearn: 0.2602449\ttotal: 43.8s\tremaining: 39.5s\n",
            "526:\tlearn: 0.2602286\ttotal: 43.9s\tremaining: 39.4s\n",
            "527:\tlearn: 0.2602108\ttotal: 44s\tremaining: 39.3s\n",
            "528:\tlearn: 0.2601927\ttotal: 44.1s\tremaining: 39.3s\n",
            "529:\tlearn: 0.2601767\ttotal: 44.2s\tremaining: 39.2s\n",
            "530:\tlearn: 0.2601621\ttotal: 44.3s\tremaining: 39.1s\n",
            "531:\tlearn: 0.2601419\ttotal: 44.4s\tremaining: 39s\n",
            "532:\tlearn: 0.2601275\ttotal: 44.4s\tremaining: 38.9s\n",
            "533:\tlearn: 0.2601097\ttotal: 44.5s\tremaining: 38.9s\n",
            "534:\tlearn: 0.2600854\ttotal: 44.6s\tremaining: 38.8s\n",
            "535:\tlearn: 0.2600603\ttotal: 44.7s\tremaining: 38.7s\n",
            "536:\tlearn: 0.2600434\ttotal: 44.8s\tremaining: 38.7s\n",
            "537:\tlearn: 0.2600229\ttotal: 44.9s\tremaining: 38.6s\n",
            "538:\tlearn: 0.2600022\ttotal: 45s\tremaining: 38.5s\n",
            "539:\tlearn: 0.2599799\ttotal: 45.1s\tremaining: 38.4s\n",
            "540:\tlearn: 0.2599634\ttotal: 45.2s\tremaining: 38.4s\n",
            "541:\tlearn: 0.2599405\ttotal: 45.3s\tremaining: 38.3s\n",
            "542:\tlearn: 0.2599253\ttotal: 45.4s\tremaining: 38.2s\n",
            "543:\tlearn: 0.2599032\ttotal: 45.5s\tremaining: 38.1s\n",
            "544:\tlearn: 0.2598815\ttotal: 45.6s\tremaining: 38.1s\n",
            "545:\tlearn: 0.2598581\ttotal: 45.7s\tremaining: 38s\n",
            "546:\tlearn: 0.2598476\ttotal: 45.8s\tremaining: 37.9s\n",
            "547:\tlearn: 0.2598053\ttotal: 45.9s\tremaining: 37.9s\n",
            "548:\tlearn: 0.2597909\ttotal: 46s\tremaining: 37.8s\n",
            "549:\tlearn: 0.2597695\ttotal: 46.1s\tremaining: 37.7s\n",
            "550:\tlearn: 0.2597476\ttotal: 46.2s\tremaining: 37.6s\n",
            "551:\tlearn: 0.2597251\ttotal: 46.3s\tremaining: 37.6s\n",
            "552:\tlearn: 0.2597095\ttotal: 46.4s\tremaining: 37.5s\n",
            "553:\tlearn: 0.2596852\ttotal: 46.4s\tremaining: 37.4s\n",
            "554:\tlearn: 0.2596690\ttotal: 46.5s\tremaining: 37.3s\n",
            "555:\tlearn: 0.2596485\ttotal: 46.6s\tremaining: 37.2s\n",
            "556:\tlearn: 0.2596254\ttotal: 46.7s\tremaining: 37.1s\n",
            "557:\tlearn: 0.2596090\ttotal: 46.8s\tremaining: 37s\n",
            "558:\tlearn: 0.2595876\ttotal: 46.8s\tremaining: 36.9s\n",
            "559:\tlearn: 0.2595614\ttotal: 46.9s\tremaining: 36.9s\n",
            "560:\tlearn: 0.2595434\ttotal: 47s\tremaining: 36.8s\n",
            "561:\tlearn: 0.2595274\ttotal: 47.1s\tremaining: 36.7s\n",
            "562:\tlearn: 0.2595123\ttotal: 47.1s\tremaining: 36.6s\n",
            "563:\tlearn: 0.2594864\ttotal: 47.2s\tremaining: 36.5s\n",
            "564:\tlearn: 0.2594569\ttotal: 47.3s\tremaining: 36.4s\n",
            "565:\tlearn: 0.2594419\ttotal: 47.4s\tremaining: 36.3s\n",
            "566:\tlearn: 0.2594224\ttotal: 47.5s\tremaining: 36.2s\n",
            "567:\tlearn: 0.2593945\ttotal: 47.5s\tremaining: 36.2s\n",
            "568:\tlearn: 0.2593710\ttotal: 47.6s\tremaining: 36.1s\n",
            "569:\tlearn: 0.2593580\ttotal: 47.7s\tremaining: 36s\n",
            "570:\tlearn: 0.2593345\ttotal: 47.8s\tremaining: 35.9s\n",
            "571:\tlearn: 0.2593171\ttotal: 47.8s\tremaining: 35.8s\n",
            "572:\tlearn: 0.2592929\ttotal: 47.9s\tremaining: 35.7s\n",
            "573:\tlearn: 0.2592719\ttotal: 48s\tremaining: 35.6s\n",
            "574:\tlearn: 0.2592540\ttotal: 48.1s\tremaining: 35.5s\n",
            "575:\tlearn: 0.2592293\ttotal: 48.2s\tremaining: 35.5s\n",
            "576:\tlearn: 0.2592054\ttotal: 48.3s\tremaining: 35.4s\n",
            "577:\tlearn: 0.2591843\ttotal: 48.3s\tremaining: 35.3s\n",
            "578:\tlearn: 0.2591589\ttotal: 48.4s\tremaining: 35.2s\n",
            "579:\tlearn: 0.2591418\ttotal: 48.5s\tremaining: 35.1s\n",
            "580:\tlearn: 0.2591234\ttotal: 48.6s\tremaining: 35s\n",
            "581:\tlearn: 0.2591052\ttotal: 48.6s\tremaining: 34.9s\n",
            "582:\tlearn: 0.2590926\ttotal: 48.7s\tremaining: 34.9s\n",
            "583:\tlearn: 0.2590728\ttotal: 48.8s\tremaining: 34.8s\n",
            "584:\tlearn: 0.2590533\ttotal: 48.9s\tremaining: 34.7s\n",
            "585:\tlearn: 0.2590326\ttotal: 49s\tremaining: 34.6s\n",
            "586:\tlearn: 0.2590170\ttotal: 49s\tremaining: 34.5s\n",
            "587:\tlearn: 0.2590078\ttotal: 49.1s\tremaining: 34.4s\n",
            "588:\tlearn: 0.2589894\ttotal: 49.2s\tremaining: 34.3s\n",
            "589:\tlearn: 0.2589685\ttotal: 49.3s\tremaining: 34.2s\n",
            "590:\tlearn: 0.2589459\ttotal: 49.4s\tremaining: 34.2s\n",
            "591:\tlearn: 0.2589280\ttotal: 49.4s\tremaining: 34.1s\n",
            "592:\tlearn: 0.2588990\ttotal: 49.5s\tremaining: 34s\n",
            "593:\tlearn: 0.2588852\ttotal: 49.6s\tremaining: 33.9s\n",
            "594:\tlearn: 0.2588770\ttotal: 49.7s\tremaining: 33.8s\n",
            "595:\tlearn: 0.2588485\ttotal: 49.8s\tremaining: 33.7s\n",
            "596:\tlearn: 0.2588333\ttotal: 49.8s\tremaining: 33.6s\n",
            "597:\tlearn: 0.2588188\ttotal: 49.9s\tremaining: 33.6s\n",
            "598:\tlearn: 0.2588017\ttotal: 50s\tremaining: 33.5s\n",
            "599:\tlearn: 0.2587743\ttotal: 50.1s\tremaining: 33.4s\n",
            "600:\tlearn: 0.2587561\ttotal: 50.1s\tremaining: 33.3s\n",
            "601:\tlearn: 0.2587332\ttotal: 50.2s\tremaining: 33.2s\n",
            "602:\tlearn: 0.2587170\ttotal: 50.3s\tremaining: 33.1s\n",
            "603:\tlearn: 0.2586953\ttotal: 50.4s\tremaining: 33s\n",
            "604:\tlearn: 0.2586775\ttotal: 50.5s\tremaining: 33s\n",
            "605:\tlearn: 0.2586576\ttotal: 50.6s\tremaining: 32.9s\n",
            "606:\tlearn: 0.2586339\ttotal: 50.7s\tremaining: 32.8s\n",
            "607:\tlearn: 0.2586227\ttotal: 50.7s\tremaining: 32.7s\n",
            "608:\tlearn: 0.2586069\ttotal: 50.8s\tremaining: 32.6s\n",
            "609:\tlearn: 0.2585859\ttotal: 50.9s\tremaining: 32.5s\n",
            "610:\tlearn: 0.2585710\ttotal: 50.9s\tremaining: 32.4s\n",
            "611:\tlearn: 0.2585585\ttotal: 51s\tremaining: 32.3s\n",
            "612:\tlearn: 0.2585394\ttotal: 51.1s\tremaining: 32.3s\n",
            "613:\tlearn: 0.2585206\ttotal: 51.2s\tremaining: 32.2s\n",
            "614:\tlearn: 0.2584955\ttotal: 51.3s\tremaining: 32.1s\n",
            "615:\tlearn: 0.2584720\ttotal: 51.4s\tremaining: 32s\n",
            "616:\tlearn: 0.2584551\ttotal: 51.4s\tremaining: 31.9s\n",
            "617:\tlearn: 0.2584423\ttotal: 51.5s\tremaining: 31.8s\n",
            "618:\tlearn: 0.2584189\ttotal: 51.6s\tremaining: 31.8s\n",
            "619:\tlearn: 0.2583976\ttotal: 51.7s\tremaining: 31.7s\n",
            "620:\tlearn: 0.2583849\ttotal: 51.8s\tremaining: 31.6s\n",
            "621:\tlearn: 0.2583645\ttotal: 51.8s\tremaining: 31.5s\n",
            "622:\tlearn: 0.2583413\ttotal: 51.9s\tremaining: 31.4s\n",
            "623:\tlearn: 0.2583278\ttotal: 52s\tremaining: 31.3s\n",
            "624:\tlearn: 0.2583104\ttotal: 52.1s\tremaining: 31.2s\n",
            "625:\tlearn: 0.2582925\ttotal: 52.1s\tremaining: 31.2s\n",
            "626:\tlearn: 0.2582723\ttotal: 52.2s\tremaining: 31.1s\n",
            "627:\tlearn: 0.2582488\ttotal: 52.3s\tremaining: 31s\n",
            "628:\tlearn: 0.2582219\ttotal: 52.4s\tremaining: 30.9s\n",
            "629:\tlearn: 0.2582020\ttotal: 52.5s\tremaining: 30.8s\n",
            "630:\tlearn: 0.2581762\ttotal: 52.6s\tremaining: 30.7s\n",
            "631:\tlearn: 0.2581572\ttotal: 52.6s\tremaining: 30.6s\n",
            "632:\tlearn: 0.2581406\ttotal: 52.7s\tremaining: 30.6s\n",
            "633:\tlearn: 0.2581210\ttotal: 52.8s\tremaining: 30.5s\n",
            "634:\tlearn: 0.2581032\ttotal: 52.9s\tremaining: 30.4s\n",
            "635:\tlearn: 0.2580811\ttotal: 52.9s\tremaining: 30.3s\n",
            "636:\tlearn: 0.2580647\ttotal: 53s\tremaining: 30.2s\n",
            "637:\tlearn: 0.2580393\ttotal: 53.1s\tremaining: 30.1s\n",
            "638:\tlearn: 0.2580178\ttotal: 53.2s\tremaining: 30s\n",
            "639:\tlearn: 0.2579962\ttotal: 53.3s\tremaining: 30s\n",
            "640:\tlearn: 0.2579765\ttotal: 53.3s\tremaining: 29.9s\n",
            "641:\tlearn: 0.2579565\ttotal: 53.4s\tremaining: 29.8s\n",
            "642:\tlearn: 0.2579383\ttotal: 53.5s\tremaining: 29.7s\n",
            "643:\tlearn: 0.2579146\ttotal: 53.6s\tremaining: 29.6s\n",
            "644:\tlearn: 0.2578974\ttotal: 53.7s\tremaining: 29.5s\n",
            "645:\tlearn: 0.2578708\ttotal: 53.8s\tremaining: 29.5s\n",
            "646:\tlearn: 0.2578576\ttotal: 53.8s\tremaining: 29.4s\n",
            "647:\tlearn: 0.2578380\ttotal: 53.9s\tremaining: 29.3s\n",
            "648:\tlearn: 0.2578098\ttotal: 54s\tremaining: 29.2s\n",
            "649:\tlearn: 0.2577922\ttotal: 54.1s\tremaining: 29.1s\n",
            "650:\tlearn: 0.2577719\ttotal: 54.2s\tremaining: 29s\n",
            "651:\tlearn: 0.2577491\ttotal: 54.3s\tremaining: 29s\n",
            "652:\tlearn: 0.2577322\ttotal: 54.3s\tremaining: 28.9s\n",
            "653:\tlearn: 0.2577086\ttotal: 54.4s\tremaining: 28.8s\n",
            "654:\tlearn: 0.2576868\ttotal: 54.5s\tremaining: 28.7s\n",
            "655:\tlearn: 0.2576659\ttotal: 54.6s\tremaining: 28.6s\n",
            "656:\tlearn: 0.2576398\ttotal: 54.7s\tremaining: 28.5s\n",
            "657:\tlearn: 0.2576136\ttotal: 54.8s\tremaining: 28.5s\n",
            "658:\tlearn: 0.2576002\ttotal: 54.8s\tremaining: 28.4s\n",
            "659:\tlearn: 0.2575844\ttotal: 54.9s\tremaining: 28.3s\n",
            "660:\tlearn: 0.2575734\ttotal: 55s\tremaining: 28.2s\n",
            "661:\tlearn: 0.2575561\ttotal: 55.1s\tremaining: 28.1s\n",
            "662:\tlearn: 0.2575385\ttotal: 55.1s\tremaining: 28s\n",
            "663:\tlearn: 0.2575207\ttotal: 55.2s\tremaining: 27.9s\n",
            "664:\tlearn: 0.2575067\ttotal: 55.3s\tremaining: 27.9s\n",
            "665:\tlearn: 0.2574870\ttotal: 55.4s\tremaining: 27.8s\n",
            "666:\tlearn: 0.2574658\ttotal: 55.4s\tremaining: 27.7s\n",
            "667:\tlearn: 0.2574484\ttotal: 55.5s\tremaining: 27.6s\n",
            "668:\tlearn: 0.2574384\ttotal: 55.6s\tremaining: 27.5s\n",
            "669:\tlearn: 0.2574202\ttotal: 55.7s\tremaining: 27.4s\n",
            "670:\tlearn: 0.2574009\ttotal: 55.8s\tremaining: 27.3s\n",
            "671:\tlearn: 0.2573811\ttotal: 55.8s\tremaining: 27.3s\n",
            "672:\tlearn: 0.2573666\ttotal: 55.9s\tremaining: 27.2s\n",
            "673:\tlearn: 0.2573456\ttotal: 56s\tremaining: 27.1s\n",
            "674:\tlearn: 0.2573195\ttotal: 56.1s\tremaining: 27s\n",
            "675:\tlearn: 0.2572897\ttotal: 56.2s\tremaining: 26.9s\n",
            "676:\tlearn: 0.2572698\ttotal: 56.2s\tremaining: 26.8s\n",
            "677:\tlearn: 0.2572464\ttotal: 56.3s\tremaining: 26.7s\n",
            "678:\tlearn: 0.2572292\ttotal: 56.4s\tremaining: 26.7s\n",
            "679:\tlearn: 0.2572058\ttotal: 56.5s\tremaining: 26.6s\n",
            "680:\tlearn: 0.2571854\ttotal: 56.6s\tremaining: 26.5s\n",
            "681:\tlearn: 0.2571604\ttotal: 56.7s\tremaining: 26.4s\n",
            "682:\tlearn: 0.2571407\ttotal: 56.8s\tremaining: 26.4s\n",
            "683:\tlearn: 0.2571193\ttotal: 56.9s\tremaining: 26.3s\n",
            "684:\tlearn: 0.2570989\ttotal: 57s\tremaining: 26.2s\n",
            "685:\tlearn: 0.2570795\ttotal: 57.1s\tremaining: 26.1s\n",
            "686:\tlearn: 0.2570614\ttotal: 57.2s\tremaining: 26s\n",
            "687:\tlearn: 0.2570459\ttotal: 57.3s\tremaining: 26s\n",
            "688:\tlearn: 0.2570305\ttotal: 57.3s\tremaining: 25.9s\n",
            "689:\tlearn: 0.2570125\ttotal: 57.4s\tremaining: 25.8s\n",
            "690:\tlearn: 0.2569900\ttotal: 57.5s\tremaining: 25.7s\n",
            "691:\tlearn: 0.2569739\ttotal: 57.6s\tremaining: 25.6s\n",
            "692:\tlearn: 0.2569491\ttotal: 57.7s\tremaining: 25.6s\n",
            "693:\tlearn: 0.2569273\ttotal: 57.8s\tremaining: 25.5s\n",
            "694:\tlearn: 0.2569021\ttotal: 57.9s\tremaining: 25.4s\n",
            "695:\tlearn: 0.2568824\ttotal: 58s\tremaining: 25.3s\n",
            "696:\tlearn: 0.2568588\ttotal: 58.1s\tremaining: 25.3s\n",
            "697:\tlearn: 0.2568440\ttotal: 58.2s\tremaining: 25.2s\n",
            "698:\tlearn: 0.2568244\ttotal: 58.3s\tremaining: 25.1s\n",
            "699:\tlearn: 0.2568039\ttotal: 58.4s\tremaining: 25s\n",
            "700:\tlearn: 0.2567923\ttotal: 58.4s\tremaining: 24.9s\n",
            "701:\tlearn: 0.2567714\ttotal: 58.6s\tremaining: 24.9s\n",
            "702:\tlearn: 0.2567521\ttotal: 58.6s\tremaining: 24.8s\n",
            "703:\tlearn: 0.2567390\ttotal: 58.7s\tremaining: 24.7s\n",
            "704:\tlearn: 0.2566993\ttotal: 58.8s\tremaining: 24.6s\n",
            "705:\tlearn: 0.2566839\ttotal: 58.9s\tremaining: 24.5s\n",
            "706:\tlearn: 0.2566692\ttotal: 59s\tremaining: 24.5s\n",
            "707:\tlearn: 0.2566424\ttotal: 59.1s\tremaining: 24.4s\n",
            "708:\tlearn: 0.2566304\ttotal: 59.2s\tremaining: 24.3s\n",
            "709:\tlearn: 0.2566172\ttotal: 59.3s\tremaining: 24.2s\n",
            "710:\tlearn: 0.2565903\ttotal: 59.4s\tremaining: 24.1s\n",
            "711:\tlearn: 0.2565737\ttotal: 59.4s\tremaining: 24s\n",
            "712:\tlearn: 0.2565597\ttotal: 59.5s\tremaining: 24s\n",
            "713:\tlearn: 0.2565443\ttotal: 59.6s\tremaining: 23.9s\n",
            "714:\tlearn: 0.2565284\ttotal: 59.7s\tremaining: 23.8s\n",
            "715:\tlearn: 0.2565167\ttotal: 59.8s\tremaining: 23.7s\n",
            "716:\tlearn: 0.2564986\ttotal: 59.9s\tremaining: 23.6s\n",
            "717:\tlearn: 0.2564743\ttotal: 59.9s\tremaining: 23.5s\n",
            "718:\tlearn: 0.2564640\ttotal: 1m\tremaining: 23.5s\n",
            "719:\tlearn: 0.2564490\ttotal: 1m\tremaining: 23.4s\n",
            "720:\tlearn: 0.2564314\ttotal: 1m\tremaining: 23.3s\n",
            "721:\tlearn: 0.2564135\ttotal: 1m\tremaining: 23.2s\n",
            "722:\tlearn: 0.2563990\ttotal: 1m\tremaining: 23.1s\n",
            "723:\tlearn: 0.2563902\ttotal: 1m\tremaining: 23s\n",
            "724:\tlearn: 0.2563749\ttotal: 1m\tremaining: 22.9s\n",
            "725:\tlearn: 0.2563599\ttotal: 1m\tremaining: 22.9s\n",
            "726:\tlearn: 0.2563475\ttotal: 1m\tremaining: 22.8s\n",
            "727:\tlearn: 0.2563200\ttotal: 1m\tremaining: 22.7s\n",
            "728:\tlearn: 0.2562966\ttotal: 1m\tremaining: 22.6s\n",
            "729:\tlearn: 0.2562839\ttotal: 1m\tremaining: 22.5s\n",
            "730:\tlearn: 0.2562708\ttotal: 1m\tremaining: 22.4s\n",
            "731:\tlearn: 0.2562601\ttotal: 1m 1s\tremaining: 22.3s\n",
            "732:\tlearn: 0.2562393\ttotal: 1m 1s\tremaining: 22.3s\n",
            "733:\tlearn: 0.2562217\ttotal: 1m 1s\tremaining: 22.2s\n",
            "734:\tlearn: 0.2561959\ttotal: 1m 1s\tremaining: 22.1s\n",
            "735:\tlearn: 0.2561763\ttotal: 1m 1s\tremaining: 22s\n",
            "736:\tlearn: 0.2561663\ttotal: 1m 1s\tremaining: 21.9s\n",
            "737:\tlearn: 0.2561492\ttotal: 1m 1s\tremaining: 21.8s\n",
            "738:\tlearn: 0.2561295\ttotal: 1m 1s\tremaining: 21.7s\n",
            "739:\tlearn: 0.2561101\ttotal: 1m 1s\tremaining: 21.7s\n",
            "740:\tlearn: 0.2560934\ttotal: 1m 1s\tremaining: 21.6s\n",
            "741:\tlearn: 0.2560760\ttotal: 1m 1s\tremaining: 21.5s\n",
            "742:\tlearn: 0.2560635\ttotal: 1m 1s\tremaining: 21.4s\n",
            "743:\tlearn: 0.2560413\ttotal: 1m 1s\tremaining: 21.3s\n",
            "744:\tlearn: 0.2560251\ttotal: 1m 2s\tremaining: 21.2s\n",
            "745:\tlearn: 0.2560075\ttotal: 1m 2s\tremaining: 21.2s\n",
            "746:\tlearn: 0.2559881\ttotal: 1m 2s\tremaining: 21.1s\n",
            "747:\tlearn: 0.2559733\ttotal: 1m 2s\tremaining: 21s\n",
            "748:\tlearn: 0.2559645\ttotal: 1m 2s\tremaining: 20.9s\n",
            "749:\tlearn: 0.2559444\ttotal: 1m 2s\tremaining: 20.8s\n",
            "750:\tlearn: 0.2559298\ttotal: 1m 2s\tremaining: 20.7s\n",
            "751:\tlearn: 0.2559144\ttotal: 1m 2s\tremaining: 20.6s\n",
            "752:\tlearn: 0.2558900\ttotal: 1m 2s\tremaining: 20.6s\n",
            "753:\tlearn: 0.2558709\ttotal: 1m 2s\tremaining: 20.5s\n",
            "754:\tlearn: 0.2558549\ttotal: 1m 2s\tremaining: 20.4s\n",
            "755:\tlearn: 0.2558402\ttotal: 1m 2s\tremaining: 20.3s\n",
            "756:\tlearn: 0.2558251\ttotal: 1m 2s\tremaining: 20.2s\n",
            "757:\tlearn: 0.2558075\ttotal: 1m 3s\tremaining: 20.1s\n",
            "758:\tlearn: 0.2557927\ttotal: 1m 3s\tremaining: 20s\n",
            "759:\tlearn: 0.2557812\ttotal: 1m 3s\tremaining: 20s\n",
            "760:\tlearn: 0.2557637\ttotal: 1m 3s\tremaining: 19.9s\n",
            "761:\tlearn: 0.2557516\ttotal: 1m 3s\tremaining: 19.8s\n",
            "762:\tlearn: 0.2557339\ttotal: 1m 3s\tremaining: 19.7s\n",
            "763:\tlearn: 0.2557072\ttotal: 1m 3s\tremaining: 19.6s\n",
            "764:\tlearn: 0.2556858\ttotal: 1m 3s\tremaining: 19.5s\n",
            "765:\tlearn: 0.2556703\ttotal: 1m 3s\tremaining: 19.5s\n",
            "766:\tlearn: 0.2556534\ttotal: 1m 3s\tremaining: 19.4s\n",
            "767:\tlearn: 0.2556473\ttotal: 1m 3s\tremaining: 19.3s\n",
            "768:\tlearn: 0.2556185\ttotal: 1m 3s\tremaining: 19.2s\n",
            "769:\tlearn: 0.2555953\ttotal: 1m 4s\tremaining: 19.1s\n",
            "770:\tlearn: 0.2555810\ttotal: 1m 4s\tremaining: 19s\n",
            "771:\tlearn: 0.2555614\ttotal: 1m 4s\tremaining: 19s\n",
            "772:\tlearn: 0.2555466\ttotal: 1m 4s\tremaining: 18.9s\n",
            "773:\tlearn: 0.2555294\ttotal: 1m 4s\tremaining: 18.8s\n",
            "774:\tlearn: 0.2555031\ttotal: 1m 4s\tremaining: 18.7s\n",
            "775:\tlearn: 0.2554854\ttotal: 1m 4s\tremaining: 18.6s\n",
            "776:\tlearn: 0.2554662\ttotal: 1m 4s\tremaining: 18.5s\n",
            "777:\tlearn: 0.2554442\ttotal: 1m 4s\tremaining: 18.5s\n",
            "778:\tlearn: 0.2554314\ttotal: 1m 4s\tremaining: 18.4s\n",
            "779:\tlearn: 0.2554115\ttotal: 1m 4s\tremaining: 18.3s\n",
            "780:\tlearn: 0.2553926\ttotal: 1m 4s\tremaining: 18.2s\n",
            "781:\tlearn: 0.2553684\ttotal: 1m 5s\tremaining: 18.1s\n",
            "782:\tlearn: 0.2553459\ttotal: 1m 5s\tremaining: 18s\n",
            "783:\tlearn: 0.2553314\ttotal: 1m 5s\tremaining: 18s\n",
            "784:\tlearn: 0.2553137\ttotal: 1m 5s\tremaining: 17.9s\n",
            "785:\tlearn: 0.2552841\ttotal: 1m 5s\tremaining: 17.8s\n",
            "786:\tlearn: 0.2552707\ttotal: 1m 5s\tremaining: 17.7s\n",
            "787:\tlearn: 0.2552551\ttotal: 1m 5s\tremaining: 17.6s\n",
            "788:\tlearn: 0.2552426\ttotal: 1m 5s\tremaining: 17.5s\n",
            "789:\tlearn: 0.2552262\ttotal: 1m 5s\tremaining: 17.5s\n",
            "790:\tlearn: 0.2552171\ttotal: 1m 5s\tremaining: 17.4s\n",
            "791:\tlearn: 0.2552026\ttotal: 1m 5s\tremaining: 17.3s\n",
            "792:\tlearn: 0.2551793\ttotal: 1m 5s\tremaining: 17.2s\n",
            "793:\tlearn: 0.2551613\ttotal: 1m 5s\tremaining: 17.1s\n",
            "794:\tlearn: 0.2551443\ttotal: 1m 6s\tremaining: 17s\n",
            "795:\tlearn: 0.2551322\ttotal: 1m 6s\tremaining: 16.9s\n",
            "796:\tlearn: 0.2551147\ttotal: 1m 6s\tremaining: 16.9s\n",
            "797:\tlearn: 0.2550954\ttotal: 1m 6s\tremaining: 16.8s\n",
            "798:\tlearn: 0.2550785\ttotal: 1m 6s\tremaining: 16.7s\n",
            "799:\tlearn: 0.2550622\ttotal: 1m 6s\tremaining: 16.6s\n",
            "800:\tlearn: 0.2550501\ttotal: 1m 6s\tremaining: 16.5s\n",
            "801:\tlearn: 0.2550277\ttotal: 1m 6s\tremaining: 16.4s\n",
            "802:\tlearn: 0.2550112\ttotal: 1m 6s\tremaining: 16.4s\n",
            "803:\tlearn: 0.2549980\ttotal: 1m 6s\tremaining: 16.3s\n",
            "804:\tlearn: 0.2549837\ttotal: 1m 6s\tremaining: 16.2s\n",
            "805:\tlearn: 0.2549705\ttotal: 1m 6s\tremaining: 16.1s\n",
            "806:\tlearn: 0.2549492\ttotal: 1m 6s\tremaining: 16s\n",
            "807:\tlearn: 0.2549310\ttotal: 1m 7s\tremaining: 15.9s\n",
            "808:\tlearn: 0.2549127\ttotal: 1m 7s\tremaining: 15.9s\n",
            "809:\tlearn: 0.2548981\ttotal: 1m 7s\tremaining: 15.8s\n",
            "810:\tlearn: 0.2548869\ttotal: 1m 7s\tremaining: 15.7s\n",
            "811:\tlearn: 0.2548733\ttotal: 1m 7s\tremaining: 15.6s\n",
            "812:\tlearn: 0.2548560\ttotal: 1m 7s\tremaining: 15.5s\n",
            "813:\tlearn: 0.2548368\ttotal: 1m 7s\tremaining: 15.4s\n",
            "814:\tlearn: 0.2548184\ttotal: 1m 7s\tremaining: 15.3s\n",
            "815:\tlearn: 0.2548030\ttotal: 1m 7s\tremaining: 15.3s\n",
            "816:\tlearn: 0.2547841\ttotal: 1m 7s\tremaining: 15.2s\n",
            "817:\tlearn: 0.2547671\ttotal: 1m 7s\tremaining: 15.1s\n",
            "818:\tlearn: 0.2547498\ttotal: 1m 7s\tremaining: 15s\n",
            "819:\tlearn: 0.2547351\ttotal: 1m 8s\tremaining: 14.9s\n",
            "820:\tlearn: 0.2547199\ttotal: 1m 8s\tremaining: 14.8s\n",
            "821:\tlearn: 0.2547069\ttotal: 1m 8s\tremaining: 14.8s\n",
            "822:\tlearn: 0.2546882\ttotal: 1m 8s\tremaining: 14.7s\n",
            "823:\tlearn: 0.2546634\ttotal: 1m 8s\tremaining: 14.6s\n",
            "824:\tlearn: 0.2546531\ttotal: 1m 8s\tremaining: 14.5s\n",
            "825:\tlearn: 0.2546369\ttotal: 1m 8s\tremaining: 14.4s\n",
            "826:\tlearn: 0.2546161\ttotal: 1m 8s\tremaining: 14.3s\n",
            "827:\tlearn: 0.2545990\ttotal: 1m 8s\tremaining: 14.3s\n",
            "828:\tlearn: 0.2545768\ttotal: 1m 8s\tremaining: 14.2s\n",
            "829:\tlearn: 0.2545645\ttotal: 1m 8s\tremaining: 14.1s\n",
            "830:\tlearn: 0.2545489\ttotal: 1m 8s\tremaining: 14s\n",
            "831:\tlearn: 0.2545329\ttotal: 1m 9s\tremaining: 13.9s\n",
            "832:\tlearn: 0.2545112\ttotal: 1m 9s\tremaining: 13.9s\n",
            "833:\tlearn: 0.2544941\ttotal: 1m 9s\tremaining: 13.8s\n",
            "834:\tlearn: 0.2544750\ttotal: 1m 9s\tremaining: 13.7s\n",
            "835:\tlearn: 0.2544533\ttotal: 1m 9s\tremaining: 13.6s\n",
            "836:\tlearn: 0.2544394\ttotal: 1m 9s\tremaining: 13.5s\n",
            "837:\tlearn: 0.2544139\ttotal: 1m 9s\tremaining: 13.4s\n",
            "838:\tlearn: 0.2544019\ttotal: 1m 9s\tremaining: 13.4s\n",
            "839:\tlearn: 0.2543794\ttotal: 1m 9s\tremaining: 13.3s\n",
            "840:\tlearn: 0.2543560\ttotal: 1m 9s\tremaining: 13.2s\n",
            "841:\tlearn: 0.2543416\ttotal: 1m 9s\tremaining: 13.1s\n",
            "842:\tlearn: 0.2543215\ttotal: 1m 10s\tremaining: 13s\n",
            "843:\tlearn: 0.2543004\ttotal: 1m 10s\tremaining: 13s\n",
            "844:\tlearn: 0.2542797\ttotal: 1m 10s\tremaining: 12.9s\n",
            "845:\tlearn: 0.2542656\ttotal: 1m 10s\tremaining: 12.8s\n",
            "846:\tlearn: 0.2542536\ttotal: 1m 10s\tremaining: 12.7s\n",
            "847:\tlearn: 0.2542330\ttotal: 1m 10s\tremaining: 12.6s\n",
            "848:\tlearn: 0.2542127\ttotal: 1m 10s\tremaining: 12.6s\n",
            "849:\tlearn: 0.2541970\ttotal: 1m 10s\tremaining: 12.5s\n",
            "850:\tlearn: 0.2541886\ttotal: 1m 10s\tremaining: 12.4s\n",
            "851:\tlearn: 0.2541685\ttotal: 1m 10s\tremaining: 12.3s\n",
            "852:\tlearn: 0.2541584\ttotal: 1m 11s\tremaining: 12.2s\n",
            "853:\tlearn: 0.2541408\ttotal: 1m 11s\tremaining: 12.2s\n",
            "854:\tlearn: 0.2541225\ttotal: 1m 11s\tremaining: 12.1s\n",
            "855:\tlearn: 0.2541052\ttotal: 1m 11s\tremaining: 12s\n",
            "856:\tlearn: 0.2540919\ttotal: 1m 11s\tremaining: 11.9s\n",
            "857:\tlearn: 0.2540769\ttotal: 1m 11s\tremaining: 11.8s\n",
            "858:\tlearn: 0.2540574\ttotal: 1m 11s\tremaining: 11.8s\n",
            "859:\tlearn: 0.2540503\ttotal: 1m 11s\tremaining: 11.7s\n",
            "860:\tlearn: 0.2540372\ttotal: 1m 11s\tremaining: 11.6s\n",
            "861:\tlearn: 0.2540225\ttotal: 1m 11s\tremaining: 11.5s\n",
            "862:\tlearn: 0.2540053\ttotal: 1m 11s\tremaining: 11.4s\n",
            "863:\tlearn: 0.2539838\ttotal: 1m 12s\tremaining: 11.3s\n",
            "864:\tlearn: 0.2539667\ttotal: 1m 12s\tremaining: 11.3s\n",
            "865:\tlearn: 0.2539560\ttotal: 1m 12s\tremaining: 11.2s\n",
            "866:\tlearn: 0.2539391\ttotal: 1m 12s\tremaining: 11.1s\n",
            "867:\tlearn: 0.2539168\ttotal: 1m 12s\tremaining: 11s\n",
            "868:\tlearn: 0.2539065\ttotal: 1m 12s\tremaining: 10.9s\n",
            "869:\tlearn: 0.2538896\ttotal: 1m 12s\tremaining: 10.9s\n",
            "870:\tlearn: 0.2538752\ttotal: 1m 12s\tremaining: 10.8s\n",
            "871:\tlearn: 0.2538617\ttotal: 1m 12s\tremaining: 10.7s\n",
            "872:\tlearn: 0.2538433\ttotal: 1m 12s\tremaining: 10.6s\n",
            "873:\tlearn: 0.2538254\ttotal: 1m 12s\tremaining: 10.5s\n",
            "874:\tlearn: 0.2538092\ttotal: 1m 13s\tremaining: 10.4s\n",
            "875:\tlearn: 0.2537973\ttotal: 1m 13s\tremaining: 10.4s\n",
            "876:\tlearn: 0.2537797\ttotal: 1m 13s\tremaining: 10.3s\n",
            "877:\tlearn: 0.2537615\ttotal: 1m 13s\tremaining: 10.2s\n",
            "878:\tlearn: 0.2537475\ttotal: 1m 13s\tremaining: 10.1s\n",
            "879:\tlearn: 0.2537310\ttotal: 1m 13s\tremaining: 10s\n",
            "880:\tlearn: 0.2537173\ttotal: 1m 13s\tremaining: 9.94s\n",
            "881:\tlearn: 0.2537014\ttotal: 1m 13s\tremaining: 9.85s\n",
            "882:\tlearn: 0.2536856\ttotal: 1m 13s\tremaining: 9.77s\n",
            "883:\tlearn: 0.2536716\ttotal: 1m 13s\tremaining: 9.69s\n",
            "884:\tlearn: 0.2536606\ttotal: 1m 13s\tremaining: 9.6s\n",
            "885:\tlearn: 0.2536389\ttotal: 1m 13s\tremaining: 9.52s\n",
            "886:\tlearn: 0.2536231\ttotal: 1m 14s\tremaining: 9.43s\n",
            "887:\tlearn: 0.2536084\ttotal: 1m 14s\tremaining: 9.35s\n",
            "888:\tlearn: 0.2535939\ttotal: 1m 14s\tremaining: 9.27s\n",
            "889:\tlearn: 0.2535778\ttotal: 1m 14s\tremaining: 9.18s\n",
            "890:\tlearn: 0.2535636\ttotal: 1m 14s\tremaining: 9.1s\n",
            "891:\tlearn: 0.2535452\ttotal: 1m 14s\tremaining: 9.02s\n",
            "892:\tlearn: 0.2535326\ttotal: 1m 14s\tremaining: 8.93s\n",
            "893:\tlearn: 0.2535107\ttotal: 1m 14s\tremaining: 8.85s\n",
            "894:\tlearn: 0.2535001\ttotal: 1m 14s\tremaining: 8.77s\n",
            "895:\tlearn: 0.2534752\ttotal: 1m 14s\tremaining: 8.68s\n",
            "896:\tlearn: 0.2534620\ttotal: 1m 14s\tremaining: 8.6s\n",
            "897:\tlearn: 0.2534474\ttotal: 1m 14s\tremaining: 8.52s\n",
            "898:\tlearn: 0.2534327\ttotal: 1m 15s\tremaining: 8.43s\n",
            "899:\tlearn: 0.2534176\ttotal: 1m 15s\tremaining: 8.35s\n",
            "900:\tlearn: 0.2534038\ttotal: 1m 15s\tremaining: 8.27s\n",
            "901:\tlearn: 0.2533873\ttotal: 1m 15s\tremaining: 8.18s\n",
            "902:\tlearn: 0.2533672\ttotal: 1m 15s\tremaining: 8.1s\n",
            "903:\tlearn: 0.2533501\ttotal: 1m 15s\tremaining: 8.02s\n",
            "904:\tlearn: 0.2533349\ttotal: 1m 15s\tremaining: 7.93s\n",
            "905:\tlearn: 0.2533197\ttotal: 1m 15s\tremaining: 7.85s\n",
            "906:\tlearn: 0.2533063\ttotal: 1m 15s\tremaining: 7.76s\n",
            "907:\tlearn: 0.2532914\ttotal: 1m 15s\tremaining: 7.68s\n",
            "908:\tlearn: 0.2532806\ttotal: 1m 15s\tremaining: 7.6s\n",
            "909:\tlearn: 0.2532666\ttotal: 1m 15s\tremaining: 7.51s\n",
            "910:\tlearn: 0.2532480\ttotal: 1m 16s\tremaining: 7.43s\n",
            "911:\tlearn: 0.2532342\ttotal: 1m 16s\tremaining: 7.35s\n",
            "912:\tlearn: 0.2532157\ttotal: 1m 16s\tremaining: 7.26s\n",
            "913:\tlearn: 0.2532009\ttotal: 1m 16s\tremaining: 7.18s\n",
            "914:\tlearn: 0.2531844\ttotal: 1m 16s\tremaining: 7.1s\n",
            "915:\tlearn: 0.2531727\ttotal: 1m 16s\tremaining: 7.01s\n",
            "916:\tlearn: 0.2531540\ttotal: 1m 16s\tremaining: 6.93s\n",
            "917:\tlearn: 0.2531393\ttotal: 1m 16s\tremaining: 6.84s\n",
            "918:\tlearn: 0.2531283\ttotal: 1m 16s\tremaining: 6.76s\n",
            "919:\tlearn: 0.2531079\ttotal: 1m 16s\tremaining: 6.68s\n",
            "920:\tlearn: 0.2530946\ttotal: 1m 16s\tremaining: 6.59s\n",
            "921:\tlearn: 0.2530669\ttotal: 1m 16s\tremaining: 6.51s\n",
            "922:\tlearn: 0.2530483\ttotal: 1m 17s\tremaining: 6.43s\n",
            "923:\tlearn: 0.2530321\ttotal: 1m 17s\tremaining: 6.34s\n",
            "924:\tlearn: 0.2530137\ttotal: 1m 17s\tremaining: 6.26s\n",
            "925:\tlearn: 0.2529998\ttotal: 1m 17s\tremaining: 6.18s\n",
            "926:\tlearn: 0.2529854\ttotal: 1m 17s\tremaining: 6.09s\n",
            "927:\tlearn: 0.2529670\ttotal: 1m 17s\tremaining: 6.01s\n",
            "928:\tlearn: 0.2529477\ttotal: 1m 17s\tremaining: 5.93s\n",
            "929:\tlearn: 0.2529295\ttotal: 1m 17s\tremaining: 5.84s\n",
            "930:\tlearn: 0.2529100\ttotal: 1m 17s\tremaining: 5.76s\n",
            "931:\tlearn: 0.2528911\ttotal: 1m 17s\tremaining: 5.68s\n",
            "932:\tlearn: 0.2528827\ttotal: 1m 17s\tremaining: 5.59s\n",
            "933:\tlearn: 0.2528657\ttotal: 1m 17s\tremaining: 5.51s\n",
            "934:\tlearn: 0.2528533\ttotal: 1m 18s\tremaining: 5.42s\n",
            "935:\tlearn: 0.2528346\ttotal: 1m 18s\tremaining: 5.34s\n",
            "936:\tlearn: 0.2528123\ttotal: 1m 18s\tremaining: 5.26s\n",
            "937:\tlearn: 0.2527961\ttotal: 1m 18s\tremaining: 5.17s\n",
            "938:\tlearn: 0.2527780\ttotal: 1m 18s\tremaining: 5.09s\n",
            "939:\tlearn: 0.2527624\ttotal: 1m 18s\tremaining: 5.01s\n",
            "940:\tlearn: 0.2527427\ttotal: 1m 18s\tremaining: 4.92s\n",
            "941:\tlearn: 0.2527308\ttotal: 1m 18s\tremaining: 4.84s\n",
            "942:\tlearn: 0.2527200\ttotal: 1m 18s\tremaining: 4.76s\n",
            "943:\tlearn: 0.2527128\ttotal: 1m 18s\tremaining: 4.67s\n",
            "944:\tlearn: 0.2526962\ttotal: 1m 18s\tremaining: 4.59s\n",
            "945:\tlearn: 0.2526821\ttotal: 1m 18s\tremaining: 4.51s\n",
            "946:\tlearn: 0.2526624\ttotal: 1m 19s\tremaining: 4.42s\n",
            "947:\tlearn: 0.2526452\ttotal: 1m 19s\tremaining: 4.34s\n",
            "948:\tlearn: 0.2526348\ttotal: 1m 19s\tremaining: 4.26s\n",
            "949:\tlearn: 0.2526177\ttotal: 1m 19s\tremaining: 4.17s\n",
            "950:\tlearn: 0.2525984\ttotal: 1m 19s\tremaining: 4.09s\n",
            "951:\tlearn: 0.2525759\ttotal: 1m 19s\tremaining: 4s\n",
            "952:\tlearn: 0.2525556\ttotal: 1m 19s\tremaining: 3.92s\n",
            "953:\tlearn: 0.2525336\ttotal: 1m 19s\tremaining: 3.84s\n",
            "954:\tlearn: 0.2525217\ttotal: 1m 19s\tremaining: 3.75s\n",
            "955:\tlearn: 0.2525061\ttotal: 1m 19s\tremaining: 3.67s\n",
            "956:\tlearn: 0.2524937\ttotal: 1m 19s\tremaining: 3.59s\n",
            "957:\tlearn: 0.2524709\ttotal: 1m 19s\tremaining: 3.5s\n",
            "958:\tlearn: 0.2524571\ttotal: 1m 20s\tremaining: 3.42s\n",
            "959:\tlearn: 0.2524391\ttotal: 1m 20s\tremaining: 3.34s\n",
            "960:\tlearn: 0.2524301\ttotal: 1m 20s\tremaining: 3.25s\n",
            "961:\tlearn: 0.2524076\ttotal: 1m 20s\tremaining: 3.17s\n",
            "962:\tlearn: 0.2523929\ttotal: 1m 20s\tremaining: 3.09s\n",
            "963:\tlearn: 0.2523823\ttotal: 1m 20s\tremaining: 3s\n",
            "964:\tlearn: 0.2523664\ttotal: 1m 20s\tremaining: 2.92s\n",
            "965:\tlearn: 0.2523517\ttotal: 1m 20s\tremaining: 2.84s\n",
            "966:\tlearn: 0.2523344\ttotal: 1m 20s\tremaining: 2.75s\n",
            "967:\tlearn: 0.2523193\ttotal: 1m 20s\tremaining: 2.67s\n",
            "968:\tlearn: 0.2523041\ttotal: 1m 20s\tremaining: 2.59s\n",
            "969:\tlearn: 0.2522935\ttotal: 1m 20s\tremaining: 2.5s\n",
            "970:\tlearn: 0.2522763\ttotal: 1m 21s\tremaining: 2.42s\n",
            "971:\tlearn: 0.2522629\ttotal: 1m 21s\tremaining: 2.33s\n",
            "972:\tlearn: 0.2522436\ttotal: 1m 21s\tremaining: 2.25s\n",
            "973:\tlearn: 0.2522285\ttotal: 1m 21s\tremaining: 2.17s\n",
            "974:\tlearn: 0.2522122\ttotal: 1m 21s\tremaining: 2.08s\n",
            "975:\tlearn: 0.2521993\ttotal: 1m 21s\tremaining: 2s\n",
            "976:\tlearn: 0.2521806\ttotal: 1m 21s\tremaining: 1.92s\n",
            "977:\tlearn: 0.2521623\ttotal: 1m 21s\tremaining: 1.83s\n",
            "978:\tlearn: 0.2521534\ttotal: 1m 21s\tremaining: 1.75s\n",
            "979:\tlearn: 0.2521337\ttotal: 1m 21s\tremaining: 1.67s\n",
            "980:\tlearn: 0.2521145\ttotal: 1m 21s\tremaining: 1.58s\n",
            "981:\tlearn: 0.2521018\ttotal: 1m 21s\tremaining: 1.5s\n",
            "982:\tlearn: 0.2520828\ttotal: 1m 22s\tremaining: 1.42s\n",
            "983:\tlearn: 0.2520692\ttotal: 1m 22s\tremaining: 1.33s\n",
            "984:\tlearn: 0.2520492\ttotal: 1m 22s\tremaining: 1.25s\n",
            "985:\tlearn: 0.2520379\ttotal: 1m 22s\tremaining: 1.17s\n",
            "986:\tlearn: 0.2520254\ttotal: 1m 22s\tremaining: 1.08s\n",
            "987:\tlearn: 0.2520115\ttotal: 1m 22s\tremaining: 1s\n",
            "988:\tlearn: 0.2520026\ttotal: 1m 22s\tremaining: 918ms\n",
            "989:\tlearn: 0.2519908\ttotal: 1m 22s\tremaining: 834ms\n",
            "990:\tlearn: 0.2519677\ttotal: 1m 22s\tremaining: 751ms\n",
            "991:\tlearn: 0.2519470\ttotal: 1m 22s\tremaining: 668ms\n",
            "992:\tlearn: 0.2519330\ttotal: 1m 22s\tremaining: 584ms\n",
            "993:\tlearn: 0.2519226\ttotal: 1m 22s\tremaining: 501ms\n",
            "994:\tlearn: 0.2519038\ttotal: 1m 23s\tremaining: 418ms\n",
            "995:\tlearn: 0.2518827\ttotal: 1m 23s\tremaining: 334ms\n",
            "996:\tlearn: 0.2518628\ttotal: 1m 23s\tremaining: 251ms\n",
            "997:\tlearn: 0.2518464\ttotal: 1m 23s\tremaining: 167ms\n",
            "998:\tlearn: 0.2518329\ttotal: 1m 23s\tremaining: 83.6ms\n",
            "999:\tlearn: 0.2518195\ttotal: 1m 23s\tremaining: 0us\n",
            "0.6609435034670911\n"
          ]
        }
      ]
    },
    {
      "cell_type": "markdown",
      "source": [
        "**RESULTS**\n",
        "\n",
        "\n",
        "---\n",
        "\n"
      ],
      "metadata": {
        "id": "B_9GPeX78-gY"
      }
    },
    {
      "cell_type": "code",
      "source": [
        "print(classification_report(y_val,y_pred_cat))"
      ],
      "metadata": {
        "colab": {
          "base_uri": "https://localhost:8080/"
        },
        "id": "CiS3G0vr0j6L",
        "outputId": "0cae5a79-9b03-4726-9360-273fedd3ea6c"
      },
      "execution_count": null,
      "outputs": [
        {
          "output_type": "stream",
          "name": "stdout",
          "text": [
            "              precision    recall  f1-score   support\n",
            "\n",
            "           0       0.52      0.36      0.42     27777\n",
            "           1       0.72      0.82      0.77     95797\n",
            "           2       0.45      0.23      0.30     27677\n",
            "           3       0.53      0.64      0.58     46701\n",
            "           4       0.98      0.95      0.96     21973\n",
            "\n",
            "    accuracy                           0.66    219925\n",
            "   macro avg       0.64      0.60      0.61    219925\n",
            "weighted avg       0.65      0.66      0.64    219925\n",
            "\n"
          ]
        }
      ]
    },
    {
      "cell_type": "code",
      "source": [
        "y_pred_cat_prob = model2.predict_proba(X_val)\n",
        "y_pred_cat_prob.shape"
      ],
      "metadata": {
        "colab": {
          "base_uri": "https://localhost:8080/"
        },
        "id": "cG7w705Pptes",
        "outputId": "3d6ea1b7-81f2-4861-a760-9adbc8a24776"
      },
      "execution_count": null,
      "outputs": [
        {
          "output_type": "execute_result",
          "data": {
            "text/plain": [
              "(219925, 5)"
            ]
          },
          "metadata": {},
          "execution_count": 83
        }
      ]
    },
    {
      "cell_type": "code",
      "source": [
        "y_pred_cat_prob\n",
        "y_pred_cat_prob = y_pred_cat_prob / np.sum(y_pred_cat_prob, axis=1, keepdims=True)"
      ],
      "metadata": {
        "id": "9iRr6VOhxAzh"
      },
      "execution_count": null,
      "outputs": []
    },
    {
      "cell_type": "code",
      "source": [
        "print(roc_auc_score(y_val,y_pred_cat_prob, multi_class = 'ovr'))"
      ],
      "metadata": {
        "colab": {
          "base_uri": "https://localhost:8080/"
        },
        "id": "QMWIfrkQvOSE",
        "outputId": "452ea6bf-0463-477b-dd9c-05d7a4a3acc6"
      },
      "execution_count": null,
      "outputs": [
        {
          "output_type": "stream",
          "name": "stdout",
          "text": [
            "0.8767976627584142\n"
          ]
        }
      ]
    },
    {
      "cell_type": "code",
      "source": [
        "\n",
        "y_val_bin = label_binarize(y_val, classes=np.unique(y_val))\n",
        "fpr = dict()\n",
        "tpr = dict()\n",
        "roc_auc = dict()\n",
        "\n",
        "for i in range(len(np.unique(y_val))):\n",
        "    fpr[i], tpr[i], _ = roc_curve(y_val_bin[:, i], y_pred_cat_prob[:, i])\n",
        "    roc_auc[i] = auc(fpr[i], tpr[i])\n",
        "\n",
        "plt.figure()\n",
        "lw = 2\n",
        "\n",
        "for i, color in zip(range(len(np.unique(y_val))), ['red', 'green', 'blue','orange','black']):\n",
        "    plt.plot(fpr[i], tpr[i], color=color, lw=lw,\n",
        "             label='ROC curve of class {0} (area = {1:0.2f})'.format(i, roc_auc[i]))\n",
        "\n",
        "plt.plot([0, 1], [0, 1], color='navy', lw=lw, linestyle='--')\n",
        "plt.xlim([0.0, 1.0])\n",
        "plt.ylim([0.0, 1.05])\n",
        "plt.xlabel('False Positive Rate')\n",
        "plt.ylabel('True Positive Rate')\n",
        "plt.title('Multiclass ROC Curve')\n",
        "plt.legend(loc=\"lower right\")\n",
        "plt.show()"
      ],
      "metadata": {
        "colab": {
          "base_uri": "https://localhost:8080/",
          "height": 472
        },
        "id": "P5ePNsV1p7wV",
        "outputId": "e5d81ad6-64c2-433f-9e95-c73a052d9399"
      },
      "execution_count": null,
      "outputs": [
        {
          "output_type": "display_data",
          "data": {
            "text/plain": [
              "<Figure size 640x480 with 1 Axes>"
            ],
            "image/png": "[encoded data removed]"
          },
          "metadata": {}
        }
      ]
    },
    {
      "cell_type": "code",
      "source": [
        "y_recap = le.inverse_transform(y)\n",
        "print(np.unique(y_recap))"
      ],
      "metadata": {
        "colab": {
          "base_uri": "https://localhost:8080/"
        },
        "id": "JjG6UgoUswRE",
        "outputId": "d3a5890d-b80a-4036-ac0a-389950fc7022"
      },
      "execution_count": null,
      "outputs": [
        {
          "output_type": "stream",
          "name": "stdout",
          "text": [
            "['B' 'H' 'O' 'W' 'X']\n"
          ]
        }
      ]
    },
    {
      "cell_type": "markdown",
      "source": [
        "**Based on the plot above, we may deduce that individuals of race \"X\" are more likely to commit crimes followed by Hispanics, with scores of 0.89 and 0.99, respectively.**"
      ],
      "metadata": {
        "id": "RT1PlGFp_lDu"
      }
    },
    {
      "cell_type": "code",
      "source": [],
      "metadata": {
        "id": "ClR2l9P4AbJ_"
      },
      "execution_count": null,
      "outputs": []
    }
  ],
  "metadata": {
    "colab": {
      "provenance": [],
      "machine_shape": "hm",
      "gpuType": "V100"
    },
    "kernelspec": {
      "display_name": "Python 3",
      "name": "python3"
    },
    "language_info": {
      "name": "python"
    },
    "accelerator": "GPU"
  },
  "nbformat": 4,
  "nbformat_minor": 0
}